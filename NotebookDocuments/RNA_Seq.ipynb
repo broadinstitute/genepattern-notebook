{
 "metadata": {
  "colabVersion": "0.1",
  "name": "",
  "signature": "sha256:1039c2745e501f579628dbfdbc38ae4999d72805d93a786aa60268d5bb6e40bc"
 },
 "nbformat": 3,
 "nbformat_minor": 0,
 "worksheets": [
  {
   "cells": [
    {
     "cell_type": "markdown",
     "metadata": {},
     "source": [
      "#Using GenePattern for RNA-Seq Differential Expression Analysis and Gene Set Enrichment Analysis"
     ]
    },
    {
     "cell_type": "markdown",
     "metadata": {},
     "source": [
      "##RNA-SEQ DIFFERENTIAL EXPRESSION ANALYSIS \n",
      "The computational workflow supporting the differential expression (DE) analysis of RNA-Seq data typically consists of eight high-level steps.  GenePattern supports modules for conducting each of these steps, as illustrate below."
     ]
    },
    {
     "cell_type": "markdown",
     "metadata": {},
     "source": [
      "<img src=\"Slide08.png\">"
     ]
    },
    {
     "cell_type": "markdown",
     "metadata": {},
     "source": [
      "This executable GenePattern Notebook document demonstrates the use of these modules by recapitulating and extending (employing gene set enrichment analysis) some of the findings of a 2014 study of changes in gene expression in airway smooth muscle cells in response to treatment with Glucocorticoids:\n"
     ]
    },
    {
     "cell_type": "markdown",
     "metadata": {},
     "source": [
      "<img src=\"paper_title.png\">"
     ]
    },
    {
     "cell_type": "raw",
     "metadata": {},
     "source": []
    },
    {
     "cell_type": "markdown",
     "metadata": {},
     "source": [
      "The paper's authors, using an in vitro model, ran RNA-Seq experiments to comprehensively characterize changes in the transcriptome of airway smooth muscle (ASM) cells  in response to treatment with Glucocorticoids (GCs), a common class of medications used to treat inflammatory diseases, including Asthma.  One of the study's goals was to increase understanding of how GCs work in ASM cells to alleviate Asthma symptoms.\n",
      "\n",
      "ASM cells were isolated and cultured from lung tissue of four donors.  Total RNA was extracted from control and treated ASM cells from each donor culture, yielding 8 total samples, 4 untreated and 4 treated.  Treatment consisted of exposure to dexamethasone, a synthetic glucocorticoid  (1 M for 18 hours).\n",
      "\n",
      "Sequencing of 75 bp paired-end reads was performed with an Illumina HiSeq 2000 instrument at the Partners HealthCare Center for Personalized Genetic Medicine (Boston, MA).   Preliminary processing of raw reads was performed using Casava 1.8 (Illumina, Inc., San Diego, CA).  \n",
      "\n",
      "Data from the study is publicly available from NCBI/GEO/SRA: \n",
      "http://www.ncbi.nlm.nih.gov/geo/query/acc.cgi?acc=GSE52778 \n",
      "\n",
      "\n",
      "This GenePattern Notebook document reproduces the results of the publication using GenePattern's collection of RNA-Seq modules to implement the following steps:\n",
      "\n",
      "- Multiple runs of the *SraToGct* module to retrieve RNA-Seq read data from NCBI\u2019s SRA site and convert it from the compressed SRA format to the FASTQ format.\n",
      "- Multiple runs of the *FastQC* module [Babraham Institute, 2012] to assess the quality of the experimental short-read data.\n",
      "- Multiple runs of the *Trimmomatic* module to address, through read trimming and filtering, quality issues detected by the FastQC module runs.\n",
      "- Multple runs of the *TopHat* module to align the reads to a human reference transcriptome.\n",
      "- A single run of the *CuffDiff* module to summarize/quantitate the aligned reads, normalize the resulting expression estimates and conduct differential expression analysis.\n",
      "- A single run of the *CummeRbund* module to plot and tabulate the CuffDiff results\n",
      "- A single run of the *Read_group_trackingToGct module to generate a GCT-formated gene expression dataset\n",
      "- A single run of the *GSEA* module to identify gene sets that are coordinately up- or down-regulated across the two conditions (untreated and treated).\n",
      "\n",
      "It does this through scripted python code, contained in GenePattern Notebook code cells, that drives the running of the jobs on the GenePattern public server.  Due to the large amount of data and complexity of the analysis, running throught he computational workflow end-to-end can take several hours.  We have, however, retained on the public GenePattern server the results of earlier-run jobs constituting a previous end-to-end run of the workflows.  The GenePattern Notebook document provides users with the ability to reference and review the job results from this previously run workflow.\n",
      "\n",
      "In addition to the scripted workflow, the GenePattern Notebook can also present the user with form-based GUIs for launching individual jobs and reviewing job status of individual jobs.  We also demonstrate this capability.\n",
      "\n",
      "Each step begins with a code cell whose execution results in the display of a run task form for the GenePattern module employed in that step.  That code cell is followed by a code cell for displaying the job results of an earlier run of that module.  (Note that these earlier run jobs were run on the Broad-hosted public server and will only be accessible if the workflow is configured to use that GenePattern server.)\n",
      "\n",
      "**This workflow captured in this document, however, operates on data from multiple samples, and many of the steps required the running of multiple jobs, one for each sample. Thus, within each step, we follow the two initial code cells with a code cell that when run programmatically  drives the launching of all jobs required for that step in the workflow.  It is the running of these code cells that drive the full computational workflow.**\n",
      "\n",
      "\n",
      "Here is a list of the samples employed in this exercise:\n",
      "\n",
      "<table>\n",
      "<tr>\n",
      "<th>Donor ID</th>\n",
      "<th>Phenotype</th>\n",
      "<th>SRN run accession</th>\n",
      "<th>Base Read Count (Gbp)</th>\n",
      "</tr>\n",
      "<tr>\n",
      "<td>N061311</td>\n",
      "<td>untreated</td>\n",
      "<td>SRR1039508</td>\n",
      "<td>2.9</td>\n",
      "</tr>\n",
      "<tr>\n",
      "<td>N061311</td>\n",
      "<td>treated</td>\n",
      "<td>SRR1039509</td>\n",
      "<td>2.7</td>\n",
      "</tr>\n",
      "<tr>\n",
      "<td>N052611</td>\n",
      "<td>untreated</td>\n",
      "<td>SRR1039512</td>\n",
      "<td>3.5</td>\n",
      "</tr>\n",
      "<tr>\n",
      "<td>N052611</td>\n",
      "<td>treated</td>\n",
      "<td>SRR1039513</td>\n",
      "<td>3.8</td>\n",
      "</tr>\n",
      "<tr>\n",
      "<td>N080611</td>\n",
      "<td>untreated</td>\n",
      "<td>SRR1039516</td>\n",
      "<td>3.6</td>\n",
      "</tr>\n",
      "<tr>\n",
      "<td>N080611</td>\n",
      "<td>treated</td>\n",
      "<td>SRR1039517</td>\n",
      "<td>4.3</td>\n",
      "</tr>\n",
      "<tr>\n",
      "<td>N061011</td>\n",
      "<td>untreated</td>\n",
      "<td>SRR1039520</td>\n",
      "<td>3.5</td>\n",
      "</tr>\n",
      "<tr>\n",
      "<td>N061011</td>\n",
      "<td>treated</td>\n",
      "<td>SRR1039521</td>\n",
      "<td>4.1</td>\n",
      "</tr>\n",
      "</table>\n",
      "\n",
      "\n",
      "The data the authors posted to NCBI/SRA had already undergone some preliminary trimming.  Using the FastQC tool to obtain QC metrics, the authors observed sequence bias in the initial 12 bases on the 5\u2019 ends of reads.  The first 12 bases of all reads were trimmed (using the FASTX toolkit), and the trimmed data was submitted to SRA.  Thus, the reported read length is 63 bp rather than 75 bp."
     ]
    },
    {
     "cell_type": "markdown",
     "metadata": {},
     "source": [
      "##Runtimes\n",
      "\n",
      "<table>\n",
      "<tr>\n",
      "<th>Donor ID</th>\n",
      "<th>Phenotype</th>\n",
      "<th>SRN run accession</th>\n",
      "<th>Base Read Count (Gbp)</th>\n",
      "<th>SraToFastQc<br>runtime (hh:mm:ss)</th>\n",
      "<th>FastQC<br>runtime (hh:mm:ss)</th>\n",
      "<th>Trimmomatic<br>runtime (hh:mm:ss)</th>\n",
      "<th>TopHat<br>runtime (hh:mm:ss)</th>\n",
      "</tr>\n",
      "<tr>\n",
      "<td>N061311</td>\n",
      "<td>untreated</td>\n",
      "<td>SRR1039508</td>\n",
      "<td>2.9</td>\n",
      "<td>1:11:52</td>\n",
      "<td><i>_1</i> 0:7:10<br><i>_2</i> 0:6:43</td>\n",
      "<td>0:49:11</td>\n",
      "<td>2:14:4</td>\n",
      "</tr>\n",
      "<tr>\n",
      "<td>N061311</td>\n",
      "<td>treated</td>\n",
      "<td>SRR1039509</td>\n",
      "<td>2.7</td>\n",
      "<td>1:4:39</td>\n",
      "<td><i>_1</i> 0:5:59<br><i>_2</i> 0:6:56</td>\n",
      "<td>0:42:1</td>\n",
      "<td>1:34:11</td>\n",
      "</tr>\n",
      "<tr>\n",
      "<td>N052611</td>\n",
      "<td>untreated</td>\n",
      "<td>SRR1039512</td>\n",
      "<td>3.5</td>\n",
      "<td>1:30:29</td>\n",
      "<td><i>_1</i> 0:19:9<br><i>_2</i> 0:9:57</td>\n",
      "<td>1:3:37</td>\n",
      "<td>2:13:36</td>\n",
      "</tr>\n",
      "<tr>\n",
      "<td>N052611</td>\n",
      "<td>treated</td>\n",
      "<td>SRR1039513</td>\n",
      "<td>3.8</td>\n",
      "<td>1:46:27</td>\n",
      "<td><i>_1</i> 0:12:0<br><i>_2</i> 0:12:55</td>\n",
      "<td>0:41:41</td>\n",
      "<td>1:13:27</td>\n",
      "</tr>\n",
      "<tr>\n",
      "<td>N080611</td>\n",
      "<td>untreated</td>\n",
      "<td>SRR1039516</td>\n",
      "<td>3.6</td>\n",
      "<td>1:32:13</td>\n",
      "<td><i>_1</i> 0:20:0<br><i>_2</i> 0:12:66</td>\n",
      "<td>1:9:11</td>\n",
      "<td>2:14:12</td>\n",
      "</tr>\n",
      "<tr>\n",
      "<td>N080611</td>\n",
      "<td>treated</td>\n",
      "<td>SRR1039517</td>\n",
      "<td>4.3</td>\n",
      "<td>1:47:11</td>\n",
      "<td><i>_1</i> 0:10:22<br><i>_2</i> 0:22:19</td> \n",
      "<td>1:22:34</td>\n",
      "<td>2:42:23</td>\n",
      "</tr>\n",
      "<tr>\n",
      "<td>N061011</td>\n",
      "<td>untreated</td>\n",
      "<td>SRR1039520</td>\n",
      "<td>3.5</td>\n",
      "<td>1:33:43</td>\n",
      "<td><i>_1</i> 0:5:47<br><i>_2</i> 0:10:10</td>\n",
      "<td>1:2:27</td>\n",
      "<td>2:42:22</td>\n",
      "</tr>\n",
      "<tr>\n",
      "<td>N061011</td>\n",
      "<td>treated</td>\n",
      "<td>SRR1039521</td>\n",
      "<td>4.1</td>\n",
      "<td>1:48:47</td>\n",
      "<td><i>_1</i> 0:6:59<br><i>_2</i> 0:20:15</td>\n",
      "<td>1:1:1</td>\n",
      "<td>01:58:50</td>\n",
      "</tr>\n",
      "</table>\n",
      "\n"
     ]
    },
    {
     "cell_type": "markdown",
     "metadata": {},
     "source": [
      "<table>\n",
      "<tr>\n",
      "<th>module</th>\n",
      "<th>runtime (hh:mm:ss)</th>\n",
      "</tr>\n",
      "<tr>\n",
      "<td>Cuffdiff</td>\n",
      "<td>44:4:47</td>\n",
      "</tr>\n",
      "<tr>\n",
      "<td>CummeRbund</td>\n",
      "<td>0:6:29</td>\n",
      "</tr>\n",
      "<tr>\n",
      "<td>Read_group_trackingToGct</td>\n",
      "<td>0:0:36</td>\n",
      "</tr>\n",
      "<tr>\n",
      "<td>GSEA</td>\n",
      "<td>0:6:36</td>\n",
      "</tr>\n",
      "</table>"
     ]
    },
    {
     "cell_type": "markdown",
     "metadata": {},
     "source": [
      "##GenePattern Notebook Setup\n",
      "Before running individual jobs, it is necessary to initialize the GenePattern notebook's execution environment.  We begin with a code cell that, when executed, initializes that enviornment.  This includes identifying the GenePattern Server on which jobs will be run, and user credentials for accessing that server. \n",
      "\n",
      "This code cell also defines functions for saving session state to a file and loading session state from a file.  The code cell specifies the path to the local file containing the serialized session state (a json file).  The session state is a nested python dictionary capturing state information (such as urls to jobs and output files) that accumulates over the course of the workflow. If the json file already exists, the code cell loads the session state from the file, otherwise it initializes a new, empty dictionary object to serve as the session state.\n",
      "\n",
      "**Eventually we will want to introduce widgets so the GenePattern URL, user credentials, and json session state file are not hardcoded into the GenePattern Notebook document, but rather specified at run time.**"
     ]
    },
    {
     "cell_type": "code",
     "collapsed": false,
     "input": [
      "# imports genepattern extensions genepattern.py and client.py\n",
      "# all three files must reside in the ~/.ipython/extensions directory\n",
      "%reload_ext genepattern\n",
      "\n",
      "# imports python modules required to run GenePattern Notebook App\n",
      "import os\n",
      "import sys\n",
      "import jsonpickle\n",
      "import client as gp\n",
      "\n",
      "def load_session_state(session_file):\n",
      "    with open(session_file, 'r') as infile:\n",
      "        return jsonpickle.decode(infile.read())\n",
      "    \n",
      "def save_session_state(session_state, session_file):\n",
      "    with open(session_file, 'w') as outfile:\n",
      "        outfile.write(jsonpickle.encode(session_state))\n",
      "\n",
      "# record genepattern server url and account information\n",
      "\n",
      "#GenePattern_Server_URL = \"http://genepattern.broadinstitute.org/gp\"\n",
      "#userID = \"CBB.test\"\n",
      "#password = \"password\"\n",
      "GenePattern_Server_URL = \"http://gp.indiana.edu/gp\"\n",
      "userID = \"CBB.test\"\n",
      "password = \"redsox\"\n",
      "            \n",
      "serverData = gp.ServerData(GenePattern_Server_URL, userID, password)\n",
      "\n",
      "# initialize python session state\n",
      "local_output_dir = \"/Users/birger\"\n",
      "session_file_name = \"RNA_Seq_Notebook_sessionfile_1222.json\"\n",
      "session_file = os.path.join(local_output_dir, session_file_name)\n",
      "if os.path.isfile(session_file):\n",
      "   session_state = load_session_state(session_file)\n",
      "else:\n",
      "   session_state = {}\n",
      "   save_session_state(session_state, session_file)\n"
     ],
     "language": "python",
     "metadata": {
      "cellView": null,
      "executionInfo": null
     },
     "outputs": [
      {
       "output_type": "stream",
       "stream": "stdout",
       "text": [
        "GenePattern IPython Module Loaded!\n"
       ]
      }
     ],
     "prompt_number": 37
    },
    {
     "cell_type": "markdown",
     "metadata": {},
     "source": [
      "The following code cell records the donor id, phenotype label and SRA run accession for each of the experiment's samples."
     ]
    },
    {
     "cell_type": "code",
     "collapsed": false,
     "input": [
      "from collections import namedtuple\n",
      "\n",
      "donor_dict = {}\n",
      "phenotypes_dict = {'untreated': None, 'treated': None}\n",
      "\n",
      "untreated_data_dict = {'accession': \"SRR1039508\"}\n",
      "treated_data_dict = {'accession': \"SRR1039509\"}\n",
      "donor_dict[\"N061311\"] = {\"untreated\": untreated_data_dict, \"treated\": treated_data_dict}\n",
      "\n",
      "untreated_data_dict = {'accession': \"SRR1039512\"}\n",
      "treated_data_dict = {'accession': \"SRR1039513\"}\n",
      "donor_dict[\"N052611\"] = {\"untreated\": untreated_data_dict, \"treated\": treated_data_dict}\n",
      "\n",
      "untreated_data_dict = {'accession': \"SRR1039516\"}\n",
      "treated_data_dict = {'accession': \"SRR1039517\"}\n",
      "donor_dict[\"N080611\"] = {\"untreated\": untreated_data_dict, \"treated\": treated_data_dict}\n",
      "\n",
      "untreated_data_dict = {'accession': \"SRR1039520\"}\n",
      "treated_data_dict = {'accession': \"SRR1039521\"}\n",
      "donor_dict[\"N061011\"] = {\"untreated\": untreated_data_dict, \"treated\": treated_data_dict}\n",
      "\n",
      "session_state[\"donor_dict\"] = donor_dict\n",
      "\n",
      "save_session_state(session_state, session_file)\n"
     ],
     "language": "python",
     "metadata": {},
     "outputs": [],
     "prompt_number": 4
    },
    {
     "cell_type": "markdown",
     "metadata": {},
     "source": [
      "#STEP 1: Retrieve the SRA files from NCBI and convert them to FASTQ files\n",
      "\n",
      "We begin by calling on GenePattern\u2019s SraToFastQ module to retrieve the RNA-Seq read data from NCBI\u2019s SRA site and convert it from the compressed SRA format to the FASTQ format.  We provide SraToFastQ with a sample\u2019s SRA run accession number.  The module retrieves the data, in SRA format, from the NCBI site and converts it into two paired FASTQ-formatted files.  The module needs to be run eight times, once for each sample."
     ]
    },
    {
     "cell_type": "markdown",
     "metadata": {},
     "source": [
      "## Widget-based job launch for single sample\n",
      "\n",
      "Executing the following code cell will result in the display of SraToFastQ's run task form.  To retrieve the data from SRA run accession number SRR1039508, set the form's fields as folllows:\n",
      "\n",
      "- accession = SRR1039508\n",
      "- paired end = yes\n",
      "- output compression = gzip\n",
      "- leave the remaining fields as is\n",
      "\n",
      "Click \u201cRun\u201d.  The expected run time for the job is approximately 1 hour.\n",
      "\n",
      "**In this prototype, the get_task magic command requires specifying the GenePatter_Server_URL, the userID and password explicitly. This will obviously need to be changed...you can't have user credentials hardcoded into the document.**\n"
     ]
    },
    {
     "cell_type": "code",
     "collapsed": false,
     "input": [
      "%get_task http://gp.indiana.edu/gp CBB.test redsox SraToFastQ"
     ],
     "language": "python",
     "metadata": {},
     "outputs": [],
     "prompt_number": 5
    },
    {
     "cell_type": "markdown",
     "metadata": {},
     "source": [
      "## Widget-based retrieval of job status\n",
      "\n",
      "Executing the following code cell displays the job results page for a previously run instance of the SraToFastQ module.  \"971929\" is the GenePattern job number for that run."
     ]
    },
    {
     "cell_type": "code",
     "collapsed": false,
     "input": [
      "%get_job http://genepattern.broadinstitute.org/gp CBB.test password 971929"
     ],
     "language": "python",
     "metadata": {},
     "outputs": []
    },
    {
     "cell_type": "markdown",
     "metadata": {},
     "source": [
      "## Programmatic launching of jobs for multiple samples\n",
      "\n",
      "The following code cell executes the SraToFastQc module 8 times, once for each of the experiment's samples (each sample identified by its own SRA run accession number).  After launching each job, the code records in the GenePattern notebook document's execution environment the corresponding GenePattern job number.  As an alternative to running these 8 jobs, you can execute the code cell that follows it.  That code cell records in the exeuction environment the job numbers from a previously run set of SraToFastQc jobs.\n"
     ]
    },
    {
     "cell_type": "code",
     "collapsed": false,
     "input": [
      "# EXECUTING THIS CELL LAUNCHES SraToFastQc JOBS FOR EACH OF THE EXPERIMENT'S SAMPLES AND RECORDS\n",
      "# THE RESULTING JOB NUMBERS IN THE GENEPATTERN NOTEBOOK EXECUTION ENVIRONMENT.\n",
      "\n",
      "session_state = load_session_state(session_file)\n",
      "\n",
      "LSID = \"urn:lsid:broad.mit.edu:cancer.software.genepattern.module.analysis:00344:0.5\"\n",
      "paired_end = \"yes\"\n",
      "output_compression = \"gzip\"\n",
      "donor_dict = session_state[\"donor_dict\"]\n",
      "for donor_id in donor_dict:\n",
      " \n",
      "    #untreated\n",
      "    untreated_sample_data = donor_dict[donor_id][\"untreated\"]\n",
      "    accession = untreated_sample_data['accession']\n",
      "    \n",
      "    job_spec = gp.JobSpec()\n",
      "    job_spec.set_server_data(serverData)\n",
      "    job_spec.set_lsid(LSID)\n",
      "    job_spec.set_parameter(\"accession\", accession)\n",
      "    job_spec.set_parameter(\"paired.end\", paired_end)\n",
      "    job_spec.set_parameter(\"output.compression\", output_compression)\n",
      "    job = serverData.run_job(job_spec, wait_until_done = False)\n",
      "    untreated_sample_data['sraToFastq_job_uri'] = job.uri\n",
      "                          \n",
      "    #treated\n",
      "    treated_sample_data = donor_dict[donor_id][\"treated\"]\n",
      "    accession = treated_sample_data['accession']\n",
      "    \n",
      "    job_spec = gp.JobSpec()\n",
      "    job_spec.set_server_data(serverData)\n",
      "    job_spec.set_lsid(LSID)\n",
      "    job_spec.set_parameter(\"accession\", accession)\n",
      "    job_spec.set_parameter(\"paired.end\", paired_end)\n",
      "    job_spec.set_parameter(\"output.compression\", output_compression)\n",
      "    job = serverData.run_job(job_spec, wait_until_done = False)\n",
      "    treated_sample_data['sraToFastq_job_uri'] = job.uri\n",
      "    \n",
      "save_session_state(session_state, session_file)\n"
     ],
     "language": "python",
     "metadata": {},
     "outputs": [],
     "prompt_number": 6
    },
    {
     "cell_type": "markdown",
     "metadata": {},
     "source": [
      "The following code cell polls the GenePattern server for the status of the SraToFastQ jobs whose job numbers were recorded in either of the two previous cells.  When all jobs are completed, URLs to the resulting fastq files are recorded in the notebook session's execution state."
     ]
    },
    {
     "cell_type": "code",
     "collapsed": false,
     "input": [
      "# Note that we reconstitute the job objects from the job URLs, temporarily store the job objects in session state, but \n",
      "# delete the job objects prior to saving the session state in a json file.  This is because the package we use for serialization\n",
      "# (jsonpickle) does not work well with user defined classes.\n",
      "\n",
      "session_state = load_session_state(session_file)\n",
      "\n",
      "donor_dict = session_state['donor_dict']\n",
      "sraToFastq_jobs = []\n",
      "for donor_id in donor_dict:\n",
      "    \n",
      "    #untreated\n",
      "    untreated_sample_data = donor_dict[donor_id][\"untreated\"]\n",
      "    untreated_sample_data['sraToFastq_job'] = gp.GPJob(untreated_sample_data[\"sraToFastq_job_uri\"])\n",
      "    sraToFastq_jobs.append(untreated_sample_data['sraToFastq_job'])\n",
      "    \n",
      "    #treated\n",
      "    treated_sample_data = donor_dict[donor_id][\"treated\"]\n",
      "    treated_sample_data['sraToFastq_job'] = gp.GPJob(treated_sample_data['sraToFastq_job_uri'])\n",
      "    sraToFastq_jobs.append(treated_sample_data['sraToFastq_job'])\n",
      "\n",
      "# Poll GenePattern until all jobs associated with above code cell are complete\n",
      "serverData.poll_multiple_jobs(sraToFastq_jobs)\n",
      "\n",
      "for donor_id in donor_dict:\n",
      "    \n",
      "    #untreated\n",
      "    untreated_sample_data = donor_dict[donor_id][\"untreated\"]\n",
      "    job = untreated_sample_data['sraToFastq_job']\n",
      "    untreated_sample_data['sraToFastq_fwd_reads'] = [gpfile.uri for gpfile in job.get_output_files() if \"_1.fastq\" in gpfile.uri][0]\n",
      "    untreated_sample_data['sraToFastq_rvs_reads'] = [gpfile.uri for gpfile in job.get_output_files() if \"_2.fastq\" in gpfile.uri][0]\n",
      "    del untreated_sample_data['sraToFastq_job']\n",
      "    \n",
      "    #treated\n",
      "    treated_sample_data = donor_dict[donor_id][\"treated\"]\n",
      "    job = treated_sample_data['sraToFastq_job']\n",
      "    treated_sample_data['sraToFastq_fwd_reads'] = [gpfile.uri for gpfile in job.get_output_files() if \"_1.fastq\" in gpfile.uri][0]\n",
      "    treated_sample_data['sraToFastq_rvs_reads'] = [gpfile.uri for gpfile in job.get_output_files() if \"_2.fastq\" in gpfile.uri][0]    \n",
      "    del treated_sample_data['sraToFastq_job']\n",
      "\n",
      "save_session_state(session_state, session_file)"
     ],
     "language": "python",
     "metadata": {
      "cellView": null,
      "executionInfo": null
     },
     "outputs": [],
     "prompt_number": 2
    },
    {
     "cell_type": "markdown",
     "metadata": {},
     "source": [
      "#STEP 2: Run FastQC on all fastq files retrieved from NCBI\n",
      "\n",
      "Having retrieved the paired-end FASTQ files from NCBI SRA, we run quality control checks on each of them. To implement this step, we utilize a GenePattern module that runs the FastQC [Babraham Institute, 2012] quality control tool for high sequence throughput data. This tool detects irregularities in the short reads data and generates a report that guides subsequent data trimming and filtering. Typically one would run the FastQC module on each RNA-Seq reads input file. For paired-end experiments, each mate of a pair of read files undergoes FastQC analysis separately. \n"
     ]
    },
    {
     "cell_type": "markdown",
     "metadata": {},
     "source": [
      "## Widget-based job launch for single sample\n",
      "\n",
      "Executing the following code cell will result in the display of FastQC's run task form. \n",
      "\n",
      "- input.file = URL to one of the fastq files generated in Step1\n",
      "- leave the remaining fields as is\n",
      "\n",
      "Click \u201cRun\u201d.  The expected run time for the job is approximately 1 hour.\n"
     ]
    },
    {
     "cell_type": "code",
     "collapsed": false,
     "input": [
      "%get_task http://genepattern.broadinstitute.org/gp CBB.test password FastQC"
     ],
     "language": "python",
     "metadata": {},
     "outputs": []
    },
    {
     "cell_type": "markdown",
     "metadata": {},
     "source": [
      "## Widget-based retrieval of job status\n",
      "\n",
      "Executing the following code cell displays the job results page for a previously run instance of the FastQC module.  \"974693\" is the GenePattern job number for that run."
     ]
    },
    {
     "cell_type": "code",
     "collapsed": false,
     "input": [
      "%get_job http://genepattern.broadinstitute.org/gp CBB.test password 974693"
     ],
     "language": "python",
     "metadata": {},
     "outputs": []
    },
    {
     "cell_type": "markdown",
     "metadata": {},
     "source": [
      "## Programmatic launching of jobs for multiple samples\n",
      "The following code cell executes the FastQC module 16 times, twice (once for each mate of paired end read) for each of the experiment's samples (each sample identified by its own SRA run accession number).  After launching each job, the code records in the GenePattern notebook document's execution environment the corresponding GenePattern job number.  As an alternative to running these 16 jobs, you can execute a different code cell that records in the exeuction environment the job numbers from a previously run set of FastQC jobs.\n"
     ]
    },
    {
     "cell_type": "code",
     "collapsed": false,
     "input": [
      "# EXECUTING THIS CELL LAUNCHES FastQC JOBS FOR EACH OF THE EXPERIMENT'S SAMPLES AND RECORDS\n",
      "# THE RESULTING JOB NUMBERS IN THE GENEPATTERN NOTEBOOK EXECUTION ENVIRONMENT.\n",
      "\n",
      "session_state = load_session_state(session_file)\n",
      "\n",
      "LSID = \"urn:lsid:broad.mit.edu:cancer.software.genepattern.module.analysis:00340:0.5\"\n",
      "paired_end = \"yes\"\n",
      "output_compression = \"gzip\"\n",
      "donor_dict = session_state['donor_dict']\n",
      "for donor_id in donor_dict:\n",
      "    \n",
      "    #untreated\n",
      "    \n",
      "    untreated_sample_data = donor_dict[donor_id][\"untreated\"]\n",
      "\n",
      "    job_spec = gp.JobSpec()\n",
      "    job_spec.set_server_data(serverData)    \n",
      "    job_spec.set_lsid(LSID)\n",
      "    job_spec.set_parameter(\"input.file\", untreated_sample_data['sraToFastq_fwd_reads'])\n",
      "    job = serverData.run_job(job_spec, wait_until_done = False)\n",
      "    untreated_sample_data['fastqc_fwd_job_uri'] = job.uri\n",
      "\n",
      "    job_spec = gp.JobSpec()\n",
      "    job_spec.set_server_data(serverData)    \n",
      "    job_spec.set_lsid(LSID)\n",
      "    job_spec.set_parameter(\"input.file\", untreated_sample_data['sraToFastq_rvs_reads'])\n",
      "    job = serverData.run_job(job_spec, wait_until_done = False)\n",
      "    untreated_sample_data['fastqc_rvs_job_uri'] = job.uri\n",
      "    \n",
      "    #treated\n",
      "    \n",
      "    treated_sample_data = donor_dict[donor_id][\"treated\"]\n",
      "    \n",
      "    job_spec = gp.JobSpec()\n",
      "    job_spec.set_server_data(serverData)    \n",
      "    job_spec.set_lsid(LSID)\n",
      "    job_spec.set_parameter(\"input.file\", treated_sample_data['sraToFastq_fwd_reads'])\n",
      "    job = serverData.run_job(job_spec, wait_until_done = False)\n",
      "    treated_sample_data['fastqc_fwd_job_uri'] = job.uri\n",
      "\n",
      "    job_spec = gp.JobSpec()\n",
      "    job_spec.set_server_data(serverData)    \n",
      "    job_spec.set_lsid(LSID)\n",
      "    job_spec.set_parameter(\"input.file\", treated_sample_data['sraToFastq_rvs_reads'])\n",
      "    job = serverData.run_job(job_spec, wait_until_done = False)\n",
      "    treated_sample_data['fastqc_rvs_job_uri'] = job.uri                         \n",
      "\n",
      "save_session_state(session_state, session_file)"
     ],
     "language": "python",
     "metadata": {},
     "outputs": [],
     "prompt_number": 2
    },
    {
     "cell_type": "markdown",
     "metadata": {},
     "source": [
      "The following code cell polls the GenePattern server for the status of the FastQC jobs whose job numbers were recorded in the previous code cell.  When all jobs are completed, URLs to the resulting report files are recorded in the notebook session's execution state."
     ]
    },
    {
     "cell_type": "code",
     "collapsed": false,
     "input": [
      "\n",
      "session_state = load_session_state(session_file)\n",
      "\n",
      "donor_dict = session_state['donor_dict']\n",
      "fastqc_jobs = []\n",
      "for donor_id in donor_dict:\n",
      "    \n",
      "    #untreated\n",
      "    untreated_sample_data = donor_dict[donor_id][\"untreated\"]\n",
      "    untreated_sample_data['fastqc_fwd_job'] = gp.GPJob(untreated_sample_data['fastqc_fwd_job_uri'])\n",
      "    fastqc_jobs.append(untreated_sample_data['fastqc_fwd_job'])\n",
      "    untreated_sample_data['fastqc_rvs_job'] = gp.GPJob(untreated_sample_data['fastqc_rvs_job_uri'])\n",
      "    fastqc_jobs.append(untreated_sample_data['fastqc_rvs_job'])\n",
      "    \n",
      "    #treated\n",
      "    treated_sample_data = donor_dict[donor_id][\"treated\"]\n",
      "    treated_sample_data['fastqc_fwd_job'] = gp.GPJob(treated_sample_data['fastqc_fwd_job_uri'])    \n",
      "    fastqc_jobs.append(treated_sample_data['fastqc_fwd_job'])\n",
      "    treated_sample_data['fastqc_rvs_job'] = gp.GPJob(treated_sample_data['fastqc_rvs_job_uri'])\n",
      "    fastqc_jobs.append(treated_sample_data['fastqc_rvs_job'])\n",
      "\n",
      "# Poll GenePattern until all jobs associated with above code cell are complete\n",
      "serverData.poll_multiple_jobs(fastqc_jobs)\n",
      "\n",
      "for donor_id in donor_dict:\n",
      "    \n",
      "    #untreated\n",
      "    untreated_sample_data = donor_dict[donor_id][\"untreated\"]\n",
      "    job = untreated_sample_data['fastqc_fwd_job']\n",
      "    untreated_sample_data['fastqc_fwd_report'] = [gpfile.uri for gpfile in job.get_output_files() if \"fastqc_report.html\" in gpfile.uri][0]\n",
      "    del untreated_sample_data['fastqc_fwd_job']\n",
      "    job = untreated_sample_data['fastqc_rvs_job']    \n",
      "    untreated_sample_data['fastqc_rvs_report'] = [gpfile.uri for gpfile in job.get_output_files() if \"fastqc_report.html\" in gpfile.uri][0]\n",
      "    del untreated_sample_data['fastqc_rvs_job']\n",
      "    \n",
      "    #treated\n",
      "    treated_sample_data = donor_dict[donor_id][\"treated\"]\n",
      "    job = treated_sample_data['fastqc_fwd_job']\n",
      "    treated_sample_data['fastqc_fwd_report'] = [gpfile.uri for gpfile in job.get_output_files() if \"fastqc_report.html\" in gpfile.uri][0]\n",
      "    del treated_sample_data['fastqc_fwd_job']\n",
      "    job = treated_sample_data['fastqc_rvs_job']\n",
      "    treated_sample_data['fastqc_rvs_report'] = [gpfile.uri for gpfile in job.get_output_files() if \"fastqc_report.html\" in gpfile.uri][0]\n",
      "    del treated_sample_data['fastqc_rvs_job']\n",
      "\n",
      "save_session_state(session_state, session_file)"
     ],
     "language": "python",
     "metadata": {
      "cellView": null,
      "executionInfo": null
     },
     "outputs": [],
     "prompt_number": 3
    },
    {
     "cell_type": "markdown",
     "metadata": {},
     "source": [
      "The following code cell, when run, displays a widget for revieiwing the results of the FastQC jobs."
     ]
    },
    {
     "cell_type": "code",
     "collapsed": false,
     "input": [
      "session_state = load_session_state(session_file)\n",
      "\n",
      "from IPython.html import widgets\n",
      "from IPython.display import display\n",
      "from IPython.display import clear_output\n",
      "from IPython.display import HTML\n",
      "\n",
      "donor_dict = session_state[\"donor_dict\"]\n",
      "\n",
      "donor_id_list = [None]\n",
      "donor_id_list.extend(session_state[\"donor_dict\"].keys())\n",
      "\n",
      "box = widgets.ContainerWidget()\n",
      "step1 = widgets.DropdownWidget(values= donor_id_list)\n",
      "step2 = widgets.DropdownWidget(values=[None,\"untreated\", \"treated\"], visible=False)\n",
      "step3 = widgets.DropdownWidget(values=[None,\"fastqc_fwd_report\", \"fastqc_rvs_report\"], visible=False)\n",
      "box.children = [step1, step2, step3]\n",
      "display(box)\n",
      "box.remove_class('vbox')\n",
      "box.add_class('hbox')\n",
      "\n",
      "def step1_change(name, old, new):\n",
      "    step2.visible = True\n",
      "step1.on_trait_change(step1_change, 'value')\n",
      "\n",
      "def step2_change(name, old, new):\n",
      "    step3.visible = True\n",
      "step2.on_trait_change(step2_change, 'value')\n",
      "\n",
      "def step3_change(name, old, new):\n",
      "    clear_output()\n",
      "    if step1.value is not None and step2.value is not None and new is not None:\n",
      "        report_url = donor_dict[step1.value][step2.value][new]\n",
      "        print(report_url)\n",
      "        display(HTML('<iframe src=%s width=1000 height=600</iframe>)' % report_url))\n",
      "\n",
      "step3.on_trait_change(step3_change, 'value')"
     ],
     "language": "python",
     "metadata": {},
     "outputs": [
      {
       "output_type": "stream",
       "stream": "stdout",
       "text": [
        "http://gp.indiana.edu/gp/jobResults/1063/SRR1039520_1_fastqc/fastqc_report.html\n"
       ]
      },
      {
       "html": [
        "<iframe src=http://gp.indiana.edu/gp/jobResults/1063/SRR1039520_1_fastqc/fastqc_report.html width=1000 height=600</iframe>)"
       ],
       "metadata": {},
       "output_type": "display_data",
       "text": [
        "<IPython.core.display.HTML at 0x1051c1ad0>"
       ]
      }
     ],
     "prompt_number": 38
    },
    {
     "cell_type": "markdown",
     "metadata": {},
     "source": [
      "#STEP 3: Run Trimmomatic on all paired fastq files\n",
      "\n",
      "Here we will run GenePattern\u2019s Trimmomatic module on each sample\u2019s paired end reads.  The module directly exposes through its GUI six of the most frequently used trimming/filtering operations on raw RNA-seq data.  These are:\n",
      "\n",
      "- Trimming Illumina Adapters\n",
      "- Trimming Leading Low-quality Base Reads\n",
      "- Trimming Trailing Low-quality Base Reads\n",
      "- Sliding Window Quality Trimming\n",
      "- Adaptive Quality Trimming\n",
      "- Minimum-length Read Filtering\n",
      "\n",
      "Here we choose to enable Trimming Illumina Adapters and Minimum-length Read Filtering. \n",
      "\n",
      "Short reads are more likely to align to multiple sites on a reference genome, and thus provide ambiguous information. After adapter clipping operations have been completed, you should filter the reads so that they all satisfy a specified minimum length.  To enable read length filtering, set the min read length.   In this exercise we set the min read length to 50 bp.\n",
      "\n",
      "TopHat\u2019s alignment engine (Bowtie) takes into account base read quality scores when aligning reads.  Thus, if using TopHat as we do, there is no need to conduct quality base trimming.\n",
      "\n",
      "For paired-end input, Trimmomatic creates four FASTQ output files:\n",
      "- Two for the paired output where both reads of a pairing survived the trimming/filtering. Denoted with a _#P in the file name, where # is either 1 or 2.\n",
      "- Two for the leftover unpaired output containing unmatched reads where only one of two paired reads survived trimming/filtering. Denoted with a _#U in the file name, where # is either 1 or 2.\n",
      "\n",
      "For paired-end inputs, it is Trimmomatic's paired output files (containing _#P in their names) that should undergo read alignment in Step 4 below.\n"
     ]
    },
    {
     "cell_type": "markdown",
     "metadata": {},
     "source": [
      "## Widget-based job launch for single sample"
     ]
    },
    {
     "cell_type": "code",
     "collapsed": false,
     "input": [
      "%get_task http://genepattern.broadinstitute.org/gp CBB.test password Trimmomatic"
     ],
     "language": "python",
     "metadata": {},
     "outputs": []
    },
    {
     "cell_type": "markdown",
     "metadata": {},
     "source": [
      "## Widget-based retrieval of job status"
     ]
    },
    {
     "cell_type": "code",
     "collapsed": false,
     "input": [
      "%get_job http://genepattern.broadinstitute.org/gp CBB.test password 973979"
     ],
     "language": "python",
     "metadata": {},
     "outputs": []
    },
    {
     "cell_type": "markdown",
     "metadata": {},
     "source": [
      "## Programmatic launching of jobs for multiple samples"
     ]
    },
    {
     "cell_type": "code",
     "collapsed": false,
     "input": [
      "session_state = load_session_state(session_file)\n",
      "\n",
      "import copy\n",
      "\n",
      "donor_dict = session_state[\"donor_dict\"]\n",
      "\n",
      "LSID = \"urn:lsid:broad.mit.edu:cancer.software.genepattern.module.analysis:00341:1\"\n",
      "\n",
      "output_filename_base = \"<input.file.1_basename>\"\n",
      "phred_encoding = \"phred33\"\n",
      "create_trimlog = \"no\"\n",
      "\n",
      "adapter_clip_sequence_file = \"ftp://gpftp.broadinstitute.org/module_support_files/Trimmomatic_0.32/adapters/TruSeq2-PE.fa\"\n",
      "adapter_clip_seed_mismatches = \"2\"\n",
      "adapter_clip_palindrome_clip_threshold = \"40\"\n",
      "adapter_clip_simple_clip_threshold = \"15\"\n",
      "adapter_clip_keep_both_reads = \"true\"\n",
      "min_read_length = \"50\"\n",
      "output_filename_base = \"<input.file.1_basename>\"\n",
      "phred_encoding = \"phred33\"\n",
      "create_trimlog = \"no\"\n",
      "\n",
      "job_spec_template = gp.JobSpec()\n",
      "job_spec_template.set_lsid(LSID)\n",
      "job_spec_template.set_parameter(\"output.filename.base\", output_filename_base)\n",
      "job_spec_template.set_parameter(\"phred.encoding\", phred_encoding)\n",
      "job_spec_template.set_parameter(\"create.trimlog\", create_trimlog)\n",
      "job_spec_template.set_parameter(\"adapter.clip.sequence.file\", adapter_clip_sequence_file)\n",
      "job_spec_template.set_parameter(\"adapter.clip.seed.mismatches\", adapter_clip_seed_mismatches)\n",
      "job_spec_template.set_parameter(\"adapter.clip.palindrome.clip.threshold\", adapter_clip_palindrome_clip_threshold)\n",
      "job_spec_template.set_parameter(\"adapter.clip.simple.clip.threshold\", adapter_clip_simple_clip_threshold)\n",
      "job_spec_template.set_parameter(\"adapter.clip.keep.both.reads\", adapter_clip_keep_both_reads)\n",
      "job_spec_template.set_parameter(\"min.read.length\", min_read_length)\n",
      "\n",
      "for donor_id in donor_dict:\n",
      "    \n",
      "    #untreated\n",
      "    untreated_sample_data = donor_dict[donor_id][\"untreated\"]\n",
      "                \n",
      "    job_spec = copy.deepcopy(job_spec_template)\n",
      "    job_spec.set_server_data(serverData)    \n",
      "    job_spec.set_parameter(\"input.file.1\", untreated_sample_data['sraToFastq_fwd_reads'])\n",
      "    job_spec.set_parameter(\"input.file.2\", untreated_sample_data['sraToFastq_rvs_reads'])\n",
      "    job = serverData.run_job(job_spec, wait_until_done = False)\n",
      "    untreated_sample_data['trimmomatic_job_uri'] = job.uri\n",
      "    \n",
      "    #treated\n",
      "    treated_sample_data = donor_dict[donor_id][\"treated\"]\n",
      "    \n",
      "    job_spec = copy.deepcopy(job_spec_template)\n",
      "    job_spec.set_server_data(serverData)    \n",
      "    job_spec.set_parameter(\"input.file.1\", treated_sample_data['sraToFastq_fwd_reads'])\n",
      "    job_spec.set_parameter(\"input.file.2\", treated_sample_data['sraToFastq_rvs_reads'])\n",
      "    job = serverData.run_job(job_spec, wait_until_done = False)\n",
      "    treated_sample_data['trimmomatic_job_uri'] = job.uri                 \n",
      "\n",
      "save_session_state(session_state, session_file)"
     ],
     "language": "python",
     "metadata": {},
     "outputs": [],
     "prompt_number": 2
    },
    {
     "cell_type": "code",
     "collapsed": false,
     "input": [
      "session_state = load_session_state(session_file)\n",
      "\n",
      "donor_dict = session_state['donor_dict']\n",
      "trimmomatic_jobs = []\n",
      "for donor_id in donor_dict:\n",
      "    \n",
      "    #untreated\n",
      "    untreated_sample_data = donor_dict[donor_id][\"untreated\"]\n",
      "    untreated_sample_data['trimmomatic_job'] = gp.GPJob(untreated_sample_data['trimmomatic_job_uri'])\n",
      "    trimmomatic_jobs.append(untreated_sample_data['trimmomatic_job'])\n",
      "    \n",
      "    #treated\n",
      "    treated_sample_data = donor_dict[donor_id][\"treated\"]\n",
      "    treated_sample_data['trimmomatic_job'] = gp.GPJob(treated_sample_data['trimmomatic_job_uri'])\n",
      "    trimmomatic_jobs.append(treated_sample_data['trimmomatic_job'])\n",
      "\n",
      "# Poll GenePattern until all jobs associated with above code cell are complete\n",
      "serverData.poll_multiple_jobs(trimmomatic_jobs)\n",
      "\n",
      "for donor_id in donor_dict:\n",
      "    \n",
      "    #untreated\n",
      "    untreated_sample_data = donor_dict[donor_id][\"untreated\"]\n",
      "    job = untreated_sample_data['trimmomatic_job']\n",
      "    untreated_sample_data['trimmomatic_fwd_reads'] = [gpfile.uri for gpfile in job.get_output_files() if \"_1P.fastq.gz\" in gpfile.uri][0]   \n",
      "    untreated_sample_data['trimmomatic_rvs_reads'] = [gpfile.uri for gpfile in job.get_output_files() if \"_2P.fastq.gz\" in gpfile.uri][0]\n",
      "    del untreated_sample_data['trimmomatic_job']\n",
      "    \n",
      "    #treated\n",
      "    treated_sample_data = donor_dict[donor_id][\"treated\"]\n",
      "    job = treated_sample_data['trimmomatic_job']\n",
      "    treated_sample_data['trimmomatic_fwd_reads'] = [gpfile.uri for gpfile in job.get_output_files() if \"_1P.fastq.gz\" in gpfile.uri][0]\n",
      "    treated_sample_data['trimmomatic_rvs_reads'] = [gpfile.uri for gpfile in job.get_output_files() if \"_2P.fastq.gz\" in gpfile.uri][0]    \n",
      "    del treated_sample_data['trimmomatic_job']\n",
      "\n",
      "save_session_state(session_state, session_file)"
     ],
     "language": "python",
     "metadata": {
      "cellView": null,
      "executionInfo": null
     },
     "outputs": [],
     "prompt_number": 3
    },
    {
     "cell_type": "markdown",
     "metadata": {},
     "source": [
      "#STEP 4: Run TopHat to align reads to reference transcriptome\n",
      "\n",
      "TopHat is typically run in one of the following three modes:\n",
      "\n",
      "- **Alignment to the genome only**  If no genome annotation (GTF file) is available, the short sequence reads will be aligned directly to the reference genome. When aligning to the genome only, the optional GTF file and transcriptome index parameters will be left blank. Note that the quantification step requires a genome annotation; thus when aligning to the genome, it will be necessary to assemble the transcripts from the aligned reads and generate a gtf file specifying the assembled transcripts.. \n",
      "- **Annotation-assisted alignment to the genome**  If a genome annotation is available, but it is believed to be incomplete, TopHat may be configured to use the incomplete annotation to assist the alignment to the genome. TopHat will extract the transcript sequences from the provided annotation and use Bowtie to directly align the reads to the known transcripts. Those reads that cannot be aligned directly to the known transcript sequences will then be aligned to the genome.  When conducting annotation-assisted alignment to the genome you must provide TopHat with either a genome annotation file (the GTF file parameter) or a transcriptome index (the transcriptome index parameter). As with genome-only alignment, annotation-assisted alignment requires transcript assembly. \n",
      "- **Alignment to the transcriptome only** If a high-quality reference annotation is available, the short sequence reads can be mapped directly to the known transcript sequences. As is the case with annotation-assisted alignment, TopHat will extract the transcript sequences from the provided annotation and use Bowtie to directly align the reads to the known transcripts. There will be no attempt, however, to map those reads that do not map to the known transcript sequences; these unmapped reads will be dropped from the analysis. This is the least computationally intensive mode of TopHat alignment. When conducting transcriptome only alignment you must provide TopHat with either a genome annotation file (the GTF file parameter) or a transcriptome index (the transcriptome index parameter) and set the transciptome only input option to yes.\n",
      "\n",
      "TopHat records read alignments to a BAM (binary version of SAM) formatted file.  It attaches an score to each alignment.  This alignment score takes into account the read quality scores captured in the input FASTQ files as well as mismatches and indels.\n",
      "\n",
      "In this exercise we will align to the known transcript sequences only, relying on the UCSC hg19 reference annotation.\n"
     ]
    },
    {
     "cell_type": "markdown",
     "metadata": {},
     "source": [
      "## Widget-based job launch for single sample"
     ]
    },
    {
     "cell_type": "code",
     "collapsed": false,
     "input": [
      "%get_task http://genepattern.broadinstitute.org/gp CBB.test password TopHat"
     ],
     "language": "python",
     "metadata": {},
     "outputs": []
    },
    {
     "cell_type": "markdown",
     "metadata": {},
     "source": [
      "## Widget-based retrieval of job status"
     ]
    },
    {
     "cell_type": "code",
     "collapsed": false,
     "input": [
      "%get_job http://genepattern.broadinstitute.org/gp CBB.test password 973995"
     ],
     "language": "python",
     "metadata": {},
     "outputs": []
    },
    {
     "cell_type": "markdown",
     "metadata": {},
     "source": [
      "## Programmatic launching of jobs for multiple samples"
     ]
    },
    {
     "cell_type": "markdown",
     "metadata": {},
     "source": [
      "###First generate a transcriptome index\n",
      "\n",
      "When aligning to the transcriptome only, you must provide TopHat with either a genome annotation file (the GTF file parameter) or a transcriptome index (the transcriptome index parameter). If you specify an annotation file, a transcriptome sequence file is built followed by the creation of the corresponding Bowtie index. Creating the Bowtie index for the transcriptome can be time consuming. With multiple samples, each sample\u2019s reads are aligned to the same reference transciptome . TopHat allows the reuse of a previously created transcriptome index to avoid its costly regeneration in each TopHat run. An initial run of TopHat can be made whose sole purpose is the creation of the transcriptome index: the bowtie index and a GTF file should be set, but the transcriptome index and read pairs parameters left blank. In subsequent runs, the directory containing the generated transcriptome index can be provided via the transcriptome index parameter.\n",
      "\n",
      "Below we first run TopHat to generate a transcriptome index for UCSC\u2019s hg19 reference annotation.  The resulting transcriptome index is then used as input to subsequent runs of TopHat, which align each sample\u2019s trimmed reads to the reference transcriptome.\n"
     ]
    },
    {
     "cell_type": "code",
     "collapsed": false,
     "input": [
      "session_state = load_session_state(session_file)\n",
      "\n",
      "LSID = \"urn:lsid:broad.mit.edu:cancer.software.genepattern.module.analysis:00230:8.7\"\n",
      "\n",
      "bowtie_index = \"ftp://gpftp.broadinstitute.org/module_support_files/bowtie2/index/by_genome/Homo_sapiens_hg19_UCSC/\"\n",
      "gtf_file = \"ftp://gpftp.broadinstitute.org/module_support_files/annotation/gtf/Homo_sapiens_hg19_UCSC.gtf\"\n",
      "\n",
      "job_spec = gp.JobSpec()\n",
      "job_spec.set_server_data(serverData)\n",
      "job_spec.set_lsid(LSID)\n",
      "job_spec.set_parameter(\"bowtie.index\", bowtie_index)\n",
      "job_spec.set_parameter(\"GTF.file\", gtf_file)\n",
      "job = serverData.run_job(job_spec, wait_until_done = False)\n",
      "session_state[\"tophat_transcriptome_index_job_uri\"] = job.uri    \n",
      "\n",
      "save_session_state(session_state, session_file)"
     ],
     "language": "python",
     "metadata": {},
     "outputs": [],
     "prompt_number": 4
    },
    {
     "cell_type": "code",
     "collapsed": false,
     "input": [
      "session_state = load_session_state(session_file)\n",
      "\n",
      "# Poll GenePattern until all jobs associated with above code cell are complete\n",
      "job = gp.GPJob(session_state[\"tophat_transcriptome_index_job_uri\"])\n",
      "serverData.poll_multiple_jobs([job])\n",
      "\n",
      "transcriptome_index_gff = [gpfile.uri for gpfile in job.get_output_files() if \".gff\" in gpfile.uri][0]\n",
      "session_state[\"transcriptome_index\"] = transcriptome_index_gff.rpartition('/')[0]\n",
      "\n",
      "save_session_state(session_state, session_file)\n"
     ],
     "language": "python",
     "metadata": {
      "cellView": null,
      "executionInfo": null
     },
     "outputs": [],
     "prompt_number": 5
    },
    {
     "cell_type": "markdown",
     "metadata": {},
     "source": [
      "###Run tophat on all 8 samples..."
     ]
    },
    {
     "cell_type": "code",
     "collapsed": false,
     "input": [
      "session_state = load_session_state(session_file)\n",
      "\n",
      "import copy\n",
      "\n",
      "LSID = \"urn:lsid:broad.mit.edu:cancer.software.genepattern.module.analysis:00230:8.7\"\n",
      "\n",
      "# TopHat Parameters that will not vary accross runs\n",
      "bowtie_index = \"ftp://gpftp.broadinstitute.org/module_support_files/bowtie2/index/by_genome/Homo_sapiens_hg19_UCSC/\"\n",
      "transcriptome_index = session_state[\"transcriptome_index\"]\n",
      "library_type = \"fr-unstranded\"\n",
      "mate_inner_dist = 50\n",
      "transcriptome_only = \"yes\"\n",
      "read_mismatches = 2\n",
      "min_anchor_length = 8\n",
      "max_splice_mismatches = 0\n",
      "max_intron_length = 500000\n",
      "max_insertion_length = 3\n",
      "max_deletion_length = 3\n",
      "max_multihits = 20\n",
      "coverage_search = \"--no-coverage-search\"\n",
      "\n",
      "job_spec_template = gp.JobSpec()\n",
      "job_spec_template.set_lsid(LSID)\n",
      "job_spec_template.set_parameter(\"bowtie.index\", bowtie_index)\n",
      "job_spec_template.set_parameter(\"transcriptome.index\", transcriptome_index)\n",
      "job_spec_template.set_parameter(\"library.type\", library_type)\n",
      "job_spec_template.set_parameter(\"mate.inner.dist\", mate_inner_dist)\n",
      "job_spec_template.set_parameter(\"transcriptome.only\", transcriptome_only)\n",
      "job_spec_template.set_parameter(\"read.mismatches\", read_mismatches)\n",
      "job_spec_template.set_parameter(\"min.anchor.length\", min_anchor_length)\n",
      "job_spec_template.set_parameter(\"max.splice.mismatches\", max_splice_mismatches)\n",
      "job_spec_template.set_parameter(\"max.intron.length\", max_intron_length)\n",
      "job_spec_template.set_parameter(\"max.insertion.length\", max_insertion_length)\n",
      "job_spec_template.set_parameter(\"max.deletion.length\", max_deletion_length)\n",
      "job_spec_template.set_parameter(\"max.multihits\", max_multihits)\n",
      "job_spec_template.set_parameter(\"coverage.search\", coverage_search)\n",
      "\n",
      "donor_dict = session_state['donor_dict']\n",
      "\n",
      "for donor_id in donor_dict:  \n",
      "    #untreated\n",
      "    untreated_sample_data = donor_dict[donor_id][\"untreated\"]\n",
      "    \n",
      "    job_spec = copy.deepcopy(job_spec_template)\n",
      "    job_spec.set_server_data(serverData)    \n",
      "    job_spec.set_parameter(\"reads.pair.1\", untreated_sample_data['trimmomatic_fwd_reads'])\n",
      "    job_spec.set_parameter(\"reads.pair.2\", untreated_sample_data['trimmomatic_rvs_reads'])\n",
      "    job_spec.set_parameter(\"output.prefix\", untreated_sample_data['accession'])\n",
      "    job = serverData.run_job(job_spec, wait_until_done = False)\n",
      "    untreated_sample_data[\"tophat_job_uri\"] = job.uri\n",
      "    \n",
      "    #treated\n",
      "    \n",
      "    treated_sample_data = donor_dict[donor_id][\"treated\"]\n",
      "    \n",
      "    job_spec = copy.deepcopy(job_spec_template)\n",
      "    job_spec.set_server_data(serverData)    \n",
      "    job_spec.set_parameter(\"reads.pair.1\", treated_sample_data['trimmomatic_fwd_reads'])\n",
      "    job_spec.set_parameter(\"reads.pair.2\", treated_sample_data['trimmomatic_rvs_reads'])\n",
      "    job_spec.set_parameter(\"output.prefix\", treated_sample_data['accession'])\n",
      "    job = serverData.run_job(job_spec, wait_until_done = False)\n",
      "    treated_sample_data[\"tophat_job_uri\"] = job.uri\n",
      "\n",
      "save_session_state(session_state, session_file)"
     ],
     "language": "python",
     "metadata": {},
     "outputs": [],
     "prompt_number": 6
    },
    {
     "cell_type": "code",
     "collapsed": false,
     "input": [
      "session_state = load_session_state(session_file)\n",
      "\n",
      "tophat_jobs = []\n",
      "donor_dict = session_state[\"donor_dict\"]\n",
      "for donor_id in donor_dict:\n",
      "    \n",
      "    #untreated\n",
      "    untreated_sample_data = donor_dict[donor_id][\"untreated\"]\n",
      "    untreated_sample_data['tophat_job'] = gp.GPJob(untreated_sample_data['tophat_job_uri'])\n",
      "    tophat_jobs.append(untreated_sample_data['tophat_job'])\n",
      "    \n",
      "    #treated\n",
      "    treated_sample_data = donor_dict[donor_id][\"treated\"]\n",
      "    treated_sample_data['tophat_job'] = gp.GPJob(treated_sample_data['tophat_job_uri'])\n",
      "    tophat_jobs.append(treated_sample_data['tophat_job'])\n",
      "\n",
      "# Poll GenePattern until all jobs associated with above code cell are complete\n",
      "serverData.poll_multiple_jobs(tophat_jobs)\n",
      "\n",
      "for donor_id in donor_dict:\n",
      "    \n",
      "    #untreated\n",
      "    untreated_sample_data = donor_dict[donor_id][\"untreated\"]\n",
      "    job = untreated_sample_data['tophat_job']\n",
      "    untreated_sample_data['tophat_alignment'] = [gpfile.uri for gpfile in job.get_output_files() if \"accepted_hits.bam\" in gpfile.uri][0]\n",
      "    untreated_sample_data['tophat_summary'] = [gpfile.uri for gpfile in job.get_output_files() if \"align_summary.txt\" in gpfile.uri][0]    \n",
      "    del untreated_sample_data['tophat_job']\n",
      "    \n",
      "    #treated\n",
      "    treated_sample_data = donor_dict[donor_id][\"treated\"]\n",
      "    job = treated_sample_data['tophat_job']\n",
      "    treated_sample_data['tophat_alignment'] = [gpfile.uri for gpfile in job.get_output_files() if \"accepted_hits.bam\" in gpfile.uri][0]\n",
      "    treated_sample_data['tophat_summary'] = [gpfile.uri for gpfile in job.get_output_files() if \"align_summary.txt\" in gpfile.uri][0]    \n",
      "    del treated_sample_data['tophat_job']\n",
      "\n",
      "save_session_state(session_state, session_file)"
     ],
     "language": "python",
     "metadata": {
      "cellView": null,
      "executionInfo": null
     },
     "outputs": [],
     "prompt_number": 7
    },
    {
     "cell_type": "markdown",
     "metadata": {},
     "source": [
      "When the following code cell is run, the user will be presented with widgets for selecting a particular TopHat run (donor id and untreated/treated).  The summary results from the selected TopHat run will then be displayed."
     ]
    },
    {
     "cell_type": "code",
     "collapsed": false,
     "input": [
      "session_state = load_session_state(session_file)\n",
      "\n",
      "from IPython.html import widgets\n",
      "from IPython.display import display\n",
      "from IPython.display import clear_output\n",
      "from IPython.display import IFrame\n",
      "\n",
      "donor_dict = session_state[\"donor_dict\"]\n",
      "\n",
      "donor_id_list = [None]\n",
      "donor_id_list.extend(session_state[\"donor_dict\"].keys())\n",
      "\n",
      "box = widgets.ContainerWidget()\n",
      "step1 = widgets.DropdownWidget(values= donor_id_list)\n",
      "step2 = widgets.DropdownWidget(values=[None,\"untreated\", \"treated\"], visible=False)\n",
      "box.children = [step1, step2]\n",
      "display(box)\n",
      "box.remove_class('vbox')\n",
      "box.add_class('hbox')\n",
      "\n",
      "def step1_change(name, old, new):\n",
      "    step2.visible = True\n",
      "step1.on_trait_change(step1_change, 'value')\n",
      "\n",
      "def step2_change(name, old, new):\n",
      "    clear_output()\n",
      "    if step1.value is not None and new is not None:\n",
      "        summary_report_txt = donor_dict[step1.value][new][\"tophat_summary\"]\n",
      "        print(summary_report_txt)\n",
      "        display(IFrame(summary_report_txt, '100%', '600px'))\n",
      "step2.on_trait_change(step2_change, 'value')\n"
     ],
     "language": "python",
     "metadata": {},
     "outputs": [
      {
       "output_type": "stream",
       "stream": "stdout",
       "text": [
        "http://gp.indiana.edu/gp/jobResults/1096/SRR1039508.align_summary.txt\n"
       ]
      },
      {
       "html": [
        "\n",
        "        <iframe\n",
        "            width=\"100%\"\n",
        "            height=600px\"\n",
        "            src=\"http://gp.indiana.edu/gp/jobResults/1096/SRR1039508.align_summary.txt\"\n",
        "            frameborder=\"0\"\n",
        "            allowfullscreen\n",
        "        ></iframe>\n",
        "        "
       ],
       "metadata": {},
       "output_type": "display_data",
       "text": [
        "<IPython.lib.display.IFrame at 0x1051c1c10>"
       ]
      }
     ],
     "prompt_number": 39
    },
    {
     "cell_type": "markdown",
     "metadata": {},
     "source": [
      "#STEP 5: Run CuffDiff to Summarize/quantitate aligned reads, normalize expression estimats and conduct differential expression analysis\n",
      "\n",
      "The goal of summarization/quantitation is to accurately derive gene and transcript expression values from the aligned reads and a genome annotation. The annotation may have been constructed from the aligned reads or be an externally generated reference annotation. In the summarization/quantitation step, reads are assigned to the annotation\u2019s transcripts that are most likely to have served as the transcription template for the sequenced cDNA.\n",
      "\n",
      "Summarization/quantitation is not a simplistic accounting of the number of reads that map to each feature. Early methods for quantitating gene expression from RNA-Seq data counted the reads that mapped to the exons of each gene and divided each count by a scaling factor that was based on the total length of a gene's exons. These \"raw count\" methods were shown to be less accurate than \"isoform deconvolution\" methods that estimate the expression levels of a gene's alternative isoforms (transcripts) and then sum those transcript-level estimates to derive gene-level expression estimates.\n",
      "\n",
      "Estimating transcript-level expression levels is complicated by the fact that a gene's multiple isoforms often share exons and hence there is uncertainty in assigning a read to a specific isoform if the read maps to a shared exon. In other words, splicing structure introduces uncertainty that must be accounted for when deriving expression estimates from mapped reads. Many Eukaryotic genes have multiple isoforms that share exons, leading to uncertainty around the assignment of a read to a particular transcript.\n",
      "\n",
      "Normalization of the expression estimates permits accurate comparisons of features\u2019 (transcripts or genes) expression levels within a single sample, and comparison of a single feature\u2019s expression across different samples (phenotypes or conditions).\n",
      "\n",
      "Following summarization/quantitation and normalization, differences in estimated transcript and gene expression levels across conditions can be analyzed.  Differences in a feature\u2019s estimated expression values across two conditions will be impacted by both true differences in expression levels and the inherent noise in the experimental data.  Sources of experimental variability include sampling variance, technical variance and biological variance.   In addition to these three sources of experimental variance, RNA-Seq expression estimates are also subject to variability resulting from read assignment uncertainties. If there is a lot of similarity between a gene\u2019s isoforms (e.g., shared exons) there will be a great deal of uncertainty attached to the expression estimates for each of those isoforms, which in turn will lead to uncertainty in the gene-level expression estimates.\n",
      "\n",
      "Thus, differential expression analysis of RNA-Seq data requires the modeling of both experimental variation and read assignment uncertainty in order to assess the statistical significance of any observed difference in a transcript or gene\u2019s expression levels across two conditions. In other words, without a means of accurately assessing the amount of variability and uncertainty present in a feature\u2019s expression estimates, one cannot determined whether observed differences in that feature\u2019s expression levels across two conditions is the result of true differential expression, or an artifact of the inherent noise in the underlying expression estimates. Differential expression analysis tools, like Cuffdiff, calculate a variance for each transcript or gene\u2019s expressions estimates and use that variance to estimate the variance of whatever statistic is employed to measure differential expression; e.g., log-fold-change. \n",
      "\n",
      "By conducting both quantification and differential analysis, Cuffdiff takes into account the uncertainty of mapping reads to isoforms when calculating variances of transcript-level expression estimates. This leads to more accurate assessments of the statistical significances of the observed changes in expression levels across conditions.\n",
      "\n",
      "\n",
      "\n"
     ]
    },
    {
     "cell_type": "markdown",
     "metadata": {},
     "source": [
      "## Widget-based job launch"
     ]
    },
    {
     "cell_type": "code",
     "collapsed": false,
     "input": [
      "%get_task http://genepattern.broadinstitute.org/gp CBB.test password Cuffdiff"
     ],
     "language": "python",
     "metadata": {},
     "outputs": []
    },
    {
     "cell_type": "markdown",
     "metadata": {},
     "source": [
      "## Widget-based retrieval of job status"
     ]
    },
    {
     "cell_type": "code",
     "collapsed": false,
     "input": [
      "%get_job http://genepattern.broadinstitute.org/gp CBB.test password 974507"
     ],
     "language": "python",
     "metadata": {},
     "outputs": []
    },
    {
     "cell_type": "markdown",
     "metadata": {},
     "source": [
      "## Programmatic launching of job"
     ]
    },
    {
     "cell_type": "code",
     "collapsed": false,
     "input": [
      "session_state = load_session_state(session_file)\n",
      "\n",
      "LSID = \"urn:lsid:broad.mit.edu:cancer.software.genepattern.module.analysis:00236:7\"\n",
      "\n",
      "gtf_file = \"ftp://gpftp.broadinstitute.org/module_support_files/annotation/gtf/Homo_sapiens_hg19_UCSC.gtf\"\n",
      "frag_bias_correct = \"ftp://gpftp.broadinstitute.org/module_support_files/sequence/whole_genome/Homo_sapiens_hg19_UCSC.fa\"\n",
      "time_series = \"false\"\n",
      "fdr = .05\n",
      "library_type = \"inferred\"\n",
      "normalization_method = \"geometric\"\n",
      "FPKM_scaling = \"compatible-hits\"\n",
      "multi_read_correct = \"yes\"\n",
      "min_alignment_count = 10\n",
      "skip_diff_exp = \"false\"\n",
      "groupId_untreated = \"untreated\"\n",
      "groupId_treated = \"treated\"\n",
      "\n",
      "job_spec = gp.JobSpec()\n",
      "job_spec.set_server_data(serverData)\n",
      "job_spec.set_lsid(LSID)\n",
      "job_spec.set_parameter(\"GTF.file\", gtf_file)\n",
      "job_spec.set_parameter(\"frag.bias.correct\", frag_bias_correct)\n",
      "job_spec.set_parameter(\"time.series\", time_series)\n",
      "job_spec.set_parameter(\"FDR\", fdr)\n",
      "job_spec.set_parameter(\"library.type\", library_type)\n",
      "job_spec.set_parameter(\"normalization.method\", normalization_method)\n",
      "job_spec.set_parameter(\"FPKM.scaling\", FPKM_scaling)\n",
      "job_spec.set_parameter(\"multi.read.correct\", multi_read_correct)\n",
      "job_spec.set_parameter(\"min.alignment.count\", min_alignment_count)\n",
      "job_spec.set_parameter(\"skip.diff.exp\", skip_diff_exp)\n",
      "\n",
      "donor_dict = session_state[\"donor_dict\"]\n",
      "\n",
      "untreated_bam_files = []\n",
      "treated_bam_files = []\n",
      "\n",
      "for donor_id in donor_dict:\n",
      "    \n",
      "    #untreated\n",
      "    untreated_sample_data = donor_dict[donor_id][\"untreated\"]\n",
      "    untreated_bam_files.append(untreated_sample_data['tophat_alignment'])\n",
      "    \n",
      "    #treated\n",
      "    treated_sample_data = donor_dict[donor_id][\"treated\"]\n",
      "    treated_bam_files.append(treated_sample_data['tophat_alignment'])\n",
      "    \n",
      "job_spec.set_parameter(\"aligned.files\", untreated_bam_files, groupId=groupId_untreated)\n",
      "job_spec.set_parameter(\"aligned.files\", treated_bam_files, groupId=groupId_treated)\n",
      "\n",
      "job = serverData.run_job(job_spec, wait_until_done = False)\n",
      "session_state[\"cuffdiff_job_uri\"] = job.uri    \n",
      "\n",
      "save_session_state(session_state, session_file)"
     ],
     "language": "python",
     "metadata": {},
     "outputs": [],
     "prompt_number": 9
    },
    {
     "cell_type": "code",
     "collapsed": false,
     "input": [
      "session_state = load_session_state(session_file)\n",
      "\n",
      "# Poll GenePattern until all jobs associated with above code cell are complete\n",
      "session_state[\"cuffdiff_job_uri\"] = \"http://gp.indiana.edu/gp/rest/v1/jobs/1109\"\n",
      "job = gp.GPJob(session_state[\"cuffdiff_job_uri\"])\n",
      "print session_state[\"cuffdiff_job_uri\"]\n",
      "#save_session_state(session_state, session_file)\n",
      "#serverData.poll_multiple_jobs([job])\n",
      "#print str(job.job_number)"
     ],
     "language": "python",
     "metadata": {},
     "outputs": [
      {
       "output_type": "stream",
       "stream": "stdout",
       "text": [
        "http://gp.indiana.edu/gp/rest/v1/jobs/1109\n"
       ]
      }
     ],
     "prompt_number": 25
    },
    {
     "cell_type": "code",
     "collapsed": false,
     "input": [
      "session_state = load_session_state(session_file)\n",
      "\n",
      "# Poll GenePattern until all jobs associated with above code cell are complete\n",
      "\n",
      "job = gp.GPJob(session_state[\"cuffdiff_job_uri\"])\n",
      "serverData.poll_multiple_jobs([job])\n",
      "print str(job.job_number)\n",
      "\n",
      "genes_read_group_tracking = [gpfile.uri for gpfile in job.get_output_files() if \"genes.read_group_tracking\" in gpfile.uri][0]\n",
      "genes_exp_diff = [gpfile.uri for gpfile in job.get_output_files() if \"gene_exp.diff\" in gpfile.uri][0]\n",
      "job_results_url = job.get_job_results_url(serverData)\n",
      "#print job_results_url\n",
      "\n",
      "results = session_state[\"cuffdiff_results\"] = {}\n",
      "results[\"genes_read_group_tracking\"] = genes_read_group_tracking\n",
      "results[\"genes_exp_diff\"] = genes_exp_diff\n",
      "results[\"cuffdiff_job_results_url\"] = job_results_url\n",
      "#results[\"cuffdiff_job_results\"] = \"http://genepattern.broadinstitute.org/gp/jobResults/\" + str(job.job_number)\n",
      "\n",
      "save_session_state(session_state, session_file)"
     ],
     "language": "python",
     "metadata": {
      "cellView": null,
      "executionInfo": null
     },
     "outputs": [
      {
       "output_type": "stream",
       "stream": "stdout",
       "text": [
        "1109\n"
       ]
      }
     ],
     "prompt_number": 26
    },
    {
     "cell_type": "code",
     "collapsed": false,
     "input": [
      "print session_state[\"cuffdiff_job_uri\"]\n",
      "job = gp.GPJob(session_state[\"cuffdiff_job_uri\"])\n",
      "job_results_url = job.get_job_results_url(serverData)\n",
      "print job_results_url"
     ],
     "language": "python",
     "metadata": {},
     "outputs": [
      {
       "output_type": "stream",
       "stream": "stdout",
       "text": [
        "http://gp.indiana.edu/gp/rest/v1/jobs/1103\n",
        "http://gp.indiana.edu/gp/jobResults/0\n"
       ]
      }
     ],
     "prompt_number": 8
    },
    {
     "cell_type": "markdown",
     "metadata": {},
     "source": [
      "#STEP 6: Run CummeRbund.QcReport to generate plots and tables from Cuffdiff analysis\n",
      "\n",
      "CummeRbund is an R/bioconductor package that supports analysis and visualization of the data produced by the Cuffdiff tool, both the expression datasets coming out of the quantitation and normalization steps and the test results from cuffdiff's differential expression analysis. \n",
      "\n",
      "GenePattern supports four modules that utilize the CummeRbund package to create sets of plots and visualizations to better understand experimental results. Here we illustrate the use of CummeRbund.QcReport to obtain global statistics and plots. The three remaining CummeRbund modules may be used to obtain statistics and plots relative to specific lists of genes or conditions.\n"
     ]
    },
    {
     "cell_type": "markdown",
     "metadata": {},
     "source": [
      "##Widget-based job launch"
     ]
    },
    {
     "cell_type": "code",
     "collapsed": false,
     "input": [
      "%get_task http://genepattern.broadinstitute.org/gp CBB.test password CummeRbund.QcReport"
     ],
     "language": "python",
     "metadata": {},
     "outputs": []
    },
    {
     "cell_type": "markdown",
     "metadata": {},
     "source": [
      "##Widget-based retrieval of job status"
     ]
    },
    {
     "cell_type": "code",
     "collapsed": false,
     "input": [
      "%get_job http://genepattern.broadinstitute.org/gp CBB.test password 974793"
     ],
     "language": "python",
     "metadata": {},
     "outputs": []
    },
    {
     "cell_type": "markdown",
     "metadata": {},
     "source": [
      "##Programmatic launching of job"
     ]
    },
    {
     "cell_type": "code",
     "collapsed": false,
     "input": [
      "session_state = load_session_state(session_file)\n",
      "\n",
      "LSID = \"urn:lsid:broad.mit.edu:cancer.software.genepattern.module.analysis:00326:0.27\"\n",
      "\n",
      "cuffdiff_input = session_state[\"cuffdiff_results\"][\"cuffdiff_job_results_url\"]\n",
      "output_format = \"pdf\"\n",
      "feature_level = \"genes\"\n",
      "report_as_aggregate = \"yes\"\n",
      "log_transform = \"yes\"\n",
      "pca_x = \"PC2\"\n",
      "pca_y = \"PC3\"\n",
      "attempt_to_merge_names = \"no\"\n",
      "\n",
      "job_spec = gp.JobSpec()\n",
      "job_spec.set_server_data(serverData)\n",
      "job_spec.set_lsid(LSID)\n",
      "job_spec.set_parameter(\"cuffdiff.input\", cuffdiff_input)\n",
      "job_spec.set_parameter(\"output.format\", output_format)\n",
      "job_spec.set_parameter(\"feature.level\", feature_level)\n",
      "job_spec.set_parameter(\"report.as.aggregate\", report_as_aggregate)\n",
      "job_spec.set_parameter(\"log.transform\", log_transform)\n",
      "job_spec.set_parameter(\"pca.x\", pca_x)\n",
      "job_spec.set_parameter(\"pca.y\", pca_y)\n",
      "job_spec.set_parameter(\"attempt.to.merge.names\", attempt_to_merge_names)\n",
      "job = serverData.run_job(job_spec, wait_until_done = False)\n",
      "session_state[\"cummerbund_job_uri\"] = job.uri     \n",
      "\n",
      "save_session_state(session_state, session_file)"
     ],
     "language": "python",
     "metadata": {},
     "outputs": [],
     "prompt_number": 27
    },
    {
     "cell_type": "code",
     "collapsed": false,
     "input": [
      "session_state = load_session_state(session_file)\n",
      "\n",
      "# Poll GenePattern for completion of cummerbund job and retrieve results\n",
      "job = gp.GPJob(session_state[\"cummerbund_job_uri\"])\n",
      "serverData.poll_multiple_jobs([job])\n",
      "\n",
      "cuffdiff_qc_dispersion = [gpfile.uri for gpfile in job.get_output_files() if \"QC.Dispersion.pdf\" in gpfile.uri][0]\n",
      "cuffdiff_qc_fpkm_scv = [gpfile.uri for gpfile in job.get_output_files() if \"QC.FPKM.SCV.pdf\" in gpfile.uri][0]\n",
      "cuffdiff_qc_density = [gpfile.uri for gpfile in job.get_output_files() if \"QC.Density.pdf\" in gpfile.uri][0]\n",
      "cuffdiff_qc_boxplot = [gpfile.uri for gpfile in job.get_output_files() if \"QC.Boxplot.pdf\" in gpfile.uri][0]\n",
      "cuffdiff_qc_sig_diffexp_genes = [gpfile.uri for gpfile in job.get_output_files() if \"QC.sig_diffExp_genes.txt\" in gpfile.uri][0]\n",
      "\n",
      "results=session_state[\"cummerbund_results\"] = {}\n",
      "results[\"qc_dispersion\"] = cuffdiff_qc_dispersion\n",
      "results[\"qc_fpkm_scv\"] = cuffdiff_qc_fpkm_scv\n",
      "results[\"qc_density\"] = cuffdiff_qc_density\n",
      "results[\"qc_boxplot\"] = cuffdiff_qc_boxplot\n",
      "results[\"qc_sig_diffexp_genes\"] = cuffdiff_qc_sig_diffexp_genes\n",
      "\n",
      "save_session_state(session_state, session_file)\n",
      "\n"
     ],
     "language": "python",
     "metadata": {
      "cellView": null,
      "executionInfo": null
     },
     "outputs": [],
     "prompt_number": 4
    },
    {
     "cell_type": "markdown",
     "metadata": {},
     "source": [
      "The following code cell presents a widget for selecting and displaying the plots generated by the CummeRbund.QcReport module."
     ]
    },
    {
     "cell_type": "code",
     "collapsed": false,
     "input": [
      "session_state = load_session_state(session_file)\n",
      "\n",
      "# code for viewing cuffdiff outputs...\n",
      "\n",
      "from IPython.html import widgets\n",
      "from IPython.display import display\n",
      "from IPython.display import clear_output\n",
      "from IPython.display import IFrame\n",
      "\n",
      "box = widgets.ContainerWidget()\n",
      "\n",
      "output_file_list = [None, \"qc_dispersion\", \"qc_fpkm_scv\", \"qc_density\", \"qc_boxplot\"]\n",
      "\n",
      "dropdown_widget = widgets.DropdownWidget(values= output_file_list)\n",
      "display(dropdown_widget)\n",
      "\n",
      "def widget_change(name, old, new):\n",
      "    clear_output()\n",
      "    if dropdown_widget is not None:\n",
      "        pdf_file = session_state[\"cummerbund_results\"][new]\n",
      "        display(IFrame(pdf_file, '100%', '600px'))\n",
      "dropdown_widget.on_trait_change(widget_change, 'value')\n"
     ],
     "language": "python",
     "metadata": {},
     "outputs": [
      {
       "ename": "KeyError",
       "evalue": "None",
       "output_type": "pyerr",
       "traceback": [
        "\u001b[0;31m---------------------------------------------------------------------------\u001b[0m\n\u001b[0;31mKeyError\u001b[0m                                  Traceback (most recent call last)",
        "\u001b[0;32m/Library/Python/2.7/site-packages/IPython/html/widgets/widget.pyc\u001b[0m in \u001b[0;36m_handle_msg\u001b[0;34m(self, msg)\u001b[0m\n\u001b[1;32m    270\u001b[0m         \u001b[0;32mif\u001b[0m \u001b[0mmethod\u001b[0m \u001b[0;34m==\u001b[0m \u001b[0;34m'backbone'\u001b[0m \u001b[0;32mand\u001b[0m \u001b[0;34m'sync_data'\u001b[0m \u001b[0;32min\u001b[0m \u001b[0mdata\u001b[0m\u001b[0;34m:\u001b[0m\u001b[0;34m\u001b[0m\u001b[0m\n\u001b[1;32m    271\u001b[0m             \u001b[0msync_data\u001b[0m \u001b[0;34m=\u001b[0m \u001b[0mdata\u001b[0m\u001b[0;34m[\u001b[0m\u001b[0;34m'sync_data'\u001b[0m\u001b[0;34m]\u001b[0m\u001b[0;34m\u001b[0m\u001b[0m\n\u001b[0;32m--> 272\u001b[0;31m             \u001b[0mself\u001b[0m\u001b[0;34m.\u001b[0m\u001b[0m_handle_receive_state\u001b[0m\u001b[0;34m(\u001b[0m\u001b[0msync_data\u001b[0m\u001b[0;34m)\u001b[0m \u001b[0;31m# handles all methods\u001b[0m\u001b[0;34m\u001b[0m\u001b[0m\n\u001b[0m\u001b[1;32m    273\u001b[0m \u001b[0;34m\u001b[0m\u001b[0m\n\u001b[1;32m    274\u001b[0m         \u001b[0;31m# Handle a custom msg from the front-end\u001b[0m\u001b[0;34m\u001b[0m\u001b[0;34m\u001b[0m\u001b[0m\n",
        "\u001b[0;32m/Library/Python/2.7/site-packages/IPython/html/widgets/widget.pyc\u001b[0m in \u001b[0;36m_handle_receive_state\u001b[0;34m(self, sync_data)\u001b[0m\n\u001b[1;32m    283\u001b[0m                 \u001b[0mvalue\u001b[0m \u001b[0;34m=\u001b[0m \u001b[0mself\u001b[0m\u001b[0;34m.\u001b[0m\u001b[0m_unpack_widgets\u001b[0m\u001b[0;34m(\u001b[0m\u001b[0msync_data\u001b[0m\u001b[0;34m[\u001b[0m\u001b[0mname\u001b[0m\u001b[0;34m]\u001b[0m\u001b[0;34m)\u001b[0m\u001b[0;34m\u001b[0m\u001b[0m\n\u001b[1;32m    284\u001b[0m                 \u001b[0;32mwith\u001b[0m \u001b[0mself\u001b[0m\u001b[0;34m.\u001b[0m\u001b[0m_lock_property\u001b[0m\u001b[0;34m(\u001b[0m\u001b[0mname\u001b[0m\u001b[0;34m,\u001b[0m \u001b[0mvalue\u001b[0m\u001b[0;34m)\u001b[0m\u001b[0;34m:\u001b[0m\u001b[0;34m\u001b[0m\u001b[0m\n\u001b[0;32m--> 285\u001b[0;31m                     \u001b[0msetattr\u001b[0m\u001b[0;34m(\u001b[0m\u001b[0mself\u001b[0m\u001b[0;34m,\u001b[0m \u001b[0mname\u001b[0m\u001b[0;34m,\u001b[0m \u001b[0mvalue\u001b[0m\u001b[0;34m)\u001b[0m\u001b[0;34m\u001b[0m\u001b[0m\n\u001b[0m\u001b[1;32m    286\u001b[0m \u001b[0;34m\u001b[0m\u001b[0m\n\u001b[1;32m    287\u001b[0m     \u001b[0;32mdef\u001b[0m \u001b[0m_handle_custom_msg\u001b[0m\u001b[0;34m(\u001b[0m\u001b[0mself\u001b[0m\u001b[0;34m,\u001b[0m \u001b[0mcontent\u001b[0m\u001b[0;34m)\u001b[0m\u001b[0;34m:\u001b[0m\u001b[0;34m\u001b[0m\u001b[0m\n",
        "\u001b[0;32m/Library/Python/2.7/site-packages/IPython/utils/traitlets.pyc\u001b[0m in \u001b[0;36m__set__\u001b[0;34m(self, obj, value)\u001b[0m\n\u001b[1;32m    369\u001b[0m             \u001b[0;31m# we explicitly compare silent to True just in case the equality\u001b[0m\u001b[0;34m\u001b[0m\u001b[0;34m\u001b[0m\u001b[0m\n\u001b[1;32m    370\u001b[0m             \u001b[0;31m# comparison above returns something other than True/False\u001b[0m\u001b[0;34m\u001b[0m\u001b[0;34m\u001b[0m\u001b[0m\n\u001b[0;32m--> 371\u001b[0;31m             \u001b[0mobj\u001b[0m\u001b[0;34m.\u001b[0m\u001b[0m_notify_trait\u001b[0m\u001b[0;34m(\u001b[0m\u001b[0mself\u001b[0m\u001b[0;34m.\u001b[0m\u001b[0mname\u001b[0m\u001b[0;34m,\u001b[0m \u001b[0mold_value\u001b[0m\u001b[0;34m,\u001b[0m \u001b[0mnew_value\u001b[0m\u001b[0;34m)\u001b[0m\u001b[0;34m\u001b[0m\u001b[0m\n\u001b[0m\u001b[1;32m    372\u001b[0m \u001b[0;34m\u001b[0m\u001b[0m\n\u001b[1;32m    373\u001b[0m     \u001b[0;32mdef\u001b[0m \u001b[0m_validate\u001b[0m\u001b[0;34m(\u001b[0m\u001b[0mself\u001b[0m\u001b[0;34m,\u001b[0m \u001b[0mobj\u001b[0m\u001b[0;34m,\u001b[0m \u001b[0mvalue\u001b[0m\u001b[0;34m)\u001b[0m\u001b[0;34m:\u001b[0m\u001b[0;34m\u001b[0m\u001b[0m\n",
        "\u001b[0;32m/Library/Python/2.7/site-packages/IPython/utils/traitlets.pyc\u001b[0m in \u001b[0;36m_notify_trait\u001b[0;34m(self, name, old_value, new_value)\u001b[0m\n\u001b[1;32m    518\u001b[0m                     \u001b[0mc\u001b[0m\u001b[0;34m(\u001b[0m\u001b[0mname\u001b[0m\u001b[0;34m,\u001b[0m \u001b[0mnew_value\u001b[0m\u001b[0;34m)\u001b[0m\u001b[0;34m\u001b[0m\u001b[0m\n\u001b[1;32m    519\u001b[0m                 \u001b[0;32melif\u001b[0m \u001b[0mnargs\u001b[0m \u001b[0;34m+\u001b[0m \u001b[0moffset\u001b[0m \u001b[0;34m==\u001b[0m \u001b[0;36m3\u001b[0m\u001b[0;34m:\u001b[0m\u001b[0;34m\u001b[0m\u001b[0m\n\u001b[0;32m--> 520\u001b[0;31m                     \u001b[0mc\u001b[0m\u001b[0;34m(\u001b[0m\u001b[0mname\u001b[0m\u001b[0;34m,\u001b[0m \u001b[0mold_value\u001b[0m\u001b[0;34m,\u001b[0m \u001b[0mnew_value\u001b[0m\u001b[0;34m)\u001b[0m\u001b[0;34m\u001b[0m\u001b[0m\n\u001b[0m\u001b[1;32m    521\u001b[0m                 \u001b[0;32melse\u001b[0m\u001b[0;34m:\u001b[0m\u001b[0;34m\u001b[0m\u001b[0m\n\u001b[1;32m    522\u001b[0m                     raise TraitError('a trait changed callback '\n",
        "\u001b[0;32m/Library/Python/2.7/site-packages/IPython/html/widgets/widget_selection.pyc\u001b[0m in \u001b[0;36m_value_name_changed\u001b[0;34m(self, name, old, new)\u001b[0m\n\u001b[1;32m    105\u001b[0m         \u001b[0;32mif\u001b[0m \u001b[0mself\u001b[0m\u001b[0;34m.\u001b[0m\u001b[0mvalue_lock\u001b[0m\u001b[0;34m.\u001b[0m\u001b[0macquire\u001b[0m\u001b[0;34m(\u001b[0m\u001b[0mFalse\u001b[0m\u001b[0;34m)\u001b[0m\u001b[0;34m:\u001b[0m\u001b[0;34m\u001b[0m\u001b[0m\n\u001b[1;32m    106\u001b[0m             \u001b[0;32mtry\u001b[0m\u001b[0;34m:\u001b[0m\u001b[0;34m\u001b[0m\u001b[0m\n\u001b[0;32m--> 107\u001b[0;31m                 \u001b[0mself\u001b[0m\u001b[0;34m.\u001b[0m\u001b[0mvalue\u001b[0m \u001b[0;34m=\u001b[0m \u001b[0mself\u001b[0m\u001b[0;34m.\u001b[0m\u001b[0mvalues\u001b[0m\u001b[0;34m[\u001b[0m\u001b[0mnew\u001b[0m\u001b[0;34m]\u001b[0m\u001b[0;34m\u001b[0m\u001b[0m\n\u001b[0m\u001b[1;32m    108\u001b[0m             \u001b[0;32mfinally\u001b[0m\u001b[0;34m:\u001b[0m\u001b[0;34m\u001b[0m\u001b[0m\n\u001b[1;32m    109\u001b[0m                 \u001b[0mself\u001b[0m\u001b[0;34m.\u001b[0m\u001b[0mvalue_lock\u001b[0m\u001b[0;34m.\u001b[0m\u001b[0mrelease\u001b[0m\u001b[0;34m(\u001b[0m\u001b[0;34m)\u001b[0m\u001b[0;34m\u001b[0m\u001b[0m\n",
        "\u001b[0;32m/Library/Python/2.7/site-packages/IPython/utils/traitlets.pyc\u001b[0m in \u001b[0;36m__set__\u001b[0;34m(self, obj, value)\u001b[0m\n\u001b[1;32m    369\u001b[0m             \u001b[0;31m# we explicitly compare silent to True just in case the equality\u001b[0m\u001b[0;34m\u001b[0m\u001b[0;34m\u001b[0m\u001b[0m\n\u001b[1;32m    370\u001b[0m             \u001b[0;31m# comparison above returns something other than True/False\u001b[0m\u001b[0;34m\u001b[0m\u001b[0;34m\u001b[0m\u001b[0m\n\u001b[0;32m--> 371\u001b[0;31m             \u001b[0mobj\u001b[0m\u001b[0;34m.\u001b[0m\u001b[0m_notify_trait\u001b[0m\u001b[0;34m(\u001b[0m\u001b[0mself\u001b[0m\u001b[0;34m.\u001b[0m\u001b[0mname\u001b[0m\u001b[0;34m,\u001b[0m \u001b[0mold_value\u001b[0m\u001b[0;34m,\u001b[0m \u001b[0mnew_value\u001b[0m\u001b[0;34m)\u001b[0m\u001b[0;34m\u001b[0m\u001b[0m\n\u001b[0m\u001b[1;32m    372\u001b[0m \u001b[0;34m\u001b[0m\u001b[0m\n\u001b[1;32m    373\u001b[0m     \u001b[0;32mdef\u001b[0m \u001b[0m_validate\u001b[0m\u001b[0;34m(\u001b[0m\u001b[0mself\u001b[0m\u001b[0;34m,\u001b[0m \u001b[0mobj\u001b[0m\u001b[0;34m,\u001b[0m \u001b[0mvalue\u001b[0m\u001b[0;34m)\u001b[0m\u001b[0;34m:\u001b[0m\u001b[0;34m\u001b[0m\u001b[0m\n",
        "\u001b[0;32m/Library/Python/2.7/site-packages/IPython/utils/traitlets.pyc\u001b[0m in \u001b[0;36m_notify_trait\u001b[0;34m(self, name, old_value, new_value)\u001b[0m\n\u001b[1;32m    518\u001b[0m                     \u001b[0mc\u001b[0m\u001b[0;34m(\u001b[0m\u001b[0mname\u001b[0m\u001b[0;34m,\u001b[0m \u001b[0mnew_value\u001b[0m\u001b[0;34m)\u001b[0m\u001b[0;34m\u001b[0m\u001b[0m\n\u001b[1;32m    519\u001b[0m                 \u001b[0;32melif\u001b[0m \u001b[0mnargs\u001b[0m \u001b[0;34m+\u001b[0m \u001b[0moffset\u001b[0m \u001b[0;34m==\u001b[0m \u001b[0;36m3\u001b[0m\u001b[0;34m:\u001b[0m\u001b[0;34m\u001b[0m\u001b[0m\n\u001b[0;32m--> 520\u001b[0;31m                     \u001b[0mc\u001b[0m\u001b[0;34m(\u001b[0m\u001b[0mname\u001b[0m\u001b[0;34m,\u001b[0m \u001b[0mold_value\u001b[0m\u001b[0;34m,\u001b[0m \u001b[0mnew_value\u001b[0m\u001b[0;34m)\u001b[0m\u001b[0;34m\u001b[0m\u001b[0m\n\u001b[0m\u001b[1;32m    521\u001b[0m                 \u001b[0;32melse\u001b[0m\u001b[0;34m:\u001b[0m\u001b[0;34m\u001b[0m\u001b[0m\n\u001b[1;32m    522\u001b[0m                     raise TraitError('a trait changed callback '\n",
        "\u001b[0;32m<ipython-input-40-0d954af9d427>\u001b[0m in \u001b[0;36mwidget_change\u001b[0;34m(name, old, new)\u001b[0m\n\u001b[1;32m     18\u001b[0m     \u001b[0mclear_output\u001b[0m\u001b[0;34m(\u001b[0m\u001b[0;34m)\u001b[0m\u001b[0;34m\u001b[0m\u001b[0m\n\u001b[1;32m     19\u001b[0m     \u001b[0;32mif\u001b[0m \u001b[0mdropdown_widget\u001b[0m \u001b[0;32mis\u001b[0m \u001b[0;32mnot\u001b[0m \u001b[0mNone\u001b[0m\u001b[0;34m:\u001b[0m\u001b[0;34m\u001b[0m\u001b[0m\n\u001b[0;32m---> 20\u001b[0;31m         \u001b[0mpdf_file\u001b[0m \u001b[0;34m=\u001b[0m \u001b[0msession_state\u001b[0m\u001b[0;34m[\u001b[0m\u001b[0;34m\"cummerbund_results\"\u001b[0m\u001b[0;34m]\u001b[0m\u001b[0;34m[\u001b[0m\u001b[0mnew\u001b[0m\u001b[0;34m]\u001b[0m\u001b[0;34m\u001b[0m\u001b[0m\n\u001b[0m\u001b[1;32m     21\u001b[0m         \u001b[0mdisplay\u001b[0m\u001b[0;34m(\u001b[0m\u001b[0mIFrame\u001b[0m\u001b[0;34m(\u001b[0m\u001b[0mpdf_file\u001b[0m\u001b[0;34m,\u001b[0m \u001b[0;34m'100%'\u001b[0m\u001b[0;34m,\u001b[0m \u001b[0;34m'600px'\u001b[0m\u001b[0;34m)\u001b[0m\u001b[0;34m)\u001b[0m\u001b[0;34m\u001b[0m\u001b[0m\n\u001b[1;32m     22\u001b[0m \u001b[0mdropdown_widget\u001b[0m\u001b[0;34m.\u001b[0m\u001b[0mon_trait_change\u001b[0m\u001b[0;34m(\u001b[0m\u001b[0mwidget_change\u001b[0m\u001b[0;34m,\u001b[0m \u001b[0;34m'value'\u001b[0m\u001b[0;34m)\u001b[0m\u001b[0;34m\u001b[0m\u001b[0m\n",
        "\u001b[0;31mKeyError\u001b[0m: None"
       ]
      }
     ],
     "prompt_number": 40
    },
    {
     "cell_type": "markdown",
     "metadata": {},
     "source": [
      "The following code cell retrieves the tab-delimited file containing CummeRBund's report on differentially expressed genes.  It then creates \n",
      "a pandas dataframe from the data in the file, displaying it using the qgrid widget."
     ]
    },
    {
     "cell_type": "code",
     "collapsed": false,
     "input": [
      "import pandas as pd\n",
      "import numpy as np\n",
      "import urllib2\n",
      "import qgrid\n",
      "\n",
      "qgrid.nbinstall() \n",
      "\n",
      "print cuffdiff_qc_sig_diffexp_genes\n",
      "\n",
      "request = urllib2.Request(results[\"qc_sig_diffexp_genes\"]) \n",
      "request.add_header('Authorization', serverData.authorization_header())\n",
      "request.add_header('User-Agent', 'GenePatternRest')\n",
      "response = urllib2.urlopen(request)\n",
      "\n",
      "\n",
      "dataframe = pd.read_csv(response, sep='\\t', error_bad_lines=False)\n",
      "qgrid.show_grid(dataframe, remote_js=True)"
     ],
     "language": "python",
     "metadata": {},
     "outputs": [
      {
       "ename": "NameError",
       "evalue": "name 'cuffdiff_qc_sig_diffexp_genes' is not defined",
       "output_type": "pyerr",
       "traceback": [
        "\u001b[0;31m---------------------------------------------------------------------------\u001b[0m\n\u001b[0;31mNameError\u001b[0m                                 Traceback (most recent call last)",
        "\u001b[0;32m<ipython-input-41-5e918be1c1ca>\u001b[0m in \u001b[0;36m<module>\u001b[0;34m()\u001b[0m\n\u001b[1;32m      6\u001b[0m \u001b[0mqgrid\u001b[0m\u001b[0;34m.\u001b[0m\u001b[0mnbinstall\u001b[0m\u001b[0;34m(\u001b[0m\u001b[0;34m)\u001b[0m\u001b[0;34m\u001b[0m\u001b[0m\n\u001b[1;32m      7\u001b[0m \u001b[0;34m\u001b[0m\u001b[0m\n\u001b[0;32m----> 8\u001b[0;31m \u001b[0;32mprint\u001b[0m \u001b[0mcuffdiff_qc_sig_diffexp_genes\u001b[0m\u001b[0;34m\u001b[0m\u001b[0m\n\u001b[0m\u001b[1;32m      9\u001b[0m \u001b[0;34m\u001b[0m\u001b[0m\n\u001b[1;32m     10\u001b[0m \u001b[0mrequest\u001b[0m \u001b[0;34m=\u001b[0m \u001b[0murllib2\u001b[0m\u001b[0;34m.\u001b[0m\u001b[0mRequest\u001b[0m\u001b[0;34m(\u001b[0m\u001b[0mresults\u001b[0m\u001b[0;34m[\u001b[0m\u001b[0;34m\"qc_sig_diffexp_genes\"\u001b[0m\u001b[0;34m]\u001b[0m\u001b[0;34m)\u001b[0m\u001b[0;34m\u001b[0m\u001b[0m\n",
        "\u001b[0;31mNameError\u001b[0m: name 'cuffdiff_qc_sig_diffexp_genes' is not defined"
       ]
      }
     ],
     "prompt_number": 41
    },
    {
     "cell_type": "markdown",
     "metadata": {},
     "source": [
      "#STEP 7: Run Read_group_trackingToGct to create a gct-formatted gene expression dataset"
     ]
    },
    {
     "cell_type": "markdown",
     "metadata": {},
     "source": [
      "##Widget-based job launch"
     ]
    },
    {
     "cell_type": "code",
     "collapsed": false,
     "input": [
      "%get_task http://genepattern.broadinstitute.org/gp CBB.test password Read_group_trackingToGct"
     ],
     "language": "python",
     "metadata": {},
     "outputs": []
    },
    {
     "cell_type": "markdown",
     "metadata": {},
     "source": [
      "##Widget-based retrieval of job status"
     ]
    },
    {
     "cell_type": "code",
     "collapsed": false,
     "input": [
      "%get_job http://genepattern.broadinstitute.org/gp CBB.test password 974804"
     ],
     "language": "python",
     "metadata": {},
     "outputs": []
    },
    {
     "cell_type": "markdown",
     "metadata": {},
     "source": [
      "##Programmatic launching of job"
     ]
    },
    {
     "cell_type": "code",
     "collapsed": false,
     "input": [
      "session_state = load_session_state(session_file)\n",
      "\n",
      "LSID = \"urn:lsid:broad.mit.edu:cancer.software.genepattern.module.analysis:00339:0.15\"\n",
      "\n",
      "input_file = session_state[\"cuffdiff_results\"][\"genes_read_group_tracking\"]\n",
      "output_file_name = \"ASM_study.gct\"\n",
      "expression_value_column = 3\n",
      "screen_out_errors = \"false\"\n",
      "output_value_for_error = \"blank\"\n",
      "feature_level_for_symbol_lookup = \"gene\"\n",
      "choose_gct_column_for_mapping = \"auto\"\n",
      "report_naming_conflict_details = \"false\"\n",
      "\n",
      "job_spec = gp.JobSpec()\n",
      "job_spec.set_server_data(serverData)\n",
      "job_spec.set_lsid(LSID)\n",
      "job_spec.set_parameter(\"input.file\", input_file)\n",
      "job_spec.set_parameter(\"output.file.name\", output_file_name)\n",
      "job_spec.set_parameter(\"expression.value.column\", expression_value_column)\n",
      "job_spec.set_parameter(\"screen.out.errors\", screen_out_errors)\n",
      "job_spec.set_parameter(\"output.value.for.error\", output_value_for_error)\n",
      "job_spec.set_parameter(\"feature.level.for.symbol.lookup\", feature_level_for_symbol_lookup)\n",
      "job_spec.set_parameter(\"choose.gct.column.for.mapping\", choose_gct_column_for_mapping)\n",
      "job_spec.set_parameter(\"report.naming.comflict.details\", report_naming_conflict_details)\n",
      "job = serverData.run_job(job_spec, wait_until_done = False)\n",
      "session_state[\"read_group_tracking_to_gct_job_uri\"] = job.uri    \n",
      "\n",
      "save_session_state(session_state, session_file)"
     ],
     "language": "python",
     "metadata": {},
     "outputs": [],
     "prompt_number": 12
    },
    {
     "cell_type": "code",
     "collapsed": false,
     "input": [
      "\n",
      "# Poll GenePattern until all jobs associated with above code cell are complete\n",
      "job = gp.GPJob(session_state[\"read_group_tracking_to_gct_job_uri\"])\n",
      "serverData.poll_multiple_jobs([job])\n",
      "\n",
      "gct_file = [gpfile.uri for gpfile in job.get_output_files() if \".gct\" in gpfile.uri][0]\n",
      "cls_file = [gpfile.uri for gpfile in job.get_output_files() if \".cls\" in gpfile.uri][0]\n",
      "\n",
      "results = session_state[\"read_group_tracking_to_gct_results\"] = {}\n",
      "results[\"gct_file\"] = gct_file\n",
      "results[\"cls_file\"] = cls_file\n",
      "\n",
      "save_session_state(session_state, session_file)"
     ],
     "language": "python",
     "metadata": {
      "cellView": null,
      "executionInfo": null
     },
     "outputs": [],
     "prompt_number": 13
    },
    {
     "cell_type": "markdown",
     "metadata": {},
     "source": [
      "#STEP 8: Run GSEA on gene expression dataset derived from RNA-Seq Data\n",
      "\n",
      "In the previous steps we identified individual genes that were differentially expressed in ASM cells across two phenotypes or conditions, untreated and treated, where the treatment consisted of exposure to dexamethasone, a synthetic glucocorticoid.  In our analysis, we were able to recapitulate the published findings.  Here we extend those findings by applying gene set enrichment analysis to an expression dataset derived from the RNA-Seq experimental data.\n",
      "We will rely on GenePattern\u2019s GSEA module to conduct the enrichment analysis, but one may also run the identical analysis using the GSEA desktop software (see www.broadinstitute.org/GSEA ).  Both tools require as input a GCT-formatted gene expression dataset and an accompanying CLS-formatted class file."
     ]
    },
    {
     "cell_type": "markdown",
     "metadata": {},
     "source": [
      "##Widget-based job launch"
     ]
    },
    {
     "cell_type": "code",
     "collapsed": false,
     "input": [
      "%get_task http://genepattern.broadinstitute.org/gp CBB.test password GSEA"
     ],
     "language": "python",
     "metadata": {},
     "outputs": []
    },
    {
     "cell_type": "markdown",
     "metadata": {},
     "source": [
      "##Widget-based retrieval of job status"
     ]
    },
    {
     "cell_type": "code",
     "collapsed": false,
     "input": [
      "%get_job http://genepattern.broadinstitute.org/gp CBB.test password 974827"
     ],
     "language": "python",
     "metadata": {},
     "outputs": []
    },
    {
     "cell_type": "markdown",
     "metadata": {},
     "source": [
      "##Programmatic launching of job"
     ]
    },
    {
     "cell_type": "code",
     "collapsed": false,
     "input": [
      "session_state = load_session_state(session_file)\n",
      "\n",
      "LSID = \"urn:lsid:broad.mit.edu:cancer.software.genepattern.module.analysis:00072:14\"\n",
      "\n",
      "job_spec = gp.JobSpec()\n",
      "job_spec.set_server_data(serverData)\n",
      "job_spec.set_lsid(LSID)\n",
      "\n",
      "job_spec.set_parameter(\"expression.dataset\", session_state[\"read_group_tracking_to_gct_results\"][\"gct_file\"])\n",
      "job_spec.set_parameter(\"gene.sets.database\", \"c2.cp.v4.0.symbols.gmt\")\n",
      "job_spec.set_parameter(\"number.of.permutations\", 1000)\n",
      "job_spec.set_parameter(\"phenotype.labels\", session_state[\"read_group_tracking_to_gct_results\"][\"cls_file\"])\n",
      "job_spec.set_parameter(\"collapse.dataset\", \"false\")\n",
      "job_spec.set_parameter(\"permutation.type\", \"gene_set\")\n",
      "job_spec.set_parameter(\"chip.platform\", \"nochip\")\n",
      "job_spec.set_parameter(\"scoring.scheme\", \"weighted\")\n",
      "job_spec.set_parameter(\"metric.for.ranking.genes\", \"Signal2Noise\")\n",
      "job_spec.set_parameter(\"gene.list.sorting.mode\", \"real\")\n",
      "job_spec.set_parameter(\"gene.list.ordering.mode\", \"descending\")\n",
      "job_spec.set_parameter(\"max.gene.set.size\", 500)\n",
      "job_spec.set_parameter(\"min.gene.set.size\", 15)\n",
      "job_spec.set_parameter(\"collapsing.mode.for.probe.sets.with.more.than.one.match\", \"Max_probe\")\n",
      "job_spec.set_parameter(\"normalization.mode\", \"meandiv\")\n",
      "job_spec.set_parameter(\"randomization.mode\", \"no_balance\")\n",
      "job_spec.set_parameter(\"omit.features.with.no.symbol.match\", \"true\")\n",
      "job_spec.set_parameter(\"make.detailed.gene.set.report\", \"true\")\n",
      "job_spec.set_parameter(\"median.for.class.metrics\", \"false\")\n",
      "job_spec.set_parameter(\"number.of.markers\", 100)\n",
      "job_spec.set_parameter(\"plot.graphs.for.the.top.sets.of.each.phenotype\", 20)\n",
      "job_spec.set_parameter(\"random.seed\", \"timestamp\")\n",
      "job_spec.set_parameter(\"save.random.ranked.lists\", \"false\")\n",
      "job_spec.set_parameter(\"output.file.name\",\"<expression.dataset_basename>.zip\")\n",
      "\n",
      "job = serverData.run_job(job_spec, wait_until_done = False)\n",
      "session_state[\"gsea_job_uri\"] = job.uri    \n",
      "\n",
      "save_session_state(session_state, session_file)"
     ],
     "language": "python",
     "metadata": {},
     "outputs": []
    },
    {
     "cell_type": "code",
     "collapsed": false,
     "input": [
      "session_state = load_session_state(session_file)\n",
      "\n",
      "# Poll GenePattern until all jobs associated with above code cell are complete\n",
      "job = gp.GPJob(session_state[\"gsea_job_uri\"])\n",
      "serverData.poll_multiple_jobs([job])\n",
      "\n",
      "zip_file = [gpfile.uri for gpfile in job.get_output_files() if \".zip\" in gpfile.uri][0]\n",
      "\n",
      "results = session_state[\"gsea_results\"] = {}\n",
      "results[\"zip_file_uri\"] = zip_file\n",
      "\n",
      "save_session_state(session_state, session_file)"
     ],
     "language": "python",
     "metadata": {
      "cellView": null,
      "executionInfo": null
     },
     "outputs": [],
     "prompt_number": 32
    },
    {
     "cell_type": "code",
     "collapsed": false,
     "input": [
      "session_state = load_session_state(session_file)\n",
      "\n",
      "import urllib2\n",
      "import zipfile\n",
      "\n",
      "from IPython.html import widgets # Widget definitions\n",
      "from IPython.display import display # Used to display widgets in the notebook\n",
      "\n",
      "mywidget = widgets.TextWidget()\n",
      "mywidget.description = \"Enter local directory to download zip file to:\"\n",
      "\n",
      "display(mywidget)\n",
      "\n",
      "def handle_submit(sender):\n",
      "    \n",
      "    output_folder = os.path.join(local_output_dir, sender.value)\n",
      "        \n",
      "    if not os.path.exists(output_folder):\n",
      "        os.makedirs(output_folder)\n",
      "    \n",
      "    zip_file_url = session_state[\"gsea_results\"][\"zip_file_uri\"]\n",
      "    \n",
      "    zip_filename = zip_file.split('/')[-1]\n",
      "   \n",
      "    zip_file_pathname = os.path.join(output_folder, zip_filename)\n",
      "    \n",
      "    session_state[\"gsea_results\"][\"zip_file_pathname\"] = zip_file_pathname\n",
      "    \n",
      "    print(\"downloading zip file...\")\n",
      "    request = urllib2.Request(zip_file_url) \n",
      "    request.add_header('Authorization', serverData.authorization_header())\n",
      "    request.add_header('User-Agent', 'GenePatternRest')\n",
      "    response = urllib2.urlopen(request)\n",
      "\n",
      "    output = open(zip_file_pathname,'wb')\n",
      "    output.write(response.read())\n",
      "    output.close()\n",
      "    \n",
      "    print(\"download complete: %s\" % zip_file_pathname)\n",
      "\n",
      "    # not working....\n",
      "    #with zipfile.ZipFile(zip_file_pathname, \"r\") as z\n",
      "    \n",
      "        #z.extractall()\n",
      "        \n",
      "    #session_state[\"gsea_report\"] = os.path.join(output_folder, \"index.html\")    \n",
      "    \n",
      "mywidget.on_submit(handle_submit)\n",
      "\n"
     ],
     "language": "python",
     "metadata": {},
     "outputs": [
      {
       "output_type": "stream",
       "stream": "stdout",
       "text": [
        "downloading zip file...\n",
        "download complete: /Users/birger/gsea_output1/ASM_study.zip"
       ]
      },
      {
       "output_type": "stream",
       "stream": "stdout",
       "text": [
        "\n",
        "<zipfile.ZipFile object at 0x105180fd0>\n"
       ]
      }
     ],
     "prompt_number": 35
    },
    {
     "cell_type": "code",
     "collapsed": false,
     "input": [
      "# Need to complete....not working...\n",
      "import urllib\n",
      "from IPython.html import widgets\n",
      "from IPython.display import display\n",
      "from IPython.display import clear_output\n",
      "from IPython.display import HTML\n",
      "\n",
      "report_url = \"file://\" + urllib.pathname2url(session_state[\"gsea_report\"])\n",
      "print(report_url)\n",
      "HTML('<iframe src=%s width=1000 height=600</iframe>)' % report_url)\n",
      "\n"
     ],
     "language": "python",
     "metadata": {},
     "outputs": []
    }
   ],
   "metadata": {}
  }
 ]
}