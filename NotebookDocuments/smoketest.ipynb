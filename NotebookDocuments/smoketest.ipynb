{
 "metadata": {
  "name": "",
  "signature": "sha256:430de40faa6a1e8ffbaa2579f0f8f8c542f82d0f6f7df9af4fde4944b63ac2bf"
 },
 "nbformat": 3,
 "nbformat_minor": 0,
 "worksheets": [
  {
   "cells": [
    {
     "cell_type": "heading",
     "level": 1,
     "metadata": {},
     "source": [
      "GenePattern Notebook Setup Smoketest"
     ]
    },
    {
     "cell_type": "markdown",
     "metadata": {},
     "source": [
      "Running the code cells in the following simple ipython notebook file will serve as a quick smoketest to verify that you have correctly set up your GenePattern Notebook environment"
     ]
    },
    {
     "cell_type": "markdown",
     "metadata": {},
     "source": [
      "First let's verify that the basic IPython notebook environment is working"
     ]
    },
    {
     "cell_type": "code",
     "collapsed": false,
     "input": [
      "print \"hello world\""
     ],
     "language": "python",
     "metadata": {},
     "outputs": [
      {
       "output_type": "stream",
       "stream": "stdout",
       "text": [
        "hello world\n"
       ]
      }
     ],
     "prompt_number": 1
    },
    {
     "cell_type": "markdown",
     "metadata": {},
     "source": [
      "This load's the GenePattern IPython modules needed to run the GenePattern javascript widgets."
     ]
    },
    {
     "cell_type": "code",
     "collapsed": false,
     "input": [
      "%reload_ext genepattern"
     ],
     "language": "python",
     "metadata": {},
     "outputs": [
      {
       "output_type": "stream",
       "stream": "stdout",
       "text": [
        "GenePattern IPython Module Loaded!\n"
       ]
      }
     ],
     "prompt_number": 2
    },
    {
     "cell_type": "markdown",
     "metadata": {},
     "source": [
      "This custom magic command (%get_task) renders a javascript widget for running a ConvertLineEndings job.  The javascript widget is communicating directly (not through python kernel) with the Broad-hosted production server.  Note that user credentials are displayed in the command line...needs improvement."
     ]
    },
    {
     "cell_type": "code",
     "collapsed": false,
     "input": [
      "%get_task http://genepattern.broadinstitute.org/gp CBB.test password SraToFastQ"
     ],
     "language": "python",
     "metadata": {},
     "outputs": [],
     "prompt_number": 7
    },
    {
     "cell_type": "markdown",
     "metadata": {},
     "source": [
      "This custom magic command (%get_job) renders a javascript widget that retrieves and displays job status."
     ]
    },
    {
     "cell_type": "code",
     "collapsed": false,
     "input": [
      "%get_job http://genepattern.broadinstitute.org/gp CBB.test password 971929"
     ],
     "language": "python",
     "metadata": {},
     "outputs": [],
     "prompt_number": 8
    },
    {
     "cell_type": "markdown",
     "metadata": {},
     "source": [
      "Now we will test communication with GenePattern server via the python kernel.  First we set up the serverData object."
     ]
    },
    {
     "cell_type": "code",
     "collapsed": false,
     "input": [
      "import client as gp\n",
      "\n",
      "GenePattern_Server_URL = \"http://genepattern.broadinstitute.org/gp\"\n",
      "userID = \"CBB.test\"\n",
      "password = \"password\"\n",
      "\n",
      "serverData = gp.ServerData(GenePattern_Server_URL, userID, password)"
     ],
     "language": "python",
     "metadata": {},
     "outputs": [],
     "prompt_number": 25
    },
    {
     "cell_type": "markdown",
     "metadata": {},
     "source": [
      "Job 971929 is a previously run job on the public genepattern server.  (Note that it is marked never to be purged.)  We poll the job for completion.  Since the job was completed some time ago, this polling function should return immediately."
     ]
    },
    {
     "cell_type": "code",
     "collapsed": false,
     "input": [
      "sraToFastQ_job_uri = GenePattern_Server_URL + \"/rest/v1/jobs/971929\"\n",
      "job = gp.GPJob(sraToFastQ_job_uri)\n",
      "serverData.poll_multiple_jobs([job])"
     ],
     "language": "python",
     "metadata": {},
     "outputs": [],
     "prompt_number": 26
    },
    {
     "cell_type": "markdown",
     "metadata": {},
     "source": [
      "Next we retrieve a listing of the job's output file urls."
     ]
    },
    {
     "cell_type": "code",
     "collapsed": false,
     "input": [
      "for gpfile in job.get_output_files():\n",
      "    print gpfile.uri"
     ],
     "language": "python",
     "metadata": {},
     "outputs": [
      {
       "output_type": "stream",
       "stream": "stdout",
       "text": [
        "http://genepattern.broadinstitute.org/gp/jobResults/971929/cmdline.log\n",
        "http://genepattern.broadinstitute.org/gp/jobResults/971929/SRR1039508_1.fastq.gz\n",
        "http://genepattern.broadinstitute.org/gp/jobResults/971929/SRR1039508_2.fastq.gz\n",
        "http://genepattern.broadinstitute.org/gp/jobResults/971929/stdout.txt\n"
       ]
      }
     ],
     "prompt_number": 27
    }
   ],
   "metadata": {}
  }
 ]
}