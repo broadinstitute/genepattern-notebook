{
 "cells": [
  {
   "cell_type": "code",
   "execution_count": 1,
   "metadata": {
    "collapsed": false
   },
   "outputs": [
    {
     "name": "stderr",
     "output_type": "stream",
     "text": [
      ":0: FutureWarning: IPython widgets are experimental and may change in the future.\n"
     ]
    }
   ],
   "source": [
    "# !AUTOEXEC\n",
    "\n",
    "import gp\n",
    "from gp_widgets import GPAuthWidget, GPJobWidget, GPTaskWidget\n",
    "\n",
    "# The gpserver object holds your authentication credentials and is used to\n",
    "# make calls to the GenePattern server through the GenePattern Python library.\n",
    "# Your actual username and password have been removed from the code shown\n",
    "# below for security reasons.\n",
    "gpserver = gp.GPServer(\"http://genepattern.broadinstitute.org/gp\", \"\", \"\")\n",
    "\n",
    "# Return the authentication widget to view it\n",
    "GPAuthWidget(gpserver)"
   ]
  },
  {
   "cell_type": "markdown",
   "metadata": {},
   "source": [
    "# GPServer"
   ]
  },
  {
   "cell_type": "code",
   "execution_count": 2,
   "metadata": {
    "collapsed": false
   },
   "outputs": [
    {
     "name": "stdout",
     "output_type": "stream",
     "text": [
      "Help on class GPServer in module gp:\n",
      "\n",
      "class GPServer(__builtin__.object)\n",
      " |  Wrapper for data needed to make server calls.\n",
      " |  \n",
      " |  Wraps the server url, username and password, and provides helper function\n",
      " |  to construct the authorization header.\n",
      " |  \n",
      " |  Methods defined here:\n",
      " |  \n",
      " |  __init__(self, url, username, password)\n",
      " |  \n",
      " |  __str__(self)\n",
      " |  \n",
      " |  authorization_header(self)\n",
      " |  \n",
      " |  get_task_list(self)\n",
      " |  \n",
      " |  run_job(self, job_spec, wait_until_done=True)\n",
      " |      Runs a job defined by jobspec, optionally non-blocking.\n",
      " |      \n",
      " |      Takes a GPJobSpec object that defines a request to run a job, and makes the\n",
      " |      request to the server.  By default blocks until the job is finished by\n",
      " |      polling the server, but can also run asynchronously.\n",
      " |      \n",
      " |      Args:\n",
      " |          jobspec: A GPJobSpec object that contains the data defining the job to be\n",
      " |              run.\n",
      " |          server_data: GPServer object used to make the server call.\n",
      " |          waitUntilDone: Whether to wait until the job is finished before\n",
      " |              returning.\n",
      " |      \n",
      " |      Returns:\n",
      " |          a GPJob object that refers to the running job on the server.  If called\n",
      " |          synchronously, this object will contain the info associated with the\n",
      " |          completed job.  Otherwise, it will just wrap the URI of the running job.\n",
      " |  \n",
      " |  upload_file(self, file_name, file_path)\n",
      " |      Upload a file to a server\n",
      " |      \n",
      " |      Attempts to upload a local file with path filepath, to the server, where it\n",
      " |      will be named filename.\n",
      " |      \n",
      " |      Args:\n",
      " |          filename: The name that the uploaded file will be called on the server.\n",
      " |          filepath: The path of the local file to upload.\n",
      " |          server_data: GPServer object used to make the server call.\n",
      " |      \n",
      " |      Returns:\n",
      " |          A GPFile object that wraps the URI of the uploaded file, or None if the\n",
      " |          upload fails.\n",
      " |  \n",
      " |  wait_until_complete(self, job_list)\n",
      " |  \n",
      " |  ----------------------------------------------------------------------\n",
      " |  Data descriptors defined here:\n",
      " |  \n",
      " |  __dict__\n",
      " |      dictionary for instance variables (if defined)\n",
      " |  \n",
      " |  __weakref__\n",
      " |      list of weak references to the object (if defined)\n",
      "\n"
     ]
    }
   ],
   "source": [
    "help(gp.GPServer)"
   ]
  },
  {
   "cell_type": "markdown",
   "metadata": {},
   "source": [
    "# GPTask"
   ]
  },
  {
   "cell_type": "code",
   "execution_count": 5,
   "metadata": {
    "collapsed": false
   },
   "outputs": [
    {
     "name": "stdout",
     "output_type": "stream",
     "text": [
      "Help on class GPTask in module gp:\n",
      "\n",
      "class GPTask(GPResource)\n",
      " |  Describes a GenePattern task (module or pipeline).\n",
      " |  \n",
      " |  The constructor retrieves data transfer object (DTO) describing task from GenePattern server.\n",
      " |  The DTO contains general task information (LSID, Category, Description, Version comment),\n",
      " |  a parameter list and a list of initial values.  Class includes getters for each of these\n",
      " |  components.\n",
      " |  \n",
      " |  Method resolution order:\n",
      " |      GPTask\n",
      " |      GPResource\n",
      " |      __builtin__.object\n",
      " |  \n",
      " |  Methods defined here:\n",
      " |  \n",
      " |  __init__(self, server_data, name_or_lsid, task_dict=None)\n",
      " |  \n",
      " |  get_description(self)\n",
      " |      Returns task description.\n",
      " |  \n",
      " |  get_lsid(self)\n",
      " |  \n",
      " |  get_name(self)\n",
      " |  \n",
      " |  get_parameters(self)\n",
      " |  \n",
      " |  get_version(self)\n",
      " |  \n",
      " |  make_job_spec(self)\n",
      " |  \n",
      " |  param_load(self)\n",
      " |  \n",
      " |  ----------------------------------------------------------------------\n",
      " |  Data and other attributes defined here:\n",
      " |  \n",
      " |  description = None\n",
      " |  \n",
      " |  documentation = None\n",
      " |  \n",
      " |  dto = None\n",
      " |  \n",
      " |  job = None\n",
      " |  \n",
      " |  job_number = None\n",
      " |  \n",
      " |  job_spec = None\n",
      " |  \n",
      " |  json = None\n",
      " |  \n",
      " |  lsid = None\n",
      " |  \n",
      " |  name = None\n",
      " |  \n",
      " |  params = None\n",
      " |  \n",
      " |  server_data = None\n",
      " |  \n",
      " |  submit_json = None\n",
      " |  \n",
      " |  version = None\n",
      " |  \n",
      " |  ----------------------------------------------------------------------\n",
      " |  Data descriptors inherited from GPResource:\n",
      " |  \n",
      " |  __dict__\n",
      " |      dictionary for instance variables (if defined)\n",
      " |  \n",
      " |  __weakref__\n",
      " |      list of weak references to the object (if defined)\n",
      " |  \n",
      " |  ----------------------------------------------------------------------\n",
      " |  Data and other attributes inherited from GPResource:\n",
      " |  \n",
      " |  uri = None\n",
      "\n"
     ]
    }
   ],
   "source": [
    "help(gp.GPTask)"
   ]
  },
  {
   "cell_type": "markdown",
   "metadata": {},
   "source": [
    "# GPJob"
   ]
  },
  {
   "cell_type": "code",
   "execution_count": 6,
   "metadata": {
    "collapsed": false
   },
   "outputs": [
    {
     "name": "stdout",
     "output_type": "stream",
     "text": [
      "Help on class GPJob in module gp:\n",
      "\n",
      "class GPJob(GPResource)\n",
      " |  A running or completed job on a Gene Pattern server.\n",
      " |  \n",
      " |  Contains methods to get the info of the job, and to wait on a running job by\n",
      " |  polling the server until the job is completed.\n",
      " |  \n",
      " |  Method resolution order:\n",
      " |      GPJob\n",
      " |      GPResource\n",
      " |      __builtin__.object\n",
      " |  \n",
      " |  Methods defined here:\n",
      " |  \n",
      " |  __init__(self, server_data, uri)\n",
      " |  \n",
      " |  get_info(self)\n",
      " |  \n",
      " |  get_job_status_url(self)\n",
      " |  \n",
      " |  get_output_files(self)\n",
      " |  \n",
      " |  get_status_message(self)\n",
      " |  \n",
      " |  is_finished(self)\n",
      " |  \n",
      " |  wait_until_done(self)\n",
      " |  \n",
      " |  ----------------------------------------------------------------------\n",
      " |  Data and other attributes defined here:\n",
      " |  \n",
      " |  date_submitted = None\n",
      " |  \n",
      " |  info = None\n",
      " |  \n",
      " |  job_number = None\n",
      " |  \n",
      " |  json = None\n",
      " |  \n",
      " |  log_files = None\n",
      " |  \n",
      " |  num_output_files = None\n",
      " |  \n",
      " |  output_files = None\n",
      " |  \n",
      " |  server_data = None\n",
      " |  \n",
      " |  status = None\n",
      " |  \n",
      " |  task_lsid = None\n",
      " |  \n",
      " |  task_name = None\n",
      " |  \n",
      " |  user_id = None\n",
      " |  \n",
      " |  ----------------------------------------------------------------------\n",
      " |  Data descriptors inherited from GPResource:\n",
      " |  \n",
      " |  __dict__\n",
      " |      dictionary for instance variables (if defined)\n",
      " |  \n",
      " |  __weakref__\n",
      " |      list of weak references to the object (if defined)\n",
      " |  \n",
      " |  ----------------------------------------------------------------------\n",
      " |  Data and other attributes inherited from GPResource:\n",
      " |  \n",
      " |  uri = None\n",
      "\n"
     ]
    }
   ],
   "source": [
    "help(gp.GPJob)"
   ]
  },
  {
   "cell_type": "markdown",
   "metadata": {},
   "source": [
    "# GPJobSpec"
   ]
  },
  {
   "cell_type": "code",
   "execution_count": 7,
   "metadata": {
    "collapsed": false
   },
   "outputs": [
    {
     "name": "stdout",
     "output_type": "stream",
     "text": [
      "Help on class GPJobSpec in module gp:\n",
      "\n",
      "class GPJobSpec(__builtin__.object)\n",
      " |  Data needed to make a request to perform a job on a Gene Pattern server\n",
      " |  \n",
      " |  Encapsulates the data needed to make a server call to run a job.  This\n",
      " |  includes the LSID of the job, and the parameters.  Helper methods set\n",
      " |  the LSID and parameters.\n",
      " |  \n",
      " |  Methods defined here:\n",
      " |  \n",
      " |  __init__(self, server_data, lsid)\n",
      " |  \n",
      " |  set_parameter(self, name, values, group_id=None)\n",
      " |  \n",
      " |  ----------------------------------------------------------------------\n",
      " |  Data descriptors defined here:\n",
      " |  \n",
      " |  __dict__\n",
      " |      dictionary for instance variables (if defined)\n",
      " |  \n",
      " |  __weakref__\n",
      " |      list of weak references to the object (if defined)\n",
      "\n"
     ]
    }
   ],
   "source": [
    "help(gp.GPJobSpec)"
   ]
  },
  {
   "cell_type": "markdown",
   "metadata": {},
   "source": [
    "# GPTaskParam"
   ]
  },
  {
   "cell_type": "code",
   "execution_count": 8,
   "metadata": {
    "collapsed": false
   },
   "outputs": [
    {
     "name": "stdout",
     "output_type": "stream",
     "text": [
      "Help on class GPTaskParam in module gp:\n",
      "\n",
      "class GPTaskParam(__builtin__.object)\n",
      " |  Encapsulates single parameter information.\n",
      " |  \n",
      " |  The constructor's input parameter is the data transfer object\n",
      " |  associated with a single task parameter (i.e., element from list\n",
      " |  returned by GPTask.getParameters)\n",
      " |  \n",
      " |  Methods defined here:\n",
      " |  \n",
      " |  __init__(self, task, dto)\n",
      " |  \n",
      " |  allow_choice_custom_value(self)\n",
      " |      Returns boolean indicating whether choice parameter supports custom value.\n",
      " |      \n",
      " |      If choice parameter supports custom value, user can provide parameter value\n",
      " |      other than those provided in choice list.\n",
      " |  \n",
      " |  allow_multiple(self)\n",
      " |  \n",
      " |  get_alt_description(self)\n",
      " |  \n",
      " |  get_alt_name(self)\n",
      " |      # only pipeline prompt-when-run parameters\n",
      " |      # can have alternate names and alternate descriptions\n",
      " |  \n",
      " |  get_choice_href(self)\n",
      " |  \n",
      " |  get_choice_selected_value(self)\n",
      " |      # the default selection from a choice menu\n",
      " |  \n",
      " |  get_choice_status(self)\n",
      " |      # returns a message field, which indicates whether choices statically\n",
      " |      # or dynamically defined, and flag indicating whether a dynamic file\n",
      " |      # selection loading error occurred.\n",
      " |  \n",
      " |  get_choices(self)\n",
      " |      Returns a list of dictionary objects, one dictionary object per choice.\n",
      " |      \n",
      " |      Each object has two keys defined: 'value', 'label'.\n",
      " |      The 'label' entry is what should be displayed on the UI, the 'value' entry\n",
      " |      is what is written into GPJobSpec.\n",
      " |  \n",
      " |  get_default_value(self)\n",
      " |  \n",
      " |  get_description(self)\n",
      " |  \n",
      " |  get_dto(self)\n",
      " |  \n",
      " |  get_name(self)\n",
      " |  \n",
      " |  get_type(self)\n",
      " |      Returns either 'File' or 'String'.\n",
      " |      \n",
      " |      The type attribute (e.g., java.io.File, java.lang.Integer, java.lang.Float),\n",
      " |      which might give a hint as to what string should represent,\n",
      " |      is not enforced and not employed consistently across all tasks, so we ignore.\n",
      " |  \n",
      " |  is_choice_param(self)\n",
      " |  \n",
      " |  is_optional(self)\n",
      " |  \n",
      " |  is_password(self)\n",
      " |      Indicates whether password flag associated with string parameter.\n",
      " |      \n",
      " |      If string parameter flagged as password, UI should not display\n",
      " |      parameter value on input field (e.g., mask out with asterisks).\n",
      " |  \n",
      " |  ----------------------------------------------------------------------\n",
      " |  Data descriptors defined here:\n",
      " |  \n",
      " |  __dict__\n",
      " |      dictionary for instance variables (if defined)\n",
      " |  \n",
      " |  __weakref__\n",
      " |      list of weak references to the object (if defined)\n",
      " |  \n",
      " |  ----------------------------------------------------------------------\n",
      " |  Data and other attributes defined here:\n",
      " |  \n",
      " |  attributes = None\n",
      " |  \n",
      " |  description = None\n",
      " |  \n",
      " |  dto = None\n",
      " |  \n",
      " |  name = None\n",
      " |  \n",
      " |  task = None\n",
      "\n"
     ]
    }
   ],
   "source": [
    "help(gp.GPTaskParam)"
   ]
  },
  {
   "cell_type": "markdown",
   "metadata": {},
   "source": [
    "# GPFile"
   ]
  },
  {
   "cell_type": "code",
   "execution_count": 9,
   "metadata": {
    "collapsed": false
   },
   "outputs": [
    {
     "name": "stdout",
     "output_type": "stream",
     "text": [
      "Help on class GPFile in module gp:\n",
      "\n",
      "class GPFile(GPResource)\n",
      " |  A file on a Gene Pattern server.\n",
      " |  \n",
      " |  Wraps the URI of the file, and contains methods to download the file.\n",
      " |  \n",
      " |  Method resolution order:\n",
      " |      GPFile\n",
      " |      GPResource\n",
      " |      __builtin__.object\n",
      " |  \n",
      " |  Methods defined here:\n",
      " |  \n",
      " |  __init__(self, server_data, uri)\n",
      " |  \n",
      " |  get_url(self)\n",
      " |  \n",
      " |  open(self)\n",
      " |  \n",
      " |  read(self)\n",
      " |  \n",
      " |  ----------------------------------------------------------------------\n",
      " |  Data and other attributes defined here:\n",
      " |  \n",
      " |  server_data = None\n",
      " |  \n",
      " |  ----------------------------------------------------------------------\n",
      " |  Data descriptors inherited from GPResource:\n",
      " |  \n",
      " |  __dict__\n",
      " |      dictionary for instance variables (if defined)\n",
      " |  \n",
      " |  __weakref__\n",
      " |      list of weak references to the object (if defined)\n",
      " |  \n",
      " |  ----------------------------------------------------------------------\n",
      " |  Data and other attributes inherited from GPResource:\n",
      " |  \n",
      " |  uri = None\n",
      "\n"
     ]
    }
   ],
   "source": [
    "help(gp.GPFile)"
   ]
  },
  {
   "cell_type": "markdown",
   "metadata": {},
   "source": [
    "# GPResource"
   ]
  },
  {
   "cell_type": "code",
   "execution_count": 10,
   "metadata": {
    "collapsed": false
   },
   "outputs": [
    {
     "name": "stdout",
     "output_type": "stream",
     "text": [
      "Help on class GPResource in module gp:\n",
      "\n",
      "class GPResource(__builtin__.object)\n",
      " |  Base class for resources on a Gene Pattern server.\n",
      " |  \n",
      " |  Wraps references to resources on a Gene Pattern server, which are all\n",
      " |  defined by a URI.  Subclasses can implement custom logic appropriate for\n",
      " |  that resources such as downloading a file or info for a running or completed\n",
      " |  job.\n",
      " |  \n",
      " |  Methods defined here:\n",
      " |  \n",
      " |  __init__(self, uri)\n",
      " |  \n",
      " |  ----------------------------------------------------------------------\n",
      " |  Data descriptors defined here:\n",
      " |  \n",
      " |  __dict__\n",
      " |      dictionary for instance variables (if defined)\n",
      " |  \n",
      " |  __weakref__\n",
      " |      list of weak references to the object (if defined)\n",
      " |  \n",
      " |  ----------------------------------------------------------------------\n",
      " |  Data and other attributes defined here:\n",
      " |  \n",
      " |  uri = None\n",
      "\n"
     ]
    }
   ],
   "source": [
    "help(gp.GPResource)"
   ]
  },
  {
   "cell_type": "markdown",
   "metadata": {},
   "source": [
    "# GPException"
   ]
  },
  {
   "cell_type": "code",
   "execution_count": 11,
   "metadata": {
    "collapsed": false
   },
   "outputs": [
    {
     "name": "stdout",
     "output_type": "stream",
     "text": [
      "Help on class GPException in module gp:\n",
      "\n",
      "class GPException(exceptions.Exception)\n",
      " |  Method resolution order:\n",
      " |      GPException\n",
      " |      exceptions.Exception\n",
      " |      exceptions.BaseException\n",
      " |      __builtin__.object\n",
      " |  \n",
      " |  Methods defined here:\n",
      " |  \n",
      " |  __init__(self, value)\n",
      " |  \n",
      " |  __str__(self)\n",
      " |  \n",
      " |  ----------------------------------------------------------------------\n",
      " |  Data descriptors defined here:\n",
      " |  \n",
      " |  __weakref__\n",
      " |      list of weak references to the object (if defined)\n",
      " |  \n",
      " |  ----------------------------------------------------------------------\n",
      " |  Data and other attributes inherited from exceptions.Exception:\n",
      " |  \n",
      " |  __new__ = <built-in method __new__ of type object>\n",
      " |      T.__new__(S, ...) -> a new object with type S, a subtype of T\n",
      " |  \n",
      " |  ----------------------------------------------------------------------\n",
      " |  Methods inherited from exceptions.BaseException:\n",
      " |  \n",
      " |  __delattr__(...)\n",
      " |      x.__delattr__('name') <==> del x.name\n",
      " |  \n",
      " |  __getattribute__(...)\n",
      " |      x.__getattribute__('name') <==> x.name\n",
      " |  \n",
      " |  __getitem__(...)\n",
      " |      x.__getitem__(y) <==> x[y]\n",
      " |  \n",
      " |  __getslice__(...)\n",
      " |      x.__getslice__(i, j) <==> x[i:j]\n",
      " |      \n",
      " |      Use of negative indices is not supported.\n",
      " |  \n",
      " |  __reduce__(...)\n",
      " |  \n",
      " |  __repr__(...)\n",
      " |      x.__repr__() <==> repr(x)\n",
      " |  \n",
      " |  __setattr__(...)\n",
      " |      x.__setattr__('name', value) <==> x.name = value\n",
      " |  \n",
      " |  __setstate__(...)\n",
      " |  \n",
      " |  __unicode__(...)\n",
      " |  \n",
      " |  ----------------------------------------------------------------------\n",
      " |  Data descriptors inherited from exceptions.BaseException:\n",
      " |  \n",
      " |  __dict__\n",
      " |  \n",
      " |  args\n",
      " |  \n",
      " |  message\n",
      "\n"
     ]
    }
   ],
   "source": [
    "help(gp.GPException)"
   ]
  },
  {
   "cell_type": "code",
   "execution_count": null,
   "metadata": {
    "collapsed": true
   },
   "outputs": [],
   "source": []
  }
 ],
 "metadata": {
  "kernelspec": {
   "display_name": "Python 2",
   "language": "python",
   "name": "python2"
  },
  "language_info": {
   "codemirror_mode": {
    "name": "ipython",
    "version": 2
   },
   "file_extension": ".py",
   "mimetype": "text/x-python",
   "name": "python",
   "nbconvert_exporter": "python",
   "pygments_lexer": "ipython2",
   "version": "2.7.9"
  }
 },
 "nbformat": 4,
 "nbformat_minor": 0
}
