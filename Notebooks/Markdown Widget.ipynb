{
 "cells": [
  {
   "cell_type": "markdown",
   "metadata": {},
   "source": [
    "# title"
   ]
  },
  {
   "cell_type": "code",
   "execution_count": 34,
   "metadata": {
    "collapsed": false
   },
   "outputs": [],
   "source": [
    "# !AUTOEXEC\n",
    "\n",
    "%reload_ext genepattern\n",
    "\n",
    "# Don't have the GenePattern Notebook? It can be installed from PIP: \n",
    "# pip install genepattern-notebook \n",
    "import gp\n",
    "\n",
    "# The following widgets are components of the GenePattern Notebook extension.\n",
    "try:\n",
    "    from genepattern import GPAuthWidget, GPJobWidget, GPTaskWidget\n",
    "except:\n",
    "    def GPAuthWidget(input):\n",
    "        print(\"GP Widget Library not installed. Please visit http://genepattern.org\")\n",
    "    def GPJobWidget(input):\n",
    "        print(\"GP Widget Library not installed. Please visit http://genepattern.org\")\n",
    "    def GPTaskWidget(input):\n",
    "        print(\"GP Widget Library not installed. Please visit http://genepattern.org\")\n",
    "\n",
    "# The gpserver object holds your authentication credentials and is used to\n",
    "# make calls to the GenePattern server through the GenePattern Python library.\n",
    "# Your actual username and password have been removed from the code shown\n",
    "# below for security reasons.\n",
    "gpserver = gp.GPServer(\"https://genepattern.broadinstitute.org/gp\", \"\", \"\")\n",
    "\n",
    "# Return the authentication widget to view it\n",
    "GPAuthWidget(gpserver)"
   ]
  },
  {
   "cell_type": "code",
   "execution_count": 35,
   "metadata": {
    "collapsed": true
   },
   "outputs": [],
   "source": [
    "# !AUTOEXEC\n",
    "\n",
    "convertlineendings_task = gp.GPTask(gpserver, 'urn:lsid:broad.mit.edu:cancer.software.genepattern.module.analysis:00002:2')\n",
    "convertlineendings_job_spec = convertlineendings_task.make_job_spec()\n",
    "convertlineendings_job_spec.set_parameter(\"input.filename\", \"https://genepattern.broadinstitute.org/gp/users/tabor%40broadinstitute.org/tmp/run6587372442066073983.tmp/all_aml_train.cls\")\n",
    "convertlineendings_job_spec.set_parameter(\"output.file\", \"<input.filename_basename>.cvt.<input.filename_extension>\")\n",
    "GPTaskWidget(convertlineendings_task)"
   ]
  },
  {
   "cell_type": "code",
   "execution_count": 36,
   "metadata": {
    "collapsed": true
   },
   "outputs": [],
   "source": [
    "# !AUTOEXEC\n",
    "\n",
    "job1363866 = gp.GPJob(gpserver, 1363866)\n",
    "job1363866.job_number = 1363866\n",
    "GPJobWidget(job1363866)"
   ]
  },
  {
   "cell_type": "code",
   "execution_count": 37,
   "metadata": {
    "collapsed": true
   },
   "outputs": [],
   "source": [
    "# !AUTOEXEC\n",
    "\n",
    "job1363865 = gp.GPJob(gpserver, 1363865)\n",
    "job1363865.job_number = 1363865\n",
    "GPJobWidget(job1363865)"
   ]
  },
  {
   "cell_type": "code",
   "execution_count": 38,
   "metadata": {
    "collapsed": true
   },
   "outputs": [],
   "source": [
    "# !AUTOEXEC\n",
    "\n",
    "job1363864 = gp.GPJob(gpserver, 1363864)\n",
    "job1363864.job_number = 1363864\n",
    "GPJobWidget(job1363864)"
   ]
  },
  {
   "cell_type": "code",
   "execution_count": 39,
   "metadata": {
    "collapsed": true
   },
   "outputs": [],
   "source": [
    "# !AUTOEXEC\n",
    "\n",
    "job1363863 = gp.GPJob(gpserver, 1363863)\n",
    "job1363863.job_number = 1363863\n",
    "GPJobWidget(job1363863)"
   ]
  },
  {
   "cell_type": "code",
   "execution_count": 40,
   "metadata": {
    "collapsed": true
   },
   "outputs": [],
   "source": [
    "# !AUTOEXEC\n",
    "\n",
    "job1363862 = gp.GPJob(gpserver, 1363862)\n",
    "job1363862.job_number = 1363862\n",
    "GPJobWidget(job1363862)"
   ]
  },
  {
   "cell_type": "code",
   "execution_count": 41,
   "metadata": {
    "collapsed": true
   },
   "outputs": [],
   "source": [
    "# !AUTOEXEC\n",
    "\n",
    "job1363861 = gp.GPJob(gpserver, 1363861)\n",
    "job1363861.job_number = 1363861\n",
    "GPJobWidget(job1363861)"
   ]
  },
  {
   "cell_type": "code",
   "execution_count": 42,
   "metadata": {
    "collapsed": true
   },
   "outputs": [],
   "source": [
    "# !AUTOEXEC\n",
    "\n",
    "job1363860 = gp.GPJob(gpserver, 1363860)\n",
    "job1363860.job_number = 1363860\n",
    "GPJobWidget(job1363860)"
   ]
  },
  {
   "cell_type": "code",
   "execution_count": 43,
   "metadata": {
    "collapsed": true
   },
   "outputs": [],
   "source": [
    "# !AUTOEXEC\n",
    "\n",
    "job1363859 = gp.GPJob(gpserver, 1363859)\n",
    "job1363859.job_number = 1363859\n",
    "GPJobWidget(job1363859)"
   ]
  },
  {
   "cell_type": "code",
   "execution_count": 44,
   "metadata": {
    "collapsed": true
   },
   "outputs": [],
   "source": [
    "# !AUTOEXEC\n",
    "\n",
    "job1363858 = gp.GPJob(gpserver, 1363858)\n",
    "job1363858.job_number = 1363858\n",
    "GPJobWidget(job1363858)"
   ]
  },
  {
   "cell_type": "markdown",
   "metadata": {},
   "source": [
    "* ok\n",
    "* no"
   ]
  },
  {
   "cell_type": "markdown",
   "metadata": {},
   "source": [
    "<!-- #!AUTOEXEC -->\n",
    "<div class=\"panel panel-primary\">\n",
    "<div class=\"panel-heading\">\n",
    "<div class=\"panel-title\">GenePattern Analysis Widget</div>\n",
    "</div>\n",
    "<div class=\"panel-body\">\n",
    "<div class=\"alert alert-warning\">\n",
    "            This cell is intended for use with the \n",
    "            <a class=\"alert-link\" href=\"http://genepattern-notebook.org\">GenePattern Notebook</a> \n",
    "            extension. Installing the extension will turn this cell into an interactive widget \n",
    "            that can interface with a \n",
    "            <a class=\"alert-link\" href=\"http://genepattern.org\">GenePattern</a> server.\n",
    "</div>\n",
    "\n",
    "<!-- BEGIN PARAMS -->\n",
    "<form class=\"form-horizontal\">\n",
    "<div class=\"form-group\">\n",
    "<label class=\"col-md-3\">lsid</label> <var class=\"col-md-9\">urn:xxx:xxx:xxx:xxx:1234</var>\n",
    "</div>\n",
    "<div class=\"form-group\">\n",
    "<label class=\"col-md-3\">input.file</label> <var class=\"col-md-9\">something.txt</var>\n",
    "</div>\n",
    "</form>\n",
    "<!-- END PARAMS -->\n",
    "\n",
    "</div>\n",
    "</div>"
   ]
  },
  {
   "cell_type": "code",
   "execution_count": null,
   "metadata": {
    "collapsed": true
   },
   "outputs": [],
   "source": []
  },
  {
   "cell_type": "code",
   "execution_count": null,
   "metadata": {
    "collapsed": true
   },
   "outputs": [],
   "source": []
  }
 ],
 "metadata": {
  "kernelspec": {
   "display_name": "Python 3",
   "language": "python",
   "name": "python3"
  },
  "language_info": {
   "codemirror_mode": {
    "name": "ipython",
    "version": 3
   },
   "file_extension": ".py",
   "mimetype": "text/x-python",
   "name": "python",
   "nbconvert_exporter": "python",
   "pygments_lexer": "ipython3",
   "version": "3.4.4"
  },
  "widgets": {
   "state": {
    "00094990351a4752961f86c2e766dc72": {
     "views": []
    },
    "01d367c9b5954f92a8295b5e263c4dc6": {
     "views": [
      {
       "cell_index": 10
      }
     ]
    },
    "044d4b79ac80488bab6fc9d7c0ce2634": {
     "views": []
    },
    "04c04ba4bd7742b5ba414c227cdffad5": {
     "views": []
    },
    "0615190020aa4d85bd64aac2bee4d677": {
     "views": []
    },
    "07b8d35c8ee541f8b4fe9a60642404b4": {
     "views": [
      {
       "cell_index": 6
      }
     ]
    },
    "082bc0205dce49118eb08d431fdb82c8": {
     "views": []
    },
    "0b952e1e791742f9a145a4f10d18ebab": {
     "views": [
      {
       "cell_index": 8
      }
     ]
    },
    "0fc7924aa7084b14a8347226a869c23f": {
     "views": [
      {
       "cell_index": 7
      }
     ]
    },
    "115a25a9fb4b4ea888316458a70fc691": {
     "views": []
    },
    "17a0aa72a29d4c728fc049ba707015c1": {
     "views": []
    },
    "196a5c4260934905a99c844533fe7363": {
     "views": []
    },
    "19a8aafdd16843079a2009316908de58": {
     "views": []
    },
    "19f99710a8be4e308c05e87ac42a310f": {
     "views": []
    },
    "206d4ef48afd44c9a1ec7269c1c13af0": {
     "views": []
    },
    "22e13323c5aa4287a72703407c078595": {
     "views": []
    },
    "2634bb3a229b4e3f883fe1ff92d3916b": {
     "views": [
      {
       "cell_index": 5
      }
     ]
    },
    "26dec67ad13d4afcb285f364f881e3f6": {
     "views": [
      {
       "cell_index": 2
      }
     ]
    },
    "27a5e647f92c4d0e8f9e5878ffc90b19": {
     "views": []
    },
    "2b6163e96cf74baea1fc9b2465f1fb4e": {
     "views": []
    },
    "2b7d05de3c1648dcb11cc56a8bfed777": {
     "views": []
    },
    "31b39e1fb3684fe98d030906de7d1d68": {
     "views": []
    },
    "3210eca83f114b9c982c88119a2aa379": {
     "views": []
    },
    "354f9051592740b7af20282910b8e078": {
     "views": []
    },
    "376d46e1df7949f6bf6a60b3c5084325": {
     "views": []
    },
    "38daed289645403c8e6bab97a900dfcc": {
     "views": []
    },
    "38e0f59838b3403b98cbee6aa2dc34a0": {
     "views": [
      {
       "cell_index": 6
      }
     ]
    },
    "3912748e1cf14245be95469ab2711510": {
     "views": []
    },
    "4042ad3463214c7db9cfd5d32bac8f8b": {
     "views": [
      {
       "cell_index": 5
      }
     ]
    },
    "455de42e36c34530963a2cc138deabf9": {
     "views": []
    },
    "4c495775632e4689b933bc47f72400df": {
     "views": [
      {
       "cell_index": 9
      }
     ]
    },
    "4debeff9e7d24481910b96eae369e1a7": {
     "views": []
    },
    "501a0fb5496b4a359b56043e1cd15bbf": {
     "views": []
    },
    "50c0c3dbedb54390b9eabd74ff976919": {
     "views": []
    },
    "5f699932c58d443db6c371c5dde4186c": {
     "views": []
    },
    "629b30f2927a4ebba1fe448cfea69dd1": {
     "views": []
    },
    "6bf47f1053c146198d79a4815a78cdea": {
     "views": [
      {
       "cell_index": 4
      }
     ]
    },
    "752df38315324d9e984b59d72908ac31": {
     "views": []
    },
    "764676f601f240bf806234080e914d94": {
     "views": []
    },
    "790ed5c08527485aa3964992dbaf426a": {
     "views": [
      {
       "cell_index": 2
      }
     ]
    },
    "7aeebb91c19e4290ac8a09d7b7dc12a7": {
     "views": []
    },
    "7ce631ebb1114dd6a00ea9bc01783ff9": {
     "views": [
      {
       "cell_index": 11
      }
     ]
    },
    "82afed89966740de83492117e7938f1e": {
     "views": [
      {
       "cell_index": 7
      }
     ]
    },
    "8f7b31f8f8c24874b34783eabb8e5beb": {
     "views": []
    },
    "9794b95873aa4a76b2e3d979e167de76": {
     "views": []
    },
    "9cf329559d324155a8d8a1a9279fe59f": {
     "views": [
      {
       "cell_index": 11
      }
     ]
    },
    "9ea6544c7f11425f9f62d634dee26127": {
     "views": []
    },
    "9f355d038c344ad6bdae6883c2dfbeec": {
     "views": []
    },
    "9fddef6b868a4682a5e43602ff3e0610": {
     "views": []
    },
    "a088a5ade0074f2ab1b222b961b14a5d": {
     "views": []
    },
    "a7589f14025f4edd9eb8b00d0aee9584": {
     "views": []
    },
    "aaa9f0b1349e46c79a36f83e2cdb0248": {
     "views": []
    },
    "b04f6fa15ad14939b33b5c64e601f612": {
     "views": []
    },
    "b12862318dcf41799bf3ce81231d3c4d": {
     "views": []
    },
    "b25d8bc144bb437e855a5255872d03ea": {
     "views": []
    },
    "b34c2546a1b24d13a240a18a6bbc1399": {
     "views": [
      {
       "cell_index": 3
      }
     ]
    },
    "b463330c82cd4bc4b8fbf2d552e38577": {
     "views": []
    },
    "ba6b5827a7f84a5f85887c194ff59d63": {
     "views": []
    },
    "bab5d26f954d47b2a986c4998b647cd2": {
     "views": []
    },
    "c198a4ba854f431f9e584d28d14eabf3": {
     "views": []
    },
    "c99d2c45e4f04b2db11800bfa7df3103": {
     "views": [
      {
       "cell_index": 4
      }
     ]
    },
    "cba4c0c5b403435d858cbaf1a19ced51": {
     "views": []
    },
    "cbb7d0debcdc4f48b4747e6d2edbb120": {
     "views": []
    },
    "cdcd69b3122449e590c10f4289dde8ab": {
     "views": []
    },
    "d0e48365fd564dd2b087f984486a0015": {
     "views": [
      {
       "cell_index": 3
      }
     ]
    },
    "d0e6e8640c2c4b58bf897a18fbf2df6e": {
     "views": []
    },
    "d229a05479ed428aaf9cf1e5e6da42c6": {
     "views": []
    },
    "d430367546854a2c82093f5e85f9a320": {
     "views": []
    },
    "d701e45f4d9f4fb2bb7cc5a95e148592": {
     "views": []
    },
    "d7cc3c1b3cf4491fa93db0b6dfd69be3": {
     "views": []
    },
    "db5c02dfb8cb4de1be92a9b3a643277e": {
     "views": []
    },
    "dc6f3cf1184b44f0a4ba1bd8fb33b7be": {
     "views": []
    },
    "dca37af2df0649a8b9876d350bbe4a7f": {
     "views": [
      {
       "cell_index": 1
      }
     ]
    },
    "ddf233f294404360b96c387d67147a42": {
     "views": [
      {
       "cell_index": 1
      }
     ]
    },
    "e4e782431ed64d658d9f3f8b8788e06d": {
     "views": []
    },
    "e591452756594d749dbda719f01e1295": {
     "views": []
    },
    "e59d713be99e43108f5c84fefbeed6d6": {
     "views": []
    },
    "e645d3fa95ee442f9439630df0c46e6b": {
     "views": []
    },
    "e686c85c4bcd41a7a03b63a61b8e9062": {
     "views": [
      {
       "cell_index": 8
      }
     ]
    },
    "e6f36a0e912a4bb9ba90a36ea753b320": {
     "views": []
    },
    "eb327c09771046cbbd57930f4edbd272": {
     "views": []
    },
    "ec706eddefa845c38a56f21e94a30db7": {
     "views": []
    },
    "edec3f6563864f768eebfcc59d75e8d7": {
     "views": []
    },
    "f577295c75da44cead9b545f862e5ad8": {
     "views": []
    },
    "f5ebccd84950423eabaf625f7d9c835e": {
     "views": [
      {
       "cell_index": 9
      }
     ]
    },
    "f7108384de7942e8b4ff11b0a0c029a6": {
     "views": []
    },
    "f9b67f64919f4b0d823318ba8458105e": {
     "views": []
    },
    "fa99dc38ee4a4dadb6941c4b8b2ab0b4": {
     "views": [
      {
       "cell_index": 10
      }
     ]
    }
   },
   "version": "1.1.2"
  }
 },
 "nbformat": 4,
 "nbformat_minor": 0
}
