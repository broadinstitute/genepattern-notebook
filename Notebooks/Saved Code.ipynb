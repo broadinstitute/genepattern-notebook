{
 "cells": [
  {
   "cell_type": "code",
   "execution_count": 2,
   "metadata": {
    "collapsed": false
   },
   "outputs": [
    {
     "data": {
      "application/javascript": [
       "/*\n",
       " * Load required CSS files\n",
       " */\n",
       "\n",
       "$('head')\n",
       "    // Import styles used by GenePattern navigation\n",
       "    .append(\n",
       "        $('<link rel=\"stylesheet\" type=\"text/css\" />')\n",
       "            .attr(\"rel\", \"stylesheet\")\n",
       "            .attr(\"type\", \"text/css\")\n",
       "            .attr('href', '/static/genepattern/gp-navigation.css')\n",
       "    )\n",
       "    // Import styles used by GenePattern widgets\n",
       "    .append(\n",
       "        $('<link rel=\"stylesheet\" type=\"text/css\" />')\n",
       "            .attr(\"rel\", \"stylesheet\")\n",
       "            .attr(\"type\", \"text/css\")\n",
       "            .attr('href', '/static/genepattern/gp-widget.css')\n",
       "    );\n",
       "\n",
       "/*\n",
       " * Load the required JavaScript files and init\n",
       " */\n",
       "\n",
       "requirejs([\n",
       "    \"jquery\",\n",
       "    \"/static/genepattern/gp.js\",\n",
       "    \"/static/genepattern/navigation.js\",\n",
       "    \"/static/genepattern/auth-widget.js\",\n",
       "    \"/static/genepattern/job-widget.js\",\n",
       "    \"/static/genepattern/task-widget.js\"], function(util) {\n",
       "\n",
       "    // Initiate the GenePattern Notebook extension\n",
       "    // If reloading a notebook, display with the full event model\n",
       "    $([IPython.events]).on('kernel_ready.Kernel kernel_created.Session notebook_loaded.Notebook', GenePattern.notebook.init.notebook_init_wrapper);\n",
       "\n",
       "    // Otherwise, if not initialized after two seconds, manually init\n",
       "    setTimeout(function() {\n",
       "        if (!GenePattern.notebook.init.launch_init.done_init  && IPython.notebook.kernel) {\n",
       "            GenePattern.notebook.init.notebook_init_wrapper();\n",
       "        }\n",
       "    }, 2000);\n",
       "});"
      ],
      "text/plain": [
       "<IPython.core.display.Javascript object>"
      ]
     },
     "metadata": {},
     "output_type": "display_data"
    }
   ],
   "source": [
    "# !AUTOEXEC\n",
    "\n",
    "%reload_ext gp\n",
    "%reload_ext genepattern\n",
    "\n",
    "# Don't have the GenePattern library? It can be downloaded from: \n",
    "# http://genepattern.broadinstitute.org/gp/downloads/gp-python.zip \n",
    "# or installed through PIP: pip install genepattern-python \n",
    "import gp\n",
    "\n",
    "# The following widgets are components of the GenePattern Notebook extension.\n",
    "try:\n",
    "    from gp_widgets import GPAuthWidget, GPJobWidget, GPTaskWidget\n",
    "except:\n",
    "    def GPAuthWidget(input):\n",
    "        print(\"GP Widget Library not installed. Please visit http://genepattern.org\")\n",
    "    def GPJobWidget(input):\n",
    "        print(\"GP Widget Library not installed. Please visit http://genepattern.org\")\n",
    "    def GPTaskWidget(input):\n",
    "        print(\"GP Widget Library not installed. Please visit http://genepattern.org\")\n",
    "\n",
    "# The gpserver object holds your authentication credentials and is used to\n",
    "# make calls to the GenePattern server through the GenePattern Python library.\n",
    "# Your actual username and password have been removed from the code shown\n",
    "# below for security reasons.\n",
    "gpserver = gp.GPServer(\"http://genepattern.broadinstitute.org/gp\", \"\", \"\")\n",
    "\n",
    "# Return the authentication widget to view it\n",
    "GPAuthWidget(gpserver)"
   ]
  },
  {
   "cell_type": "code",
   "execution_count": 20,
   "metadata": {
    "collapsed": false
   },
   "outputs": [
    {
     "data": {
      "application/javascript": [
       "alert(window.test)"
      ],
      "text/plain": [
       "<IPython.core.display.Javascript object>"
      ]
     },
     "execution_count": 20,
     "metadata": {},
     "output_type": "execute_result"
    }
   ],
   "source": [
    "from IPython.display import Javascript\n",
    "Javascript(\"\"\"window.bar = 5;alert(window.bar);\"\"\")\n",
    "Javascript(\"\"\"$.getScript('/static/custom/test.js')\"\"\")\n",
    "Javascript(\"\"\"alert(window.test)\"\"\")"
   ]
  },
  {
   "cell_type": "code",
   "execution_count": 21,
   "metadata": {
    "collapsed": false
   },
   "outputs": [
    {
     "data": {
      "application/javascript": [
       "\n",
       "window.bar = 5;\n",
       "alert(window.bar);"
      ],
      "text/plain": [
       "<IPython.core.display.Javascript object>"
      ]
     },
     "metadata": {},
     "output_type": "display_data"
    }
   ],
   "source": [
    "%%javascript\n",
    "\n",
    "window.bar = 5;\n",
    "alert(window.bar);"
   ]
  },
  {
   "cell_type": "code",
   "execution_count": 22,
   "metadata": {
    "collapsed": false
   },
   "outputs": [
    {
     "data": {
      "application/javascript": [
       "$.getScript('/static/custom/test.js')"
      ],
      "text/plain": [
       "<IPython.core.display.Javascript object>"
      ]
     },
     "execution_count": 22,
     "metadata": {},
     "output_type": "execute_result"
    }
   ],
   "source": [
    "from IPython.display import Javascript\n",
    "Javascript(\"\"\"$.getScript('/static/custom/test.js')\"\"\")"
   ]
  },
  {
   "cell_type": "code",
   "execution_count": 23,
   "metadata": {
    "collapsed": false
   },
   "outputs": [
    {
     "data": {
      "application/javascript": [
       "\n",
       "alert(window.test);"
      ],
      "text/plain": [
       "<IPython.core.display.Javascript object>"
      ]
     },
     "metadata": {},
     "output_type": "display_data"
    }
   ],
   "source": [
    "%%javascript\n",
    "\n",
    "alert(window.test);"
   ]
  },
  {
   "cell_type": "code",
   "execution_count": 25,
   "metadata": {
    "collapsed": false
   },
   "outputs": [
    {
     "name": "stdout",
     "output_type": "stream",
     "text": [
      "/bin/sh: line 0: cd: /Users/tabor/.ipython/profile_default/static/custom: No such file or directory\r\n"
     ]
    }
   ],
   "source": [
    "!cd ~/.ipython/profile_default/static/custom"
   ]
  },
  {
   "cell_type": "code",
   "execution_count": null,
   "metadata": {
    "collapsed": true
   },
   "outputs": [],
   "source": []
  }
 ],
 "metadata": {
  "kernelspec": {
   "display_name": "Python 2",
   "language": "python",
   "name": "python2"
  },
  "language_info": {
   "codemirror_mode": {
    "name": "ipython",
    "version": 2
   },
   "file_extension": ".py",
   "mimetype": "text/x-python",
   "name": "python",
   "nbconvert_exporter": "python",
   "pygments_lexer": "ipython2",
   "version": "2.7.5"
  }
 },
 "nbformat": 4,
 "nbformat_minor": 0
}
