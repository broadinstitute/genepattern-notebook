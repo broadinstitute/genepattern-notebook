{
 "cells": [
  {
   "cell_type": "code",
   "execution_count": 3,
   "metadata": {
    "collapsed": true
   },
   "outputs": [
    {
     "data": {
      "application/javascript": [
       "/**\n",
       " * Load required CSS files\n",
       " *\n",
       " * @author Thorin Tabor\n",
       " * @requires - jQuery, navigation.js\n",
       " *\n",
       " * Copyright 2015 The Broad Institute, Inc.\n",
       " *\n",
       " * SOFTWARE COPYRIGHT NOTICE\n",
       " * This software and its documentation are the copyright of the Broad Institute, Inc. All rights are reserved.\n",
       " * This software is supplied without any warranty or guaranteed support whatsoever. The Broad Institute is not\n",
       " * responsible for its use, misuse, or functionality.\n",
       " */\n",
       "\n",
       "// Add shim to support Jupyter 3.x and 4.x\n",
       "var Jupyter = Jupyter || IPython || {};\n",
       "\n",
       "// Add file path shim for Jupyter 3/4\n",
       "var STATIC_PATH = location.origin;\n",
       "if (Jupyter.version >= \"4.0.0\") {\n",
       "    STATIC_PATH += Jupyter.contents.base_url + \"custom/genepattern/\";\n",
       "}\n",
       "else STATIC_PATH += \"/static/genepattern/\";\n",
       "\n",
       "$('head')\n",
       "    // Import styles used by GenePattern navigation\n",
       "    .append(\n",
       "        $('<link rel=\"stylesheet\" type=\"text/css\" />')\n",
       "            .attr(\"rel\", \"stylesheet\")\n",
       "            .attr(\"type\", \"text/css\")\n",
       "            .attr('href', STATIC_PATH + 'gp-navigation.css')\n",
       "    )\n",
       "    // Import styles used by GenePattern widgets\n",
       "    .append(\n",
       "        $('<link rel=\"stylesheet\" type=\"text/css\" />')\n",
       "            .attr(\"rel\", \"stylesheet\")\n",
       "            .attr(\"type\", \"text/css\")\n",
       "            .attr('href', STATIC_PATH + 'gp-widget.css')\n",
       "    );\n",
       "\n",
       "/*\n",
       " * Load the required JavaScript files and init\n",
       " */\n",
       "\n",
       "requirejs([\n",
       "    \"jquery\",\n",
       "    STATIC_PATH + \"gp.js\",\n",
       "    STATIC_PATH + \"navigation.js\",\n",
       "    STATIC_PATH + \"auth-widget.js\",\n",
       "    STATIC_PATH + \"job-widget.js\",\n",
       "    STATIC_PATH + \"task-widget.js\"], function() {\n",
       "\n",
       "    // Initiate the GenePattern Notebook extension\n",
       "    // If reloading a notebook, display with the full event model\n",
       "    $([Jupyter.events]).on('kernel_ready.Kernel kernel_created.Session notebook_loaded.Notebook', GenePattern.notebook.init.notebook_init_wrapper);\n",
       "\n",
       "    // Otherwise, if not initialized after two seconds, manually init\n",
       "    setTimeout(function() {\n",
       "        if (!GenePattern.notebook.init.launch_init.done_init  && Jupyter.notebook.kernel) {\n",
       "            GenePattern.notebook.init.notebook_init_wrapper();\n",
       "        }\n",
       "    }, 2000);\n",
       "});"
      ],
      "text/plain": [
       "<IPython.core.display.Javascript object>"
      ]
     },
     "metadata": {},
     "output_type": "display_data"
    }
   ],
   "source": [
    "# !AUTOEXEC\n",
    "\n",
    "%reload_ext gp\n",
    "%reload_ext genepattern\n",
    "\n",
    "# Don't have the GenePattern library? It can be downloaded from: \n",
    "# http://genepattern.broadinstitute.org/gp/downloads/gp-python.zip \n",
    "# or installed through PIP: pip install genepattern-python \n",
    "import gp\n",
    "\n",
    "# The following widgets are components of the GenePattern Notebook extension.\n",
    "try:\n",
    "    from genepattern import GPAuthWidget, GPJobWidget, GPTaskWidget\n",
    "except:\n",
    "    def GPAuthWidget(input):\n",
    "        print(\"GP Widget Library not installed. Please visit http://genepattern.org\")\n",
    "    def GPJobWidget(input):\n",
    "        print(\"GP Widget Library not installed. Please visit http://genepattern.org\")\n",
    "    def GPTaskWidget(input):\n",
    "        print(\"GP Widget Library not installed. Please visit http://genepattern.org\")\n",
    "\n",
    "# The gpserver object holds your authentication credentials and is used to\n",
    "# make calls to the GenePattern server through the GenePattern Python library.\n",
    "# Your actual username and password have been removed from the code shown\n",
    "# below for security reasons.\n",
    "gpserver = gp.GPServer(\"http://genepatternbeta.broadinstitute.org/gp\", \"\", \"\")\n",
    "\n",
    "# Return the authentication widget to view it\n",
    "GPAuthWidget(gpserver)"
   ]
  },
  {
   "cell_type": "code",
   "execution_count": 4,
   "metadata": {
    "collapsed": true
   },
   "outputs": [],
   "source": [
    "# !AUTOEXEC\n",
    "\n",
    "convertlineendings_task = gp.GPTask(gpserver, 'urn:lsid:broad.mit.edu:cancer.software.genepattern.module.analysis:00002:2')\n",
    "convertlineendings_job_spec = convertlineendings_task.make_job_spec()\n",
    "convertlineendings_job_spec.set_parameter(\"input.filename\", \"http://genepatternbeta.broadinstitute.org/gp/users/tabor/tmp/run1639452504856710711.tmp/a.txt\")\n",
    "convertlineendings_job_spec.set_parameter(\"output.file\", \"<input.filename_basename>.cvt.<input.filename_extension>\")\n",
    "GPTaskWidget(convertlineendings_task)"
   ]
  },
  {
   "cell_type": "code",
   "execution_count": 5,
   "metadata": {
    "collapsed": true
   },
   "outputs": [],
   "source": [
    "# !AUTOEXEC\n",
    "\n",
    "job132340 = gp.GPJob(gpserver, 132340)\n",
    "job132340.job_number = 132340\n",
    "GPJobWidget(job132340)"
   ]
  },
  {
   "cell_type": "markdown",
   "metadata": {},
   "source": [
    "# Widgets\n",
    "\n",
    "Three widgets are currently implemented for GenePattern Notebook.\n",
    "\n",
    "## Authentication Widget\n",
    "\n",
    "The widget that can be seen at the top of the notebook is the authentication widget. \n",
    "* This widget is a frontend for the code that makes the notebook work - importing the GenePattern plugin for IPython, authenticating with the GenePattern server, etc. \n",
    "* It can also serve as a visual reminder for which username and GenePattern server the user is authenticated through. \n",
    "* Finally, it can be used to display the code involved, which might be useful if a user is attempting to learn how to work with GenePattern programmatically.\n",
    "\n",
    "## Job Widget\n",
    "\n",
    "The Job widget is the next widget shown below. This widget keeps track of a job launched through the GenePattern Notebook interface. \n",
    "* It will dynamically update itself while a job is running to obtain the latest job status. \n",
    "* It will also display information on when the job was submitted, along with any output files produced by the job. \n",
    "* It has the capability to display the code associated with the job.\n",
    "* The job was be easily reloaded and another job launched with the exact same parameters.\n",
    "\n",
    "## Task Widget\n",
    "\n",
    "The Task widget is the bottom widget below. This widget is used to enter input parameters and launch GenePattern jobs.\n",
    "* Users can enter parameters information here, as well as uploading files or including URLs to external files.\n",
    "* All the code to programmatically run the job can be viewed from the widget.\n",
    "* When a job is run, this widget will be replaced with a Job widget that tracks the job that was just created. All the parameters that were entered are tracked and can be recovered through the \"Reload Job\" feature."
   ]
  },
  {
   "cell_type": "markdown",
   "metadata": {},
   "source": [
    "# Markup\n",
    "\n",
    "All of the standard IPython markup options are available. This includes using Markdown and LaTeX style annotations. For example, a formula using LaTeX is shown below.\n",
    "\n",
    "\\begin{align}\n",
    "    E_0 &= mc^2\n",
    "    E &= \\frac{mc^2}{\\sqrt{1-\\frac{v^2}{c^2}}}\n",
    "\\end{align}\n",
    "\n",
    "# Programming\n",
    "\n",
    "For users that are programmers, there is a Python interface for all of the functions included in the GenePattern Notebook. This includes the ability to programmatically work with any of the results from the widgets above.\n",
    "\n",
    "For example, below you can see a code cell where attributes from the Picard.FastqToSam are retreieved in Python."
   ]
  },
  {
   "cell_type": "code",
   "execution_count": 8,
   "metadata": {
    "collapsed": false
   },
   "outputs": [
    {
     "name": "stdout",
     "output_type": "stream",
     "text": [
      "Job Object: <gp.GPJob object at 0x1102bd9d0>\n",
      "Output Files: [<gp.GPFile object at 0x1122f3950>]\n",
      "URL of first output file: http://127.0.0.1:8080/gp/jobResults/104/SRR1182277_Ts8_2.bam\n"
     ]
    }
   ],
   "source": [
    "print \"Job Object: \" + str(job104)\n",
    "print \"Output Files: \" + str(job104.get_output_files())\n",
    "print \"URL of first output file: \" + job104.get_output_files()[0].get_url()"
   ]
  },
  {
   "cell_type": "markdown",
   "metadata": {},
   "source": [
    "It's standard IPython practice to provide a library of programmatic shortcuts called \"Magics.\" This has also been implemented in the GenePattern notebook. These commands can be used to set Python variables or to create widgets. Two examples are given below."
   ]
  },
  {
   "cell_type": "code",
   "execution_count": null,
   "metadata": {
    "collapsed": true
   },
   "outputs": [],
   "source": [
    "%reload_ext gp_magics"
   ]
  },
  {
   "cell_type": "code",
   "execution_count": null,
   "metadata": {
    "collapsed": true
   },
   "outputs": [],
   "source": [
    "job = %get_job $gpserver 105\n",
    "GPJobWidget(job)"
   ]
  },
  {
   "cell_type": "code",
   "execution_count": 27,
   "metadata": {
    "collapsed": true
   },
   "outputs": [],
   "source": [
    "task = %get_task $gpserver ConvertLineEndings\n",
    "GPTaskWidget(task)"
   ]
  },
  {
   "cell_type": "markdown",
   "metadata": {},
   "source": [
    "# Demonstrate Workflow Below Here"
   ]
  },
  {
   "cell_type": "code",
   "execution_count": null,
   "metadata": {
    "collapsed": true
   },
   "outputs": [],
   "source": []
  }
 ],
 "metadata": {
  "kernelspec": {
   "display_name": "Python 2",
   "language": "python",
   "name": "python2"
  },
  "language_info": {
   "codemirror_mode": {
    "name": "ipython",
    "version": 2
   },
   "file_extension": ".py",
   "mimetype": "text/x-python",
   "name": "python",
   "nbconvert_exporter": "python",
   "pygments_lexer": "ipython2",
   "version": "2.7.5"
  }
 },
 "nbformat": 4,
 "nbformat_minor": 0
}
