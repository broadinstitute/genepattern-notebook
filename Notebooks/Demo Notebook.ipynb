{
 "cells": [
  {
   "cell_type": "code",
   "execution_count": 78,
   "metadata": {},
   "outputs": [
    {
     "metadata": {}
    }
   ],
   "source": [
    "# !AUTOEXEC\n",
    "\n",
    "%reload_ext gp\n",
    "%reload_ext genepattern\n",
    "\n",
    "# Don't have the GenePattern library? It can be downloaded from: \n",
    "# http://genepattern.broadinstitute.org/gp/downloads/gp-python.zip \n",
    "# or installed through PIP: pip install genepattern-python \n",
    "import gp\n",
    "\n",
    "# The following widgets are components of the GenePattern Notebook extension.\n",
    "try:\n",
    "    from genepattern import GPAuthWidget, GPJobWidget, GPTaskWidget\n",
    "except:\n",
    "    def GPAuthWidget(input):\n",
    "        print(\"GP Widget Library not installed. Please visit http://genepattern.org\")\n",
    "    def GPJobWidget(input):\n",
    "        print(\"GP Widget Library not installed. Please visit http://genepattern.org\")\n",
    "    def GPTaskWidget(input):\n",
    "        print(\"GP Widget Library not installed. Please visit http://genepattern.org\")\n",
    "\n",
    "# The gpserver object holds your authentication credentials and is used to\n",
    "# make calls to the GenePattern server through the GenePattern Python library.\n",
    "# Your actual username and password have been removed from the code shown\n",
    "# below for security reasons.\n",
    "gpserver = gp.GPServer(\"http://genepatternbeta.broadinstitute.org/gp\", \"\", \"\")\n",
    "\n",
    "# Return the authentication widget to view it\n",
    "GPAuthWidget(gpserver)"
   ]
  },
  {
   "cell_type": "markdown",
   "metadata": {},
   "source": [
    "# Widgets\n",
    "\n",
    "Three widgets are currently implemented for GenePattern Notebook.\n",
    "\n",
    "## Authentication Widget\n",
    "\n",
    "The widget that can be seen at the top of the notebook is the authentication widget. \n",
    "* This widget is a frontend for the code that makes the notebook work - importing the GenePattern plugin for IPython, authenticating with the GenePattern server, etc. \n",
    "* It can also serve as a visual reminder for which username and GenePattern server the user is authenticated through. \n",
    "* Finally, it can be used to display the code involved, which might be useful if a user is attempting to learn how to work with GenePattern programmatically.\n",
    "\n",
    "## Job Widget\n",
    "\n",
    "The Job widget is the next widget shown below. This widget keeps track of a job launched through the GenePattern Notebook interface. \n",
    "* It will dynamically update itself while a job is running to obtain the latest job status. \n",
    "* It will also display information on when the job was submitted, along with any output files produced by the job. \n",
    "* It has the capability to display the code associated with the job.\n",
    "* The job was be easily reloaded and another job launched with the exact same parameters.\n",
    "\n",
    "## Task Widget\n",
    "\n",
    "The Task widget is the bottom widget below. This widget is used to enter input parameters and launch GenePattern jobs.\n",
    "* Users can enter parameters information here, as well as uploading files or including URLs to external files.\n",
    "* All the code to programmatically run the job can be viewed from the widget.\n",
    "* When a job is run, this widget will be replaced with a Job widget that tracks the job that was just created. All the parameters that were entered are tracked and can be recovered through the \"Reload Job\" feature."
   ]
  },
  {
   "cell_type": "markdown",
   "metadata": {},
   "source": [
    "# Markup\n",
    "\n",
    "All of the standard IPython markup options are available. This includes using Markdown and LaTeX style annotations. For example, a formula using LaTeX is shown below.\n",
    "\n",
    "\\begin{align}\n",
    "    E_0 &= mc^2\n",
    "    E &= \\frac{mc^2}{\\sqrt{1-\\frac{v^2}{c^2}}}\n",
    "\\end{align}\n",
    "\n",
    "# Programming\n",
    "\n",
    "For users that are programmers, there is a Python interface for all of the functions included in the GenePattern Notebook. This includes the ability to programmatically work with any of the results from the widgets above.\n",
    "\n",
    "For example, below you can see a code cell where attributes from the Picard.FastqToSam are retreieved in Python."
   ]
  },
  {
   "cell_type": "code",
   "execution_count": 8,
   "metadata": {},
   "outputs": [
    {
     "name": "stdout",
     "output_type": "stream",
     "text": [
      "Job Object: <gp.GPJob object at 0x1102bd9d0>\n",
      "Output Files: [<gp.GPFile object at 0x1122f3950>]\n",
      "URL of first output file: http://127.0.0.1:8080/gp/jobResults/104/SRR1182277_Ts8_2.bam\n"
     ]
    }
   ],
   "source": [
    "print \"Job Object: \" + str(job104)\n",
    "print \"Output Files: \" + str(job104.get_output_files())\n",
    "print \"URL of first output file: \" + job104.get_output_files()[0].get_url()"
   ]
  },
  {
   "cell_type": "markdown",
   "metadata": {},
   "source": [
    "It's standard IPython practice to provide a library of programmatic shortcuts called \"Magics.\" This has also been implemented in the GenePattern notebook. These commands can be used to set Python variables or to create widgets. Two examples are given below."
   ]
  },
  {
   "cell_type": "code",
   "execution_count": null,
   "metadata": {},
   "outputs": [],
   "source": [
    "%reload_ext gp_magics"
   ]
  },
  {
   "cell_type": "code",
   "execution_count": null,
   "metadata": {},
   "outputs": [],
   "source": [
    "job = %get_job $gpserver 105\n",
    "GPJobWidget(job)"
   ]
  },
  {
   "cell_type": "code",
   "execution_count": 27,
   "metadata": {},
   "outputs": [],
   "source": [
    "task = %get_task $gpserver ConvertLineEndings\n",
    "GPTaskWidget(task)"
   ]
  },
  {
   "cell_type": "markdown",
   "metadata": {},
   "source": [
    "# Demonstrate Workflow Below Here"
   ]
  },
  {
   "cell_type": "code",
   "execution_count": null,
   "metadata": {},
   "outputs": [],
   "source": [
    ""
   ]
  }
 ],
 "metadata": {
  "kernelspec": {
   "display_name": "Python 2",
   "language": "python",
   "name": "python2"
  },
  "language_info": {
   "codemirror_mode": {
    "name": "ipython",
    "version": 2.0
   },
   "file_extension": ".py",
   "mimetype": "text/x-python",
   "name": "python",
   "nbconvert_exporter": "python",
   "pygments_lexer": "ipython2",
   "version": "2.7.9"
  }
 },
 "nbformat": 4,
 "nbformat_minor": 0
}