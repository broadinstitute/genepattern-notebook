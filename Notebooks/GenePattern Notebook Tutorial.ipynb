{
 "cells": [
  {
   "cell_type": "markdown",
   "metadata": {},
   "source": [
    "# GenePattern Notebook Tutorial\n",
    "\n",
    "If you are new to the GenePattern Notebook environment, this tutorial should help familiarize you with some of its most important features. \n",
    "\n",
    "Click below to begin a quick tour of interface. Read onward for an overview of other features.\n",
    "<br><br>\n",
    "<button id=\"tour-button\" class=\"btn btn-primary btn-lg\">Click here for a tour!</button>"
   ]
  },
  {
   "cell_type": "markdown",
   "metadata": {},
   "source": [
    "#### Below is an example GenePattern authentication cell."
   ]
  },
  {
   "cell_type": "code",
   "execution_count": 1,
   "metadata": {
    "collapsed": false
   },
   "outputs": [
    {
     "name": "stderr",
     "output_type": "stream",
     "text": [
      "Widget Javascript not detected.  It may not be installed properly. Did you enable the widgetsnbextension? If not, then run \"jupyter nbextension enable --py --sys-prefix widgetsnbextension\"\n"
     ]
    }
   ],
   "source": [
    "# !AUTOEXEC\n",
    "\n",
    "%reload_ext genepattern\n",
    "\n",
    "# Don't have the GenePattern Notebook? It can be installed from PIP: \n",
    "# pip install genepattern-notebook \n",
    "import gp\n",
    "\n",
    "# The following widgets are components of the GenePattern Notebook extension.\n",
    "try:\n",
    "    from genepattern import GPAuthWidget, GPJobWidget, GPTaskWidget\n",
    "except:\n",
    "    def GPAuthWidget(input):\n",
    "        print(\"GP Widget Library not installed. Please visit http://genepattern.org\")\n",
    "    def GPJobWidget(input):\n",
    "        print(\"GP Widget Library not installed. Please visit http://genepattern.org\")\n",
    "    def GPTaskWidget(input):\n",
    "        print(\"GP Widget Library not installed. Please visit http://genepattern.org\")\n",
    "\n",
    "# The gpserver object holds your authentication credentials and is used to\n",
    "# make calls to the GenePattern server through the GenePattern Python library.\n",
    "# Your actual username and password have been removed from the code shown\n",
    "# below for security reasons.\n",
    "gpserver = gp.GPServer(\"https://genepattern.broadinstitute.org/gp\", \"\", \"\")\n",
    "\n",
    "# Return the authentication widget to view it\n",
    "GPAuthWidget(gpserver)"
   ]
  },
  {
   "cell_type": "markdown",
   "metadata": {},
   "source": [
    "## GenePattern Notebook introductory video"
   ]
  },
  {
   "cell_type": "code",
   "execution_count": 2,
   "metadata": {
    "collapsed": false
   },
   "outputs": [
    {
     "data": {
      "text/html": [
       "<iframe width=\"854\" height=\"480\" src=\"https://www.youtube.com/embed/r5Km4UPhb1Q\" frameborder=\"0\" allowfullscreen></iframe>"
      ],
      "text/plain": [
       "<IPython.core.display.HTML object>"
      ]
     },
     "execution_count": 2,
     "metadata": {},
     "output_type": "execute_result"
    }
   ],
   "source": [
    "# This is example code that returns the video below\n",
    "from IPython.display import HTML\n",
    "HTML(\"\"\"<iframe width=\"854\" height=\"480\" src=\"https://www.youtube.com/embed/r5Km4UPhb1Q\" frameborder=\"0\" allowfullscreen></iframe>\"\"\")"
   ]
  },
  {
   "cell_type": "markdown",
   "metadata": {},
   "source": [
    "# Notebook Cells\n",
    "\n",
    "All notebooks consist of some number of cells. These cells may interleave text, images, tables, code or interactive widgets. Try clicking different sections of this notebook and will you notice the different cells as they are selected.\n",
    "\n",
    "### Inserting cells\n",
    "\n",
    "New cells can be inserted by clicking the Insert Cell button ( <i class=\"fa-plus fa\"></i> ) or by using the Insert menu at the top of the screen.\n",
    "\n",
    "### Executing cells\n",
    "\n",
    "Cells can be executed by clicking the Run Cell button ( <i class=\"fa-step-forward fa\"></i> ) or using the menu at the top of the screen to select Cell > Run Cells. When a cell executes it will run any code contained in the cell or render any HTML/markdown as text.\n",
    "\n",
    "### Changing cell type\n",
    "\n",
    "Every cell has a type. Cell types include code cells, markdown cells and GenePattern cells. Code cells are intended to contain code that can be executed. Markdown cells contain either markdown or HTML that is rendered when the cell is executed. GenePattern cells contain interactive widgets that allow you to access GenePattern's many analyses.\n",
    "\n",
    "To change cell type, select a cell and then use the dropdown menu on the toolbar above. Alternatively, you can use the menu at the top of the page to select Cell > Cell Type."
   ]
  },
  {
   "cell_type": "markdown",
   "metadata": {},
   "source": [
    "# How to use GenePattern Notebook\n",
    "\n",
    "The following are step-by-step instructions on how to use GenePattern Notebook to run an analysis, obtain job results and then either send these results to a downstream step or work with the results programmatically."
   ]
  },
  {
   "cell_type": "markdown",
   "metadata": {},
   "source": [
    "## 1. Log into GenePattern\n",
    "\n",
    "<ul>\n",
    "\t<li style=\"margin-left: 40px;\">Select any blank cell</li>\n",
    "\t<li style=\"margin-left: 40px;\">Change that cell&#39;s type to <em>GenePattern</em> using the menu found in the Jupyter toolbar.</li>\n",
    "\t<li style=\"margin-left: 40px;\">Once inserted, the cell will prompt you to select a GenePattern server, as well as to enter a username and password. The default server to select is the Broad-hosted GenePattern server, https://genepattern.broadinstitute.org.</li>\n",
    "\t<li style=\"margin-left: 40px;\">Once you have filled in these fields, click&nbsp;<em>Log into GenePattern</em>.</li>\n",
    "</ul>\n",
    "\n",
    "<p style=\"margin-left: 40px;\">If you do not have a GenePattern account, first select the server and then click <em>Register an Account</em>.</p>\n",
    "\n",
    "<p style=\"margin-left: 40px;\"><img alt=\"\" src=\"http://genepattern.org/uploaded/content_screen_shot_2015-08-24_at_10_27_12.png\" style=\"width: 600px; height: 221px; border-width: 1px; border-style: solid;\" /></p>"
   ]
  },
  {
   "cell_type": "markdown",
   "metadata": {},
   "source": [
    "## 2. Begin an analysis\n",
    "\n",
    "<p style=\"margin-left: 40px;\">Once you are logged in, a GenePattern button will appear on the left side of the Notebook. This button is only visible when a GenePattern cell is selected. Clicking this button will open a sliding menu, which allows you to select and run GenePattern analyses on the GenePattern server.</p>\n",
    "\n",
    "<p style=\"margin-left: 40px;\"><img alt=\"\" src=\"http://genepattern.org/uploaded/content_screen_shot_2015-08-24_at_10_29_20.png\" style=\"width: 600px; height: 113px; border-width: 1px; border-style: solid;\" /></p>\n",
    "\n",
    "<p style=\"margin-left: 40px;\">You can search&nbsp;these analyses&nbsp;using the <em>Type to Filter</em> box found in the upper right corner of the sliding menu. Once you have selected an analysis, click it to add it as a cell in the notebook.</p>\n",
    "\n",
    "<p style=\"margin-left: 40px;\"><img alt=\"\" src=\"http://genepattern.org/uploaded/content_screen_shot_2015-08-24_at_10_30_39.png\" style=\"width: 600px; height: 296px; border-width: 1px; border-style: solid;\" /></p>\n",
    "\n",
    "<p style=\"margin-left: 40px;\">Every task has a number of parameters, which can be used to upload data and to select other options for the analysis. Once you fill in these parameters, click <em>Run</em> to submit them as a job on the GenePattern server.</p>\n",
    "\n",
    "<p style=\"margin-left: 40px;\"><img alt=\"\" src=\"http://genepattern.org/uploaded/content_screen_shot_2015-08-24_at_10_32_11.png\" style=\"width: 600px; height: 324px; border-width: 1px; border-style: solid;\" /></p>\n",
    "\n",
    "<p style=\"margin-left: 40px;\">Once the <em>Run</em> button has been clicked, all selected files will upload and then the cell will change to indicate the status of the job in GenePattern&#39;s queue. Jobs progress through the states of Pending, Running and finally either to Completed or Error.</p>\n",
    "\n",
    "<p style=\"margin-left: 40px;\"><img alt=\"\" src=\"http://genepattern.org/uploaded/content_screen_shot_2015-08-24_at_10_33_20.png\" style=\"width: 600px; height: 97px; border-width: 1px; border-style: solid;\" /></p>"
   ]
  },
  {
   "cell_type": "markdown",
   "metadata": {},
   "source": [
    "## 3. Working with results\n",
    "\n",
    "<p style=\"margin-left: 40px;\">When an analysis is completed, the cell will display the result files. Clicking on one of these files will show a menu of options, such as viewing the file, using the output programmatically in Python code or sending the file to a downstream analysis. If an analysis resulted in an error, it will present an error log. This file can be viewed to determine what went wrong.</p>\n",
    "\n",
    "<p style=\"margin-left: 40px;\">Result files can only be sent to GenePattern cells which are ready to accept input files.</p>\n",
    "\n",
    "<p style=\"margin-left: 40px;\"><img alt=\"\" src=\"http://genepattern.org/uploaded/content_screen_shot_2015-09-03_at_15_47_31.png\" style=\"width: 600px; height: 156px; border-width: 1px; border-style: solid;\" /></p>\n",
    "\n",
    "<p style=\"margin-left: 40px;\">The result file of one analysis can be easily be used as input for a later analysis. Simply click the result file to open the menu, and select either an existing downstream task or a new task. Clicking one of these options will place the correct value for the result file into the downstream form. In the case of sending a file to a new task, a new cell will be created for the downstream analysis. Alternatively, result files can also be dragged-and-dropped into the correct form.</p>"
   ]
  },
  {
   "cell_type": "markdown",
   "metadata": {},
   "source": [
    "## 4. Viewing the jobs list\n",
    "\n",
    "<p style=\"margin-left: 40px;\">A list of all GenePattern jobs can be found by opening the sliding menu and clicking the Jobs tab at the top. This will show an overview of all jobs submitted in this notebook, and will provide the status of those jobs. Clicking any of the jobs in the list will scroll the notebook to the selected job. These can also be searched through by entering text into the &quot;Type to Filter&quot; box in the upper right.</p>\n",
    "\n",
    "<p style=\"margin-left: 40px;\"><img alt=\"\" src=\"http://genepattern.org/uploaded/content_screen_shot_2015-09-17_at_14_49_12.png\" style=\"width: 600px; height: 212px; border-width: 1px; border-style: solid;\" /></p>"
   ]
  },
  {
   "cell_type": "markdown",
   "metadata": {},
   "source": [
    "## 5. Programmatic access to results\n",
    "\n",
    "<p style=\"margin-left: 40px;\">Programmatic access to all GenePattern jobs and results is also automatically available using GenePattern&#39;s Python library. Any job executed in a notebook can afterward be referenced using <code><em>job</em></code> followed by the job number. For example, if a job is number 1170434 (such as in the screenshot above), the variable name would be <code><em>job1170434</em></code>. Entering this into a code cell will return a reference to a GPJob object.</p>\n",
    "\n",
    "<ul>\n",
    "\t<li style=\"margin-left: 40px;\">For more information on using the GenePattern Python library, see the <a href=\"GenePattern%20Python%20Tutorial.ipynb\">GenePattern Python Tutorial</a>.</li>\n",
    "</ul>\n",
    "\n",
    "<p style=\"margin-left: 40px;\">Code examples of how to reference GenePattern jobs or GenePattern result files are available in the notebook by clicking a job result and selecting &quot;View Code Use&quot; in the menu.</p>\n",
    "\n",
    "<p style=\"margin-left: 40px;\"><img alt=\"\" src=\"http://genepattern.org/uploaded/content_screen-shot-2015-10-15-at-13_50.jpg\" style=\"width: 600px; height: 159px; border-width: 1px; border-style: solid;\" /></p>"
   ]
  }
 ],
 "metadata": {
  "kernelspec": {
   "display_name": "Python 2",
   "language": "python",
   "name": "python2"
  },
  "language_info": {
   "codemirror_mode": {
    "name": "ipython",
    "version": 2
   },
   "file_extension": ".py",
   "mimetype": "text/x-python",
   "name": "python",
   "nbconvert_exporter": "python",
   "pygments_lexer": "ipython2",
   "version": "2.7.11"
  },
  "widgets": {
   "state": {
    "161e9002190344b1a7264cc7e73141aa": {
     "views": [
      {
       "cell_index": 2
      }
     ]
    },
    "3d695cb330cc4a6dad0ef1a9ffc762a0": {
     "views": []
    }
   },
   "version": "1.1.2"
  }
 },
 "nbformat": 4,
 "nbformat_minor": 0
}
