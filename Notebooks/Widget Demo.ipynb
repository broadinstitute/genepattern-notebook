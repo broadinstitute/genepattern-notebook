{
 "cells": [
  {
   "cell_type": "code",
   "execution_count": 1,
   "metadata": {
    "collapsed": false
   },
   "outputs": [
    {
     "name": "stdout",
     "output_type": "stream",
     "text": [
      "GenePattern IPython Module Loaded!\n"
     ]
    }
   ],
   "source": [
    "## LOAD GENEPATTERN IPYTHON MODULE\n",
    "## THEN IMPORT AND SET THE SERVER DATA\n",
    "%reload_ext genepattern\n",
    "import gp\n",
    "gpserver = gp.GPServer(\"http://127.0.0.1:8080/gp\", \"tabor\", \"\")"
   ]
  },
  {
   "cell_type": "code",
   "execution_count": 2,
   "metadata": {
    "collapsed": false
   },
   "outputs": [
    {
     "name": "stdout",
     "output_type": "stream",
     "text": [
      "http://127.0.0.1:8080/gp\n"
     ]
    }
   ],
   "source": [
    "print gpserver.url"
   ]
  },
  {
   "cell_type": "code",
   "execution_count": 3,
   "metadata": {
    "collapsed": false
   },
   "outputs": [],
   "source": [
    "# CREATE THE JOB OBJECT AND LOAD THE DATA\n",
    "job = gp.GPJob(gpserver, \"http://127.0.0.1:8080/gp/rest/v1/jobs/68\")"
   ]
  },
  {
   "cell_type": "code",
   "execution_count": 4,
   "metadata": {
    "collapsed": false
   },
   "outputs": [
    {
     "data": {
      "text/plain": [
       "True"
      ]
     },
     "execution_count": 4,
     "metadata": {},
     "output_type": "execute_result"
    }
   ],
   "source": [
    "# SIMPLY RETURN THE CELL TO VIEW THE WIDGET\n",
    "job.is_finished()"
   ]
  },
  {
   "cell_type": "code",
   "execution_count": 5,
   "metadata": {
    "collapsed": false
   },
   "outputs": [
    {
     "name": "stdout",
     "output_type": "stream",
     "text": [
      "Job Number: 68\n",
      "Task: ConvertLineEndings\n",
      "LSID: urn:lsid:broad.mit.edu:cancer.software.genepattern.module.analysis:00002:1\n",
      "User: tabor\n",
      "Status: Completed and status is recorded in the GenePattern database\n",
      "Submitted: 2015-02-25T12:32:45-05:00\n",
      "Output Count: 2\n",
      "Output Files: [{u'link': {u'href': u'http://127.0.0.1:8080/gp/jobResults/68/launchJob.sh', u'name': u'launchJob.sh', u'rel': u'gp_outputFile'}, u'lastModified': u'2015-02-25T12:33:32-05:00', u'kind': [u'sh'], u'fileLength': 372, u'path': u'launchJob.sh'}, {u'link': {u'href': u'http://127.0.0.1:8080/gp/jobResults/68/stderr.txt', u'name': u'stderr.txt', u'rel': u'gp_stderr gp_outputFile'}, u'lastModified': u'2015-02-25T12:34:28-05:00', u'kind': [u'txt'], u'fileLength': 2105, u'path': u'stderr.txt'}]\n",
      "Log Files: [{u'link': {u'href': u'http://127.0.0.1:8080/gp/jobResults/68/gp_execution_log.txt', u'name': u'gp_execution_log.txt', u'rel': u'gp_logFile'}, u'lastModified': u'2015-02-25T12:34:28-05:00', u'kind': [u'txt'], u'fileLength': 421, u'path': u'gp_execution_log.txt'}]\n"
     ]
    }
   ],
   "source": [
    "# YOU CAN ALSO ACCESS THE INFO AS A PYTHON OBJECT\n",
    "print \"Job Number: \" + str(job.job_number)\n",
    "print \"Task: \" + job.task_name\n",
    "print \"LSID: \" + job.task_lsid\n",
    "print \"User: \" + job.user_id\n",
    "print \"Status: \" + job.status\n",
    "print \"Submitted: \" + job.date_submitted\n",
    "print \"Output Count: \" + str(job.num_output_files)\n",
    "print \"Output Files: \" + str(job.output_files)\n",
    "print \"Log Files: \" + str(job.log_files)"
   ]
  },
  {
   "cell_type": "code",
   "execution_count": 7,
   "metadata": {
    "collapsed": false
   },
   "outputs": [
    {
     "data": {
      "text/plain": [
       "'http://127.0.0.1:8080/gp tabor '"
      ]
     },
     "execution_count": 7,
     "metadata": {},
     "output_type": "execute_result"
    }
   ],
   "source": [
    "str(gpserver)"
   ]
  },
  {
   "cell_type": "code",
   "execution_count": 29,
   "metadata": {
    "collapsed": false
   },
   "outputs": [
    {
     "data": {
      "text/plain": [
       "<gp.GPJob at 0x106ba6190>"
      ]
     },
     "execution_count": 29,
     "metadata": {},
     "output_type": "execute_result"
    }
   ],
   "source": [
    "# ALTERNATELY A JOB WIDGET CAN BE LOADED USING A MAGICS STATEMENT\n",
    "# cmd / server url / username / password / job number\n",
    "# By convention automatically expanding the GPServer object can be achieved by putting \n",
    "# the $ in front of the variable name. This prevents hard-coding authentication credentials.\n",
    "job = %get_job $gpserver 68\n",
    "job"
   ]
  },
  {
   "cell_type": "code",
   "execution_count": 20,
   "metadata": {
    "collapsed": false
   },
   "outputs": [],
   "source": [
    "# CREATE THE TASK OBJECT AND LOAD THE DATA\n",
    "task = gp.GPTask(gpserver, \"Cufflinks\")"
   ]
  },
  {
   "cell_type": "code",
   "execution_count": 23,
   "metadata": {
    "collapsed": false
   },
   "outputs": [
    {
     "data": {
      "text/plain": [
       "[<gp.GPTaskParam at 0x106ba6090>,\n",
       " <gp.GPTaskParam at 0x106ba6510>,\n",
       " <gp.GPTaskParam at 0x106ba6550>,\n",
       " <gp.GPTaskParam at 0x106ba6590>,\n",
       " <gp.GPTaskParam at 0x106ba65d0>,\n",
       " <gp.GPTaskParam at 0x106ba6610>,\n",
       " <gp.GPTaskParam at 0x106ba6650>,\n",
       " <gp.GPTaskParam at 0x106ba6690>,\n",
       " <gp.GPTaskParam at 0x106ba66d0>,\n",
       " <gp.GPTaskParam at 0x106ba6710>]"
      ]
     },
     "execution_count": 23,
     "metadata": {},
     "output_type": "execute_result"
    }
   ],
   "source": [
    "# LOAD THE TASK'S PARAMETERS AND LIST\n",
    "task.param_load()\n",
    "task.get_parameters()"
   ]
  },
  {
   "cell_type": "code",
   "execution_count": 24,
   "metadata": {
    "collapsed": false
   },
   "outputs": [
    {
     "name": "stdout",
     "output_type": "stream",
     "text": [
      "Name: Cufflinks\n",
      "LSID: urn:lsid:broad.mit.edu:cancer.software.genepattern.module.analysis:00231:7\n",
      "Version: 7\n",
      "Documentation: /gp/getTaskDoc.jsp?name=urn%3Alsid%3Abroad.mit.edu%3Acancer.software.genepattern.module.analysis%3A00231%3A7\n",
      "Description: Cufflinks 2.0.2 - Assembles transcripts, estimates abundances, and tests for differential expression and regulation in RNA-seq samples\n",
      "Params: 10 different params\n"
     ]
    }
   ],
   "source": [
    "print \"Name: \" + task.name\n",
    "print \"LSID: \" + task.lsid\n",
    "print \"Version: \" + task.version\n",
    "print \"Documentation: \" + task.documentation\n",
    "print \"Description: \" + task.description\n",
    "print \"Params: \" + str(len(task.params)) + \" different params\""
   ]
  },
  {
   "cell_type": "code",
   "execution_count": 28,
   "metadata": {
    "collapsed": false
   },
   "outputs": [
    {
     "data": {
      "text/plain": [
       "<gp.GPTask at 0x106ba6b50>"
      ]
     },
     "execution_count": 28,
     "metadata": {},
     "output_type": "execute_result"
    }
   ],
   "source": [
    "# CREATE A TASK OBJECT AND LOAD THE DATA USING A MAGIC\n",
    "task = %get_task $gpserver TopHatFixed\n",
    "task"
   ]
  },
  {
   "cell_type": "code",
   "execution_count": 30,
   "metadata": {
    "collapsed": false
   },
   "outputs": [
    {
     "ename": "NameError",
     "evalue": "name 'GPTask' is not defined",
     "output_type": "error",
     "traceback": [
      "\u001b[0;31m---------------------------------------------------------------------------\u001b[0m",
      "\u001b[0;31mNameError\u001b[0m                                 Traceback (most recent call last)",
      "\u001b[0;32m<ipython-input-30-c8f521ae1556>\u001b[0m in \u001b[0;36m<module>\u001b[0;34m()\u001b[0m\n\u001b[1;32m      1\u001b[0m \u001b[0;31m# WE CAN PROGRAMMATICALLY GET A TASK, FILL OUT THE RUN TASK FORM AND RUN A JOB\u001b[0m\u001b[0;34m\u001b[0m\u001b[0;34m\u001b[0m\u001b[0m\n\u001b[0;32m----> 2\u001b[0;31m \u001b[0mtask\u001b[0m \u001b[0;34m=\u001b[0m \u001b[0mGPTask\u001b[0m\u001b[0;34m(\u001b[0m\u001b[0mgpserver\u001b[0m\u001b[0;34m,\u001b[0m \u001b[0;34m\"ConvertLineEndings\"\u001b[0m\u001b[0;34m)\u001b[0m\u001b[0;34m\u001b[0m\u001b[0m\n\u001b[0m\u001b[1;32m      3\u001b[0m \u001b[0mtask\u001b[0m\u001b[0;34m\u001b[0m\u001b[0m\n",
      "\u001b[0;31mNameError\u001b[0m: name 'GPTask' is not defined"
     ]
    }
   ],
   "source": [
    "# WE CAN PROGRAMMATICALLY GET A TASK, FILL OUT THE RUN TASK FORM AND RUN A JOB\n",
    "task = GPTask(gpserver, \"ConvertLineEndings\")\n",
    "task"
   ]
  },
  {
   "cell_type": "code",
   "execution_count": 24,
   "metadata": {
    "collapsed": false
   },
   "outputs": [],
   "source": [
    "%get_job http://127.0.0.1:8080/gp tabor \"\" 827"
   ]
  },
  {
   "cell_type": "code",
   "execution_count": 25,
   "metadata": {
    "collapsed": false
   },
   "outputs": [],
   "source": [
    "%get_task http://127.0.0.1:8080/gp tabor \"\" urn:lsid:8080.tabor.broadinstitute.org:genepatternmodules:26:1"
   ]
  },
  {
   "cell_type": "code",
   "execution_count": 26,
   "metadata": {
    "collapsed": false
   },
   "outputs": [],
   "source": [
    "%get_task http://127.0.0.1:8080/gp tabor \"\" urn:lsid:broad.mit.edu:cancer.software.genepattern.module.analysis:00037:7"
   ]
  },
  {
   "cell_type": "code",
   "execution_count": 27,
   "metadata": {
    "collapsed": false
   },
   "outputs": [
    {
     "ename": "AttributeError",
     "evalue": "'NoneType' object has no attribute 'get_info'",
     "output_type": "error",
     "traceback": [
      "\u001b[0;31m---------------------------------------------------------------------------\u001b[0m\n\u001b[0;31mAttributeError\u001b[0m                            Traceback (most recent call last)",
      "\u001b[0;32m<ipython-input-27-1b74779f8254>\u001b[0m in \u001b[0;36m<module>\u001b[0;34m()\u001b[0m\n\u001b[1;32m      1\u001b[0m \u001b[0;31m# AFTER RUNNING A JOB, A REFERENCE TO THE JOB IS ATTACHED TO THE TASK OBJECT\u001b[0m\u001b[0;34m\u001b[0m\u001b[0;34m\u001b[0m\u001b[0m\n\u001b[1;32m      2\u001b[0m \u001b[0;31m# WE CAN MAKE A PYTHON CALL TO REFRESH THE STATUS OR RETURN IT TO SEE THE WIDGET\u001b[0m\u001b[0;34m\u001b[0m\u001b[0;34m\u001b[0m\u001b[0m\n\u001b[0;32m----> 3\u001b[0;31m \u001b[0mtask\u001b[0m\u001b[0;34m.\u001b[0m\u001b[0mjob\u001b[0m\u001b[0;34m.\u001b[0m\u001b[0mget_info\u001b[0m\u001b[0;34m(\u001b[0m\u001b[0mserver\u001b[0m\u001b[0;34m)\u001b[0m\u001b[0;34m\u001b[0m\u001b[0m\n\u001b[0m\u001b[1;32m      4\u001b[0m \u001b[0mtask\u001b[0m\u001b[0;34m.\u001b[0m\u001b[0mjob\u001b[0m\u001b[0;34m\u001b[0m\u001b[0m\n",
      "\u001b[0;31mAttributeError\u001b[0m: 'NoneType' object has no attribute 'get_info'"
     ]
    }
   ],
   "source": [
    "# AFTER RUNNING A JOB, A REFERENCE TO THE JOB IS ATTACHED TO THE TASK OBJECT\n",
    "# WE CAN MAKE A PYTHON CALL TO REFRESH THE STATUS OR RETURN IT TO SEE THE WIDGET\n",
    "task.job.get_info(server)\n",
    "task.job"
   ]
  },
  {
   "cell_type": "code",
   "execution_count": null,
   "metadata": {
    "collapsed": false
   },
   "outputs": [],
   "source": [
    "# OTHER METADATA OF THE JOB CAN BE ACCESSED IN PYTHON\n",
    "print \"Job Number: \" + str(task.job.job_number)\n",
    "print \"Task Name: \" + task.job.task_name\n",
    "print \"... Etc.\""
   ]
  }
 ],
 "metadata": {
  "kernelspec": {
   "display_name": "Python 2",
   "language": "python",
   "name": "python2"
  },
  "language_info": {
   "codemirror_mode": {
    "name": "ipython",
    "version": 2
   },
   "file_extension": ".py",
   "mimetype": "text/x-python",
   "name": "python",
   "nbconvert_exporter": "python",
   "pygments_lexer": "ipython2",
   "version": "2.7.5"
  }
 },
 "nbformat": 4,
 "nbformat_minor": 0
}
