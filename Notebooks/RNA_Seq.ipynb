{
 "metadata": {
  "colabVersion": "0.1",
  "name": "",
  "signature": "sha256:80a2145b19154575d123995b7920e4af7960c3eb57a301532ece47463a4f2df2"
 },
 "nbformat": 3,
 "nbformat_minor": 0,
 "worksheets": [
  {
   "cells": [
    {
     "cell_type": "markdown",
     "metadata": {},
     "source": [
      "GenePattern Notebook Setup"
     ]
    },
    {
     "cell_type": "code",
     "collapsed": false,
     "input": [
      "# Load the GenePattern Notebook extension\n",
      "%reload_ext genepattern\n",
      "\n",
      "# imports python modules required to run GenePattern Notebook App\n",
      "\n",
      "import os\n",
      "import sys\n",
      "import client as gp\n",
      "import broadprotocol as bp\n",
      "\n",
      "# record genepattern server url and account information\n",
      "\n",
      "GenePattern_Server_URL = \"http://genepattern.broadinstitute.org/gp\"\n",
      "userID = \"CBB.test\"\n",
      "password = \"password\"\n",
      "\n",
      "serverData = gp.ServerData(GenePattern_Server_URL, userID, password)\n",
      "\n",
      "# initialize python session state\n",
      "# session_file = \"RNA_Seq_Notebook_sessionfile.json\" # @param\n",
      "# if os.path.isfile(session_file):\n",
      "#     session_state = bp.load_session_state(session_file)\n",
      "# else:\n",
      "#     session_state = {}\n"
     ],
     "language": "python",
     "metadata": {
      "cellView": null,
      "executionInfo": null
     },
     "outputs": [
      {
       "output_type": "stream",
       "stream": "stdout",
       "text": [
        "GenePattern IPython Module Loaded!\n"
       ]
      }
     ],
     "prompt_number": 1
    },
    {
     "cell_type": "code",
     "collapsed": false,
     "input": [
      "#bp.print_dict(session_state)"
     ],
     "language": "python",
     "metadata": {
      "cellView": null,
      "executionInfo": null
     },
     "outputs": [],
     "prompt_number": 3
    },
    {
     "cell_type": "code",
     "collapsed": false,
     "input": [
      "from collections import namedtuple\n",
      "Phenotypes = namedtuple('Phenotypes', 'untreated treated')\n",
      "\n",
      "donor_dict = {}\n",
      "phenotypes_dict = {'untreated': None, 'treated': None}\n",
      "\n",
      "untreated_data_dict = {'accession': \"SRR1039508\"}\n",
      "treated_data_dict = {'accession': \"SRR1039509\"}\n",
      "donor_dict[\"N061311\"] = {\"untreated\": untreated_data_dict, \"treated\": treated_data_dict}\n",
      "#donor_dict[\"N061311\"] = Phenotypes(untreated_data_dict, treated_data_dict)\n",
      "\n",
      "untreated_data_dict = {'accession': \"SRR1039512\"}\n",
      "treated_data_dict = {'accession': \"SRR1039513\"}\n",
      "donor_dict[\"N052611\"] = {\"untreated\": untreated_data_dict, \"treated\": treated_data_dict}\n",
      "#donor_dict[\"N052611\"] = Phenotypes(untreated_data_dict, treated_data_dict)\n",
      "\n",
      "untreated_data_dict = {'accession': \"SRR1039516\"}\n",
      "treated_data_dict = {'accession': \"SRR1039517\"}\n",
      "donor_dict[\"N080611\"] = {\"untreated\": untreated_data_dict, \"treated\": treated_data_dict}\n",
      "#donor_dict[\"N080611\"] = Phenotypes(untreated_data_dict, treated_data_dict)\n",
      "\n",
      "untreated_data_dict = {'accession': \"SRR1039520\"}\n",
      "treated_data_dict = {'accession': \"SRR1039521\"}\n",
      "donor_dict[\"N061011\"] = {\"untreated\": untreated_data_dict, \"treated\": treated_data_dict}\n",
      "#donor_dict[\"N061011\"] = Phenotypes(untreated_data_dict, treated_data_dict)\n",
      "\n",
      "#session_state[\"donor_dict\"] = donor_dict\n",
      "#bp.save_session_state(session_state, session_file)\n"
     ],
     "language": "python",
     "metadata": {},
     "outputs": [],
     "prompt_number": 4
    },
    {
     "cell_type": "code",
     "collapsed": false,
     "input": [
      "#bp.print_dict(session_state)"
     ],
     "language": "python",
     "metadata": {},
     "outputs": [],
     "prompt_number": 5
    },
    {
     "cell_type": "markdown",
     "metadata": {},
     "source": [
      "#STEP 1: Retrieve the SRA files from NCBI and convert them to FASTQ files"
     ]
    },
    {
     "cell_type": "markdown",
     "metadata": {},
     "source": [
      "## Widget-based job launch for single sample"
     ]
    },
    {
     "cell_type": "code",
     "collapsed": false,
     "input": [
      "%get_task http://genepattern.broadinstitute.org/gp CBB.test password SraToFastQ"
     ],
     "language": "python",
     "metadata": {},
     "outputs": [],
     "prompt_number": 6
    },
    {
     "cell_type": "markdown",
     "metadata": {},
     "source": [
      "## Widget-based retrieval of job status"
     ]
    },
    {
     "cell_type": "code",
     "collapsed": false,
     "input": [
      "%get_job http://genepattern.broadinstitute.org/gp CBB.test password 971929"
     ],
     "language": "python",
     "metadata": {},
     "outputs": [],
     "prompt_number": 7
    },
    {
     "cell_type": "markdown",
     "metadata": {},
     "source": [
      "## Programmatic launching of jobs for multiple samples"
     ]
    },
    {
     "cell_type": "code",
     "collapsed": false,
     "input": [
      "#donor_dict = session_state[\"donor_dict\"]\n",
      "LSID = \"urn:lsid:broad.mit.edu:cancer.software.genepattern.module.analysis:00344:0.5\"\n",
      "paired_end = \"yes\"\n",
      "output_compression = \"gzip\"\n",
      "\n",
      "for donor_id in donor_dict.keys():\n",
      "    \n",
      "    #untreated\n",
      "    untreated_sample_data = donor_dict[donor_id][\"untreated\"]\n",
      "    accession = untreated_sample_data['accession']\n",
      "    #print accession\n",
      "    job_spec = gp.JobSpec()\n",
      "    job_spec.set_server_data(serverData)\n",
      "    job_spec.set_lsid(LSID)\n",
      "    job_spec.set_parameter(\"accession\", accession)\n",
      "    job_spec.set_parameter(\"paired.end\", paired_end)\n",
      "    job_spec.set_parameter(\"output.compression\", output_compression)\n",
      "    job = serverData.run_job(job_spec, wait_until_done = False)\n",
      "    untreated_sample_data['sraToFastq_job'] = job\n",
      "                          \n",
      "    #treated\n",
      "    treated_sample_data = donor_dict[donor_id][\"treated\"]\n",
      "    accession = treated_sample_data['accession']\n",
      "    #print accession\n",
      "    job_spec = gp.JobSpec()\n",
      "    job_spec.set_server_data(serverData)\n",
      "    job_spec.set_lsid(LSID)\n",
      "    job_spec.set_parameter(\"accession\", accession)\n",
      "    job_spec.set_parameter(\"paired.end\", paired_end)\n",
      "    job_spec.set_parameter(\"output.compression\", output_compression)\n",
      "    job = serverData.run_job(job_spec, wait_until_done = False)\n",
      "    treated_sample_data['sraToFastq_job'] = job                          \n",
      "\n",
      "#bp.save_session_state(session_state, session_file)"
     ],
     "language": "python",
     "metadata": {},
     "outputs": [],
     "prompt_number": 9
    },
    {
     "cell_type": "code",
     "collapsed": false,
     "input": [
      "## TESTING\n",
      "\n",
      "#donor_dict = session_state[\"donor_dict\"]\n",
      "\n",
      "## override session state with hardcoded job uri's from earlier run \n",
      "\n",
      "base_uri = \"http://genepattern.broadinstitute.org/gp/rest/v1/jobs/\"\n",
      "\n",
      "donor_dict[\"N061311\"][\"untreated\"]['sraToFastq_job'] = gp.GPJob(base_uri + \"971929\")\n",
      "donor_dict[\"N061311\"][\"treated\"]['sraToFastq_job'] = gp.GPJob(base_uri + \"971929\")\n",
      "\n",
      "\n",
      "donor_dict[\"N052611\"][\"untreated\"]['sraToFastq_job'] = gp.GPJob(base_uri + \"971931\")\n",
      "donor_dict[\"N052611\"][\"treated\"]['sraToFastq_job'] = gp.GPJob(base_uri + \"971932\")\n",
      "\n",
      "donor_dict[\"N080611\"][\"untreated\"]['sraToFastq_job'] = gp.GPJob(base_uri + \"971933\")\n",
      "donor_dict[\"N080611\"][\"treated\"]['sraToFastq_job'] = gp.GPJob(base_uri + \"971934\")\n",
      "\n",
      "donor_dict[\"N061011\"][\"untreated\"]['sraToFastq_job'] = gp.GPJob(base_uri + \"971936\")\n",
      "donor_dict[\"N061011\"][\"treated\"]['sraToFastq_job'] = gp.GPJob(base_uri + \"971937\")\n",
      "\n",
      "#bp.save_session_state(session_state, session_file)"
     ],
     "language": "python",
     "metadata": {},
     "outputs": [],
     "prompt_number": 10
    },
    {
     "cell_type": "code",
     "collapsed": false,
     "input": [
      "#bp.print_dict(donor_dict)"
     ],
     "language": "python",
     "metadata": {},
     "outputs": [],
     "prompt_number": 11
    },
    {
     "cell_type": "code",
     "collapsed": false,
     "input": [
      "#session_state = bp.load_session_state(session_file)"
     ],
     "language": "python",
     "metadata": {},
     "outputs": [],
     "prompt_number": 12
    },
    {
     "cell_type": "code",
     "collapsed": false,
     "input": [
      "#donor_dict = session_state['donor_dict']\n",
      "sraToFastq_jobs = []\n",
      "for donor_id in donor_dict.keys():\n",
      "    \n",
      "    #untreated\n",
      "    untreated_sample_data = donor_dict[donor_id][\"untreated\"]\n",
      "    sraToFastq_jobs.append(untreated_sample_data['sraToFastq_job'])\n",
      "    \n",
      "    #treated\n",
      "    treated_sample_data = donor_dict[donor_id][\"treated\"]\n",
      "    sraToFastq_jobs.append(treated_sample_data['sraToFastq_job'])\n",
      "\n",
      "# Poll GenePattern until all jobs associated with above code cell are complete\n",
      "serverData.poll_multiple_jobs(sraToFastq_jobs)\n",
      "\n",
      "for donor_id in donor_dict.keys():\n",
      "    \n",
      "    #untreated\n",
      "    untreated_sample_data = donor_dict[donor_id][\"untreated\"]\n",
      "    job = untreated_sample_data['sraToFastq_job']\n",
      "    untreated_sample_data['sraToFastq_fwd_reads'] = [gpfile.uri for gpfile in job.get_output_files() if \"_1.fastq\" in gpfile.uri][0]\n",
      "    untreated_sample_data['sraToFastq_rvs_reads'] = [gpfile.uri for gpfile in job.get_output_files() if \"_2.fastq\" in gpfile.uri][0]\n",
      "    \n",
      "    #treated\n",
      "    treated_sample_data = donor_dict[donor_id][\"treated\"]\n",
      "    job = treated_sample_data['sraToFastq_job']\n",
      "    treated_sample_data['sraToFastq_fwd_reads'] = [gpfile.uri for gpfile in job.get_output_files() if \"_1.fastq\" in gpfile.uri][0]\n",
      "    treated_sample_data['sraToFastq_rvs_reads'] = [gpfile.uri for gpfile in job.get_output_files() if \"_2.fastq\" in gpfile.uri][0]    \n",
      "    \n",
      "\n",
      "#save session state\n",
      "#bp.save_session_state(session_state, session_file)"
     ],
     "language": "python",
     "metadata": {
      "cellView": null,
      "executionInfo": null
     },
     "outputs": [],
     "prompt_number": 13
    },
    {
     "cell_type": "code",
     "collapsed": false,
     "input": [
      "#bp.print_dict(donor_dict)"
     ],
     "language": "python",
     "metadata": {},
     "outputs": [],
     "prompt_number": 14
    },
    {
     "cell_type": "markdown",
     "metadata": {},
     "source": [
      "#STEP 2: Run FastQC on all fastq files retrieved from NCBI"
     ]
    },
    {
     "cell_type": "markdown",
     "metadata": {},
     "source": [
      "## Widget-based job launch for single sample"
     ]
    },
    {
     "cell_type": "code",
     "collapsed": false,
     "input": [
      "%get_task http://genepattern.broadinstitute.org/gp CBB.test password FastQC"
     ],
     "language": "python",
     "metadata": {},
     "outputs": [],
     "prompt_number": 15
    },
    {
     "cell_type": "markdown",
     "metadata": {},
     "source": [
      "## Widget-based retrieval of job status"
     ]
    },
    {
     "cell_type": "code",
     "collapsed": false,
     "input": [
      "%get_job http://genepattern.broadinstitute.org/gp CBB.test password 974693"
     ],
     "language": "python",
     "metadata": {},
     "outputs": [],
     "prompt_number": 16
    },
    {
     "cell_type": "markdown",
     "metadata": {},
     "source": [
      "## Programmatic launching of jobs for multiple samples"
     ]
    },
    {
     "cell_type": "code",
     "collapsed": false,
     "input": [
      "#session_state = bp.load_session_state(session_file)"
     ],
     "language": "python",
     "metadata": {},
     "outputs": [],
     "prompt_number": 17
    },
    {
     "cell_type": "code",
     "collapsed": false,
     "input": [
      "#donor_dict = session_state[\"donor_dict\"]\n",
      "LSID = \"urn:lsid:broad.mit.edu:cancer.software.genepattern.module.analysis:00340:0.5\"\n",
      "\n",
      "paired_end = \"yes\"\n",
      "output_compression = \"gzip\"\n",
      "\n",
      "for donor_id in donor_dict.keys():\n",
      "    \n",
      "    #untreated\n",
      "    \n",
      "    untreated_sample_data = donor_dict[donor_id][\"untreated\"]\n",
      "\n",
      "    job_spec = gp.JobSpec()\n",
      "    job_spec.set_server_data(serverData)\n",
      "    job_spec.set_lsid(LSID)\n",
      "    job_spec.set_parameter(\"input.file\", untreated_sample_data['sraToFastq_fwd_reads'])\n",
      "    job = serverData.run_job(job_spec, wait_until_done = False)\n",
      "    untreated_sample_data['fastqc_fwd_job'] = job\n",
      "\n",
      "    job_spec = gp.JobSpec()\n",
      "    job_spec.set_server_data(serverData)\n",
      "    job_spec.set_lsid(LSID)\n",
      "    job_spec.set_parameter(\"input.file\", untreated_sample_data['sraToFastq_rvs_reads'])\n",
      "    job = serverData.run_job(job_spec, wait_until_done = False)\n",
      "    untreated_sample_data['fastqc_rvs_job'] = job\n",
      "    \n",
      "    #treated\n",
      "    \n",
      "    treated_sample_data = donor_dict[donor_id][\"treated\"]\n",
      "    \n",
      "    job_spec = gp.JobSpec()\n",
      "    job_spec.set_server_data(serverData)\n",
      "    job_spec.set_lsid(LSID)\n",
      "    job_spec.set_parameter(\"input.file\", treated_sample_data['sraToFastq_fwd_reads'])\n",
      "    job = serverData.run_job(job_spec, wait_until_done = False)\n",
      "    treated_sample_data['fastqc_fwd_job'] = job\n",
      "\n",
      "    job_spec = gp.JobSpec()\n",
      "    job_spec.set_server_data(serverData)\n",
      "    job_spec.set_lsid(LSID)\n",
      "    job_spec.set_parameter(\"input.file\", untreated_sample_data['sraToFastq_rvs_reads'])\n",
      "    job = serverData.run_job(job_spec, wait_until_done = False)\n",
      "    untreated_sample_data['fastqc_rvs_job'] = job                         \n",
      "\n",
      "#bp.save_session_state(session_state, session_file)"
     ],
     "language": "python",
     "metadata": {},
     "outputs": [],
     "prompt_number": 20
    },
    {
     "cell_type": "code",
     "collapsed": false,
     "input": [
      "## TESTING\n",
      "\n",
      "#donor_dict = session_state[\"donor_dict\"]\n",
      "\n",
      "## override session state with hardcoded job uri's from earlier run \n",
      "\n",
      "base_uri = \"http://genepattern.broadinstitute.org/gp/rest/v1/jobs/\"\n",
      "\n",
      "donor_dict[\"N061311\"][\"untreated\"]['fastqc_fwd_job'] = gp.GPJob(base_uri + \"974693\")\n",
      "donor_dict[\"N061311\"][\"untreated\"]['fastqc_rvs_job'] = gp.GPJob(base_uri + \"974694\")\n",
      "donor_dict[\"N061311\"][\"treated\"]['fastqc_fwd_job'] = gp.GPJob(base_uri + \"974697\")\n",
      "donor_dict[\"N061311\"][\"treated\"]['fastqc_rvs_job'] = gp.GPJob(base_uri + \"974698\")\n",
      "\n",
      "donor_dict[\"N052611\"][\"untreated\"]['fastqc_fwd_job'] = gp.GPJob(base_uri + \"974730\")\n",
      "donor_dict[\"N052611\"][\"untreated\"]['fastqc_rvs_job'] = gp.GPJob(base_uri + \"974731\")\n",
      "donor_dict[\"N052611\"][\"treated\"]['fastqc_fwd_job'] = gp.GPJob(base_uri + \"974734\")\n",
      "donor_dict[\"N052611\"][\"treated\"]['fastqc_rvs_job'] = gp.GPJob(base_uri + \"974735\")\n",
      "\n",
      "donor_dict[\"N080611\"][\"untreated\"]['fastqc_fwd_job'] = gp.GPJob(base_uri + \"974736\")\n",
      "donor_dict[\"N080611\"][\"untreated\"]['fastqc_rvs_job'] = gp.GPJob(base_uri + \"974737\")\n",
      "donor_dict[\"N080611\"][\"treated\"]['fastqc_fwd_job'] = gp.GPJob(base_uri + \"974741\")\n",
      "donor_dict[\"N080611\"][\"treated\"]['fastqc_rvs_job'] = gp.GPJob(base_uri + \"974742\")\n",
      "\n",
      "donor_dict[\"N061011\"][\"untreated\"]['fastqc_fwd_job'] = gp.GPJob(base_uri + \"974746\")\n",
      "donor_dict[\"N061011\"][\"untreated\"]['fastqc_rvs_job'] = gp.GPJob(base_uri + \"974747\")\n",
      "donor_dict[\"N061011\"][\"treated\"]['fastqc_fwd_job'] = gp.GPJob(base_uri + \"974751\")\n",
      "donor_dict[\"N061011\"][\"treated\"]['fastqc_rvs_job'] = gp.GPJob(base_uri + \"974751\")\n",
      "\n",
      "#bp.save_session_state(session_state, session_file)"
     ],
     "language": "python",
     "metadata": {},
     "outputs": [],
     "prompt_number": 21
    },
    {
     "cell_type": "code",
     "collapsed": false,
     "input": [
      "#session_state = bp.load_session_state(session_file)\n",
      "#bp.print_dict(session_state)"
     ],
     "language": "python",
     "metadata": {},
     "outputs": [],
     "prompt_number": 22
    },
    {
     "cell_type": "code",
     "collapsed": false,
     "input": [
      "#donor_dict = session_state['donor_dict']\n",
      "fastqc_jobs = []\n",
      "for donor_id in donor_dict.keys():\n",
      "    \n",
      "    #untreated\n",
      "    untreated_sample_data = donor_dict[donor_id][\"untreated\"]\n",
      "    fastqc_jobs.append(untreated_sample_data['fastqc_fwd_job'])\n",
      "    fastqc_jobs.append(untreated_sample_data['fastqc_rvs_job'])\n",
      "    \n",
      "    #treated\n",
      "    treated_sample_data = donor_dict[donor_id][\"treated\"]\n",
      "    fastqc_jobs.append(treated_sample_data['fastqc_fwd_job'])\n",
      "    fastqc_jobs.append(treated_sample_data['fastqc_rvs_job'])\n",
      "\n",
      "# Poll GenePattern until all jobs associated with above code cell are complete\n",
      "serverData.poll_multiple_jobs(fastqc_jobs)\n",
      "\n",
      "for donor_id in donor_dict.keys():\n",
      "    \n",
      "    #untreated\n",
      "    untreated_sample_data = donor_dict[donor_id][\"untreated\"]\n",
      "    job = untreated_sample_data['fastqc_fwd_job']\n",
      "    untreated_sample_data['fastqc_fwd_report'] = [gpfile.uri for gpfile in job.get_output_files() if \"fastqc_report.html\" in gpfile.uri][0]\n",
      "    job = untreated_sample_data['fastqc_rvs_job']    \n",
      "    untreated_sample_data['fastqc_rvs_report'] = [gpfile.uri for gpfile in job.get_output_files() if \"fastqc_report.html\" in gpfile.uri][0]\n",
      "    \n",
      "    #treated\n",
      "    treated_sample_data = donor_dict[donor_id][\"treated\"]\n",
      "    job = treated_sample_data['fastqc_fwd_job']\n",
      "    treated_sample_data['fastqc_fwd_report'] = [gpfile.uri for gpfile in job.get_output_files() if \"fastqc_report.html\" in gpfile.uri][0]\n",
      "    job = untreated_sample_data['fastqc_rvs_job']\n",
      "    treated_sample_data['fastqc_rvs_report'] = [gpfile.uri for gpfile in job.get_output_files() if \"fastqc_report.html\" in gpfile.uri][0]    \n",
      "    \n",
      "#save session state\n",
      "#bp.save_session_state(session_state, session_file)"
     ],
     "language": "python",
     "metadata": {
      "cellView": null,
      "executionInfo": null
     },
     "outputs": [],
     "prompt_number": 23
    },
    {
     "cell_type": "code",
     "collapsed": false,
     "input": [
      "#bp.print_dict(session_state)"
     ],
     "language": "python",
     "metadata": {},
     "outputs": [],
     "prompt_number": 24
    },
    {
     "cell_type": "code",
     "collapsed": false,
     "input": [
      "from IPython.html import widgets\n",
      "from IPython.display import display\n",
      "from IPython.display import clear_output\n",
      "from IPython.display import HTML\n",
      "\n",
      "#donor_dict = session_state[\"donor_dict\"]\n",
      "\n",
      "donor_id_list = [None]\n",
      "donor_id_list.extend(donor_dict.keys())\n",
      "\n",
      "box = widgets.ContainerWidget()\n",
      "step1 = widgets.DropdownWidget(values= donor_id_list)\n",
      "step2 = widgets.DropdownWidget(values=[None,\"untreated\", \"treated\"], visible=False)\n",
      "step3 = widgets.DropdownWidget(values=[None,\"fastqc_fwd_report\", \"fastqc_rvs_report\"], visible=False)\n",
      "box.children = [step1, step2, step3]\n",
      "display(box)\n",
      "box.remove_class('vbox')\n",
      "box.add_class('hbox')\n",
      "\n",
      "def step1_change(name, old, new):\n",
      "    step2.visible = True\n",
      "step1.on_trait_change(step1_change, 'value')\n",
      "\n",
      "def step2_change(name, old, new):\n",
      "    step3.visible = True\n",
      "step2.on_trait_change(step2_change, 'value')\n",
      "\n",
      "def step3_change(name, old, new):\n",
      "    clear_output()\n",
      "    if step1.value is not None and step2.value is not None and new is not None:\n",
      "        report_url = donor_dict[step1.value][step2.value][new]\n",
      "        print(report_url)\n",
      "        display(HTML('<iframe src=%s width=1000 height=600</iframe>)' % report_url))\n",
      "\n",
      "step3.on_trait_change(step3_change, 'value')"
     ],
     "language": "python",
     "metadata": {},
     "outputs": [
      {
       "output_type": "stream",
       "stream": "stdout",
       "text": [
        "http://genepattern.broadinstitute.org/gp/jobResults/974730/SRR1039512_1_fastqc/fastqc_report.html\n"
       ]
      },
      {
       "html": [
        "<iframe src=http://genepattern.broadinstitute.org/gp/jobResults/974730/SRR1039512_1_fastqc/fastqc_report.html width=1000 height=600</iframe>)"
       ],
       "metadata": {},
       "output_type": "display_data",
       "text": [
        "<IPython.core.display.HTML at 0x10e533750>"
       ]
      }
     ],
     "prompt_number": 26
    },
    {
     "cell_type": "markdown",
     "metadata": {},
     "source": [
      "#STEP 3: Run Trimmomatic on all paired fastq files"
     ]
    },
    {
     "cell_type": "markdown",
     "metadata": {},
     "source": [
      "## Widget-based job launch for single sample"
     ]
    },
    {
     "cell_type": "code",
     "collapsed": false,
     "input": [
      "%get_task http://genepattern.broadinstitute.org/gp CBB.test password Trimmomatic"
     ],
     "language": "python",
     "metadata": {},
     "outputs": [],
     "prompt_number": 27
    },
    {
     "cell_type": "markdown",
     "metadata": {},
     "source": [
      "## Widget-based retrieval of job status"
     ]
    },
    {
     "cell_type": "code",
     "collapsed": false,
     "input": [
      "%get_job http://genepattern.broadinstitute.org/gp CBB.test password XXXXXX"
     ],
     "language": "python",
     "metadata": {},
     "outputs": []
    },
    {
     "cell_type": "markdown",
     "metadata": {},
     "source": [
      "## Programmatic launching of jobs for multiple samples"
     ]
    },
    {
     "cell_type": "code",
     "collapsed": false,
     "input": [
      "#session_state = bp.load_session_state(session_file)"
     ],
     "language": "python",
     "metadata": {},
     "outputs": [],
     "prompt_number": 28
    },
    {
     "cell_type": "code",
     "collapsed": false,
     "input": [
      "import copy\n",
      "\n",
      "#donor_dict = session_state[\"donor_dict\"]\n",
      "\n",
      "LSID = \"urn:lsid:broad.mit.edu:cancer.software.genepattern.module.analysis:00341:1\"\n",
      "\n",
      "output_filename_base = \"<input_file.1_basename>\"\n",
      "phred_encoding = \"phred33\"\n",
      "create_trimlog = \"no\"\n",
      "\n",
      "adapter_clip_sequence_file = \"TruSeq2-PE.fa\"\n",
      "adapter_clip_seed_mismatches = \"2\"\n",
      "adapter_clip_palindrome_clip_threshold = \"15\"\n",
      "adapter_clip_keep_both_reads = \"true\"\n",
      "min_read_length = \"50\"\n",
      "output_filename_base = \"<input_file.1_basename>\"\n",
      "phred_encoding = \"phred33\"\n",
      "create_trimlog = \"no\"\n",
      "\n",
      "job_spec_template = gp.JobSpec()\n",
      "job_spec_template.set_lsid(LSID)\n",
      "job_spec_template.set_server_data(serverData)\n",
      "job_spec_template.set_parameter(\"output.filename.base\", output_filename_base)\n",
      "job_spec_template.set_parameter(\"phred.encoding\", phred_encoding)\n",
      "job_spec_template.set_parameter(\"create.trimlog\", create_trimlog)\n",
      "job_spec_template.set_parameter(\"adapter.clip.sequence.file\", adapter_clip_sequence_file)\n",
      "job_spec_template.set_parameter(\"adapter.clip.seed.mismatches\", adapter_clip_seed_mismatches)\n",
      "job_spec_template.set_parameter(\"adpater.clip.palindrome.clip.threshold\", adapter_clip_palindrome_clip_threshold)\n",
      "job_spec_template.set_parameter(\"adapter.clip.keep.both.reads\", adapter_clip_keep_both_reads)\n",
      "job_spec_template.set_parameter(\"min.read.length\", min_read_length)\n",
      "\n",
      "#for donor_id in donor_dict.keys():\n",
      "for donor_id in [\"N061311\"]:\n",
      "    \n",
      "    #untreated\n",
      "    \n",
      "    job_spec = copy.deepcopy(job_spec_template)\n",
      "    job_spec.set_parameter(\"input.file.1\", untreated_sample_data['sraToFastq_fwd_reads'])\n",
      "    job_spec.set_parameter(\"input.file.2\", untreated_sample_data['sraToFastq_rvs_reads'])\n",
      "    job = serverData.run_job(job_spec, waitUntilDone = False)\n",
      "    untreated_sample_data['trimmomatic_job'] = job\n",
      "    \n",
      "    #treated\n",
      "    \n",
      "    treated_sample_data = donor_dict[donor_id][\"treated\"]\n",
      "\n",
      "    job_spec = copy.deepcopy(job_spec_template)\n",
      "    job_spec.set_parameter(\"input.file.1\", treated_sample_data['sraToFastq_fwd_reads'])\n",
      "    job_spec.set_parameter(\"input.file.2\", treated_sample_data['sraToFastq_rvs_reads'])\n",
      "    job = serverData.run_job(job_spec, waitUntilDone = False)\n",
      "    treated_sample_data['trimmomatic_job'] = job                  \n",
      "\n",
      "#bp.save_session_state(session_state, session_file)"
     ],
     "language": "python",
     "metadata": {},
     "outputs": []
    },
    {
     "cell_type": "code",
     "collapsed": false,
     "input": [],
     "language": "python",
     "metadata": {},
     "outputs": []
    }
   ],
   "metadata": {}
  }
 ]
}