{
 "cells": [
  {
   "cell_type": "code",
   "execution_count": 89,
   "metadata": {
    "collapsed": false
   },
   "outputs": [
    {
     "data": {
      "application/javascript": [
       "/**\n",
       " * Load required CSS files\n",
       " *\n",
       " * @author Thorin Tabor\n",
       " * @requires - jQuery, navigation.js\n",
       " *\n",
       " * Copyright 2015 The Broad Institute, Inc.\n",
       " *\n",
       " * SOFTWARE COPYRIGHT NOTICE\n",
       " * This software and its documentation are the copyright of the Broad Institute, Inc. All rights are reserved.\n",
       " * This software is supplied without any warranty or guaranteed support whatsoever. The Broad Institute is not\n",
       " * responsible for its use, misuse, or functionality.\n",
       " */\n",
       "\n",
       "// Add shim to support Jupyter 3.x and 4.x\n",
       "var Jupyter = Jupyter || IPython || {};\n",
       "\n",
       "// Add file path shim for Jupyter 3/4\n",
       "var STATIC_PATH = location.origin;\n",
       "if (Jupyter.version >= \"4.0.0\") {\n",
       "    STATIC_PATH += Jupyter.contents.base_url + \"custom/genepattern/\";\n",
       "}\n",
       "else STATIC_PATH += \"/static/genepattern/\";\n",
       "\n",
       "$('head')\n",
       "    // Import styles used by GenePattern navigation\n",
       "    .append(\n",
       "        $('<link rel=\"stylesheet\" type=\"text/css\" />')\n",
       "            .attr(\"rel\", \"stylesheet\")\n",
       "            .attr(\"type\", \"text/css\")\n",
       "            .attr('href', STATIC_PATH + 'gp-navigation.css')\n",
       "    )\n",
       "    // Import styles used by GenePattern widgets\n",
       "    .append(\n",
       "        $('<link rel=\"stylesheet\" type=\"text/css\" />')\n",
       "            .attr(\"rel\", \"stylesheet\")\n",
       "            .attr(\"type\", \"text/css\")\n",
       "            .attr('href', STATIC_PATH + 'gp-widget.css')\n",
       "    );\n",
       "\n",
       "/*\n",
       " * Load the required JavaScript files and init\n",
       " */\n",
       "\n",
       "requirejs([\n",
       "    \"jquery\",\n",
       "    STATIC_PATH + \"gp.js\",\n",
       "    STATIC_PATH + \"navigation.js\",\n",
       "    STATIC_PATH + \"auth-widget.js\",\n",
       "    STATIC_PATH + \"job-widget.js\",\n",
       "    STATIC_PATH + \"task-widget.js\"], function() {\n",
       "\n",
       "    // Initiate the GenePattern Notebook extension\n",
       "    // If reloading a notebook, display with the full event model\n",
       "    $([Jupyter.events]).on('kernel_ready.Kernel kernel_created.Session notebook_loaded.Notebook', GenePattern.notebook.init.notebook_init_wrapper);\n",
       "\n",
       "    // Otherwise, if not initialized after two seconds, manually init\n",
       "    setTimeout(function() {\n",
       "        if (!GenePattern.notebook.init.launch_init.done_init  && Jupyter.notebook.kernel) {\n",
       "            GenePattern.notebook.init.notebook_init_wrapper();\n",
       "        }\n",
       "    }, 2000);\n",
       "});"
      ],
      "text/plain": [
       "<IPython.core.display.Javascript object>"
      ]
     },
     "metadata": {},
     "output_type": "display_data"
    }
   ],
   "source": [
    "%reload_ext genepattern"
   ]
  },
  {
   "cell_type": "code",
   "execution_count": 28,
   "metadata": {
    "collapsed": false
   },
   "outputs": [
    {
     "data": {
      "application/javascript": [
       "\n",
       "getScript(\"/custom/ckeditor/ckeditor.js\")\n",
       "getScript(\"/custom/ckeditor/adapters/jquery.js\")"
      ],
      "text/plain": [
       "<IPython.core.display.Javascript object>"
      ]
     },
     "metadata": {},
     "output_type": "display_data"
    }
   ],
   "source": [
    "%%javascript\n",
    "\n",
    "getScript(\"/custom/ckeditor/ckeditor.js\")\n",
    "getScript(\"/custom/ckeditor/adapters/jquery.js\")"
   ]
  },
  {
   "cell_type": "code",
   "execution_count": 29,
   "metadata": {
    "collapsed": false,
    "scrolled": true
   },
   "outputs": [
    {
     "data": {
      "application/javascript": [
       "\n",
       "var textbox = $(\".cm-s-default:visible\");\n",
       "// var overlay = $(\"<div></div>\");\n",
       "// overlay.css(\"position\", \"absolute\");\n",
       "// overlay.css(\"height\", textbox.height());\n",
       "// overlay.css(\"width\", textbox.width());\n",
       "// overlay.css(\"top\", textbox.position().top);\n",
       "// overlay.css(\"left\", textbox.position().left);\n",
       "//$(\"#notebook\").append(overlay);\n",
       "setTimeout(function() {\n",
       "    var content = $(textbox).text().trim();\n",
       "    $(textbox).empty();\n",
       "    var editor = textbox.ckeditor({\n",
       "        toolbarGroups: [\n",
       "            { name: 'styles', groups: [ 'styles' ] },\n",
       "            { name: 'basicstyles', groups: [ 'basicstyles', 'cleanup' ] },\n",
       "            { name: 'paragraph', groups: [ 'list', 'indent', 'blocks', 'align', 'bidi', 'paragraph' ] },\n",
       "            { name: 'links', groups: [ 'links' ] },\n",
       "            { name: 'insert', groups: [ 'insert' ] },\n",
       "            { name: 'document', groups: [ 'mode' ] }\n",
       "        ]\n",
       "    }).editor;\n",
       "    \n",
       "    editor.on( 'instanceReady', function( ev ) {\n",
       "        editor.setReadOnly(false);\n",
       "        ev.editor.dataProcessor.writer.setRules('p', {\n",
       "            indent : false,\n",
       "            breakBeforeOpen : false,\n",
       "            breakAfterOpen : false,\n",
       "            breakBeforeClose : false,\n",
       "            breakAfterClose : false\n",
       "        });\n",
       "        ev.editor.dataProcessor.writer.setRules('blockquote', {\n",
       "            indent : false,\n",
       "            breakBeforeOpen : false,\n",
       "            breakAfterOpen : false,\n",
       "            breakBeforeClose : false,\n",
       "            breakAfterClose : false\n",
       "        });\n",
       "        \n",
       "        //var content = $(editor.element.$).closest(\".inner_cell\").find(\".rendered_html\").html();\n",
       "        editor.setData(content);\n",
       "    });\n",
       "    \n",
       "    editor.on( 'focus', function( ev ) {\n",
       "        Jupyter.notebook.keyboard_manager.disable();\n",
       "        $(\".cke_top\").show();\n",
       "    });\n",
       "    \n",
       "    editor.on( 'blur', function( ev ) {\n",
       "        Jupyter.notebook.keyboard_manager.enable();\n",
       "    });\n",
       "    \n",
       "    $('#site').on( 'scroll', function(){\n",
       "        $(\".cke_top\").hide();\n",
       "        window.editor = editor;\n",
       "        var editorInFocus = editor.focusManager.hasFocus;\n",
       "        if (editorInFocus) {\n",
       "            editor.focusManager.blur();\n",
       "            setTimeout(function() {\n",
       "                editor.focusManager.focus();\n",
       "            }, 500)\n",
       "        }\n",
       "    });\n",
       "    \n",
       "//     editor.on( 'key', function( ev ) {\n",
       "//         window.editor = editor;\n",
       "//         var cellData = editor.getData();\n",
       "//         $(editor.element.$).closest(\".cell\").data(\"cell\").set_text(cellData);\n",
       "//     });\n",
       "    \n",
       "    editor.on( 'change', function( ev ) {\n",
       "        window.editor = editor;\n",
       "        var cellData = editor.getData();\n",
       "        //cellData.replace(/(\\r\\n|\\n|\\r)/gm,\"\"); // Remove excess line breaks\n",
       "        $(editor.element.$).closest(\".cell\").data(\"cell\").set_text(cellData);\n",
       "    });\n",
       "    \n",
       "window.editor = editor;\n",
       "    \n",
       "}, 1000);"
      ],
      "text/plain": [
       "<IPython.core.display.Javascript object>"
      ]
     },
     "metadata": {},
     "output_type": "display_data"
    }
   ],
   "source": [
    "%%javascript\n",
    "\n",
    "var textbox = $(\".cm-s-default:visible\");\n",
    "// var overlay = $(\"<div></div>\");\n",
    "// overlay.css(\"position\", \"absolute\");\n",
    "// overlay.css(\"height\", textbox.height());\n",
    "// overlay.css(\"width\", textbox.width());\n",
    "// overlay.css(\"top\", textbox.position().top);\n",
    "// overlay.css(\"left\", textbox.position().left);\n",
    "//$(\"#notebook\").append(overlay);\n",
    "setTimeout(function() {\n",
    "    var content = $(textbox).text().trim();\n",
    "    $(textbox).empty();\n",
    "    var editor = textbox.ckeditor({\n",
    "        toolbarGroups: [\n",
    "            { name: 'styles', groups: [ 'styles' ] },\n",
    "            { name: 'basicstyles', groups: [ 'basicstyles', 'cleanup' ] },\n",
    "            { name: 'paragraph', groups: [ 'list', 'indent', 'blocks', 'align', 'bidi', 'paragraph' ] },\n",
    "            { name: 'links', groups: [ 'links' ] },\n",
    "            { name: 'insert', groups: [ 'insert' ] },\n",
    "            { name: 'document', groups: [ 'mode' ] }\n",
    "        ]\n",
    "    }).editor;\n",
    "    \n",
    "    editor.on( 'instanceReady', function( ev ) {\n",
    "        editor.setReadOnly(false);\n",
    "        ev.editor.dataProcessor.writer.setRules('p', {\n",
    "            indent : false,\n",
    "            breakBeforeOpen : false,\n",
    "            breakAfterOpen : false,\n",
    "            breakBeforeClose : false,\n",
    "            breakAfterClose : false\n",
    "        });\n",
    "        ev.editor.dataProcessor.writer.setRules('blockquote', {\n",
    "            indent : false,\n",
    "            breakBeforeOpen : false,\n",
    "            breakAfterOpen : false,\n",
    "            breakBeforeClose : false,\n",
    "            breakAfterClose : false\n",
    "        });\n",
    "        \n",
    "        //var content = $(editor.element.$).closest(\".inner_cell\").find(\".rendered_html\").html();\n",
    "        editor.setData(content);\n",
    "    });\n",
    "    \n",
    "    editor.on( 'focus', function( ev ) {\n",
    "        Jupyter.notebook.keyboard_manager.disable();\n",
    "        $(\".cke_top\").show();\n",
    "    });\n",
    "    \n",
    "    editor.on( 'blur', function( ev ) {\n",
    "        Jupyter.notebook.keyboard_manager.enable();\n",
    "    });\n",
    "    \n",
    "    $('#site').on( 'scroll', function(){\n",
    "        $(\".cke_top\").hide();\n",
    "        window.editor = editor;\n",
    "        var editorInFocus = editor.focusManager.hasFocus;\n",
    "        if (editorInFocus) {\n",
    "            editor.focusManager.blur();\n",
    "            setTimeout(function() {\n",
    "                editor.focusManager.focus();\n",
    "            }, 500)\n",
    "        }\n",
    "    });\n",
    "    \n",
    "//     editor.on( 'key', function( ev ) {\n",
    "//         window.editor = editor;\n",
    "//         var cellData = editor.getData();\n",
    "//         $(editor.element.$).closest(\".cell\").data(\"cell\").set_text(cellData);\n",
    "//     });\n",
    "    \n",
    "    editor.on( 'change', function( ev ) {\n",
    "        window.editor = editor;\n",
    "        var cellData = editor.getData();\n",
    "        //cellData.replace(/(\\r\\n|\\n|\\r)/gm,\"\"); // Remove excess line breaks\n",
    "        $(editor.element.$).closest(\".cell\").data(\"cell\").set_text(cellData);\n",
    "    });\n",
    "    \n",
    "window.editor = editor;\n",
    "    \n",
    "}, 1000);"
   ]
  },
  {
   "cell_type": "markdown",
   "metadata": {},
   "source": [
    "<p><em><strong><s>topline</s></strong></em></p><blockquote><p><strong>moo hello</strong> <s>world</s></p></blockquote><p>:) =)</p><p><em><strong><s>bottom</s></strong></em></p>"
   ]
  },
  {
   "cell_type": "code",
   "execution_count": null,
   "metadata": {
    "collapsed": false
   },
   "outputs": [],
   "source": []
  }
 ],
 "metadata": {
  "kernelspec": {
   "display_name": "Python 2",
   "language": "python",
   "name": "python2"
  },
  "language_info": {
   "codemirror_mode": {
    "name": "ipython",
    "version": 2
   },
   "file_extension": ".py",
   "mimetype": "text/x-python",
   "name": "python",
   "nbconvert_exporter": "python",
   "pygments_lexer": "ipython2",
   "version": "2.7.5"
  }
 },
 "nbformat": 4,
 "nbformat_minor": 0
}
