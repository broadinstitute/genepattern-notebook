{
 "cells": [
  {
   "cell_type": "code",
   "execution_count": 1,
   "metadata": {
    "collapsed": false
   },
   "outputs": [
    {
     "name": "stdout",
     "output_type": "stream",
     "text": [
      "GenePattern IPython Module Loaded!\n"
     ]
    },
    {
     "name": "stderr",
     "output_type": "stream",
     "text": [
      ":0: FutureWarning: IPython widgets are experimental and may change in the future.\n"
     ]
    }
   ],
   "source": [
    "# !AUTOEXEC\n",
    "\n",
    "%reload_ext gp\n",
    "%reload_ext gp_widgets\n",
    "%reload_ext gp_magics\n",
    "\n",
    "# Don't have the GenePattern library? It can be downloaded from: \n",
    "# http://genepattern.broadinstitute.org/gp/downloads/gp-python.zip \n",
    "# or installed through PIP: pip install genepattern-python \n",
    "import gp\n",
    "\n",
    "# The following widgets are components of the GenePattern Notebook extension.\n",
    "try:\n",
    "    from gp_widgets import GPAuthWidget, GPJobWidget, GPTaskWidget\n",
    "except:\n",
    "    def GPAuthWidget(input):\n",
    "        print(\"GP Widget Library not installed. Please visit http://genepattern.org\")\n",
    "    def GPJobWidget(input):\n",
    "        print(\"GP Widget Library not installed. Please visit http://genepattern.org\")\n",
    "    def GPTaskWidget(input):\n",
    "        print(\"GP Widget Library not installed. Please visit http://genepattern.org\")\n",
    "\n",
    "# The gpserver object holds your authentication credentials and is used to\n",
    "# make calls to the GenePattern server through the GenePattern Python library.\n",
    "# Your actual username and password have been removed from the code shown\n",
    "# below for security reasons.\n",
    "gpserver = gp.GPServer(\"http://genepattern.broadinstitute.org/gp\", \"\", \"\")\n",
    "\n",
    "# Return the authentication widget to view it\n",
    "GPAuthWidget(gpserver)"
   ]
  },
  {
   "cell_type": "code",
   "execution_count": 1,
   "metadata": {
    "collapsed": false
   },
   "outputs": [
    {
     "name": "stdout",
     "output_type": "stream",
     "text": [
      "GenePattern IPython Module Loaded!\n"
     ]
    }
   ],
   "source": [
    "## LOAD GENEPATTERN IPYTHON MODULE\n",
    "## THEN IMPORT AND SET THE SERVER DATA\n",
    "%reload_ext genepattern\n",
    "from client import *\n",
    "server = ServerData(\"http://127.0.0.1:8080/gp\", \"tabor\", \"\")"
   ]
  },
  {
   "cell_type": "code",
   "execution_count": 2,
   "metadata": {
    "collapsed": false
   },
   "outputs": [],
   "source": [
    "# CREATE THE JOB OBJECT AND LOAD THE DATA\n",
    "job = GPJob(\"http://127.0.0.1:8080/gp/rest/v1/jobs/746\")\n",
    "job.get_info(server)"
   ]
  },
  {
   "cell_type": "code",
   "execution_count": 3,
   "metadata": {
    "collapsed": false
   },
   "outputs": [],
   "source": [
    "# DISPLAY JOB WIDGET SIMPLY BY RETURNING THE OBJECT\n",
    "job"
   ]
  },
  {
   "cell_type": "code",
   "execution_count": 4,
   "metadata": {
    "collapsed": false
   },
   "outputs": [
    {
     "name": "stdout",
     "output_type": "stream",
     "text": [
      "Job Number: 746\n",
      "Task: ComparativeMarkerSelection\n",
      "LSID: urn:lsid:broad.mit.edu:cancer.software.genepattern.module.analysis:00044:9\n",
      "User: tabor\n",
      "Status: The job finished without an error\n",
      "Submitted: 2014-10-21T17:06:03-07:00\n",
      "Output Count: 1\n",
      "Output Files: [{u'link': {u'href': u'http://127.0.0.1:8080/gp/jobResults/746/all_aml_test.comp.marker.odf', u'name': u'all_aml_test.comp.marker.odf', u'rel': u'gp_outputFile'}, u'lastModified': u'2014-10-21T14:06:21-07:00', u'kind': [u'Comparative Marker Selection'], u'fileLength': 2012135, u'path': u'all_aml_test.comp.marker.odf'}]\n",
      "Log Files: [{u'link': {u'href': u'http://127.0.0.1:8080/gp/jobResults/746/gp_execution_log.txt', u'name': u'gp_execution_log.txt', u'rel': u'gp_logFile'}, u'lastModified': u'2014-10-21T14:06:24-07:00', u'kind': [u'txt'], u'fileLength': 838, u'path': u'gp_execution_log.txt'}]\n"
     ]
    }
   ],
   "source": [
    "# YOU CAN ALSO ACCESS THE INFO AS A PYTHON OBJECT\n",
    "print \"Job Number: \" + str(job.job_number)\n",
    "print \"Task: \" + job.task_name\n",
    "print \"LSID: \" + job.task_lsid\n",
    "print \"User: \" + job.user_id\n",
    "print \"Status: \" + job.status\n",
    "print \"Submitted: \" + job.date_submitted\n",
    "print \"Output Count: \" + str(job.num_output_files)\n",
    "print \"Output Files: \" + str(job.output_files)\n",
    "print \"Log Files: \" + str(job.log_files)"
   ]
  },
  {
   "cell_type": "code",
   "execution_count": 5,
   "metadata": {
    "collapsed": false
   },
   "outputs": [],
   "source": [
    "# ALTERNATELY A JOB WIDGET CAN BE LOADED USING A MAGICS STATEMENT\n",
    "# cmd / server url / username / password / job number\n",
    "%get_job http://127.0.0.1:8080/gp tabor \"\" 807"
   ]
  },
  {
   "cell_type": "code",
   "execution_count": 6,
   "metadata": {
    "collapsed": false
   },
   "outputs": [],
   "source": [
    "# CREATE THE TASK OBJECT AND LOAD THE DATA\n",
    "task = GPTask(\"Cufflinks\", server)"
   ]
  },
  {
   "cell_type": "code",
   "execution_count": 7,
   "metadata": {
    "collapsed": false
   },
   "outputs": [],
   "source": [
    "# DISPLAY TASK WIDGET SIMPLY BY RETURNING THE OBJECT\n",
    "task"
   ]
  },
  {
   "cell_type": "code",
   "execution_count": 8,
   "metadata": {
    "collapsed": false
   },
   "outputs": [
    {
     "name": "stdout",
     "output_type": "stream",
     "text": [
      "Name: Cufflinks\n",
      "LSID: urn:lsid:broad.mit.edu:cancer.software.genepattern.module.analysis:00231:4\n",
      "Version: 4\n",
      "Documentation: /gp/getTaskDoc.jsp?name=urn%3Alsid%3Abroad.mit.edu%3Acancer.software.genepattern.module.analysis%3A00231%3A4\n",
      "Description: Cufflinks 2.0.2 - Assembles transcripts, estimates abundances, and tests for differential expression and regulation in RNA-seq samples\n",
      "Params: 9 different params\n"
     ]
    }
   ],
   "source": [
    "print \"Name: \" + task.name\n",
    "print \"LSID: \" + task.lsid\n",
    "print \"Version: \" + task.version\n",
    "print \"Documentation: \" + task.documentation\n",
    "print \"Description: \" + task.description\n",
    "print \"Params: \" + str(len(task.params)) + \" different params\""
   ]
  },
  {
   "cell_type": "code",
   "execution_count": 9,
   "metadata": {
    "collapsed": false
   },
   "outputs": [],
   "source": [
    "%get_task http://127.0.0.1:8080/gp tabor \"\" TopHatFixed"
   ]
  },
  {
   "cell_type": "code",
   "execution_count": 10,
   "metadata": {
    "collapsed": false
   },
   "outputs": [],
   "source": [
    "# WE CAN PROGRAMMATICALLY GET A TASK, FILL OUT THE RUN TASK FORM AND RUN A JOB\n",
    "task = GPTask(\"ConvertLineEndings\", server)\n",
    "task"
   ]
  },
  {
   "cell_type": "code",
   "execution_count": 20,
   "metadata": {
    "collapsed": false
   },
   "outputs": [],
   "source": [
    "# AFTER RUNNING A JOB, A REFERENCE TO THE JOB IS ATTACHED TO THE TASK OBJECT\n",
    "# WE CAN MAKE A PYTHON CALL TO REFRESH THE STATUS OR RETURN IT TO SEE THE WIDGET\n",
    "task.job.get_info(server)\n",
    "task.job"
   ]
  },
  {
   "cell_type": "code",
   "execution_count": 21,
   "metadata": {
    "collapsed": false
   },
   "outputs": [
    {
     "name": "stdout",
     "output_type": "stream",
     "text": [
      "Job Number: 822\n",
      "Task Name: ConvertLineEndings\n",
      "... Etc.\n"
     ]
    }
   ],
   "source": [
    "# OTHER METADATA OF THE JOB CAN BE ACCESSED IN PYTHON\n",
    "print \"Job Number: \" + str(task.job.job_number)\n",
    "print \"Task Name: \" + task.job.task_name\n",
    "print \"... Etc.\""
   ]
  },
  {
   "cell_type": "code",
   "execution_count": null,
   "metadata": {
    "collapsed": false
   },
   "outputs": [],
   "source": []
  }
 ],
 "metadata": {
  "kernelspec": {
   "display_name": "Python 2",
   "language": "python",
   "name": "python2"
  },
  "language_info": {
   "codemirror_mode": {
    "name": "ipython",
    "version": 2
   },
   "file_extension": ".py",
   "mimetype": "text/x-python",
   "name": "python",
   "nbconvert_exporter": "python",
   "pygments_lexer": "ipython2",
   "version": "2.7.9"
  }
 },
 "nbformat": 4,
 "nbformat_minor": 0
}
