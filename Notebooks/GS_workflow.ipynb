{
 "cells": [
  {
   "cell_type": "code",
   "execution_count": 1,
   "metadata": {
    "collapsed": false
   },
   "outputs": [
    {
     "name": "stdout",
     "output_type": "stream",
     "text": [
      "GenePattern IPython Module Loaded!\n"
     ]
    },
    {
     "name": "stderr",
     "output_type": "stream",
     "text": [
      ":0: FutureWarning: IPython widgets are experimental and may change in the future.\n"
     ]
    }
   ],
   "source": [
    "# !AUTOEXEC\n",
    "\n",
    "%reload_ext gp\n",
    "%reload_ext gp_widgets\n",
    "%reload_ext gp_magics\n",
    "\n",
    "# Don't have the GenePattern library? It can be downloaded from: \n",
    "# http://genepattern.broadinstitute.org/gp/downloads/gp-python.zip \n",
    "import gp\n",
    "\n",
    "# The following widgets are components of the GenePattern Notebook extension.\n",
    "try:\n",
    "    from gp_widgets import GPAuthWidget, GPJobWidget, GPTaskWidget\n",
    "except:\n",
    "    def GPAuthWidget(input):\n",
    "        print(\"GP Widget Library not installed. Please visit http://genepattern.org\")\n",
    "    def GPJobWidget(input):\n",
    "        print(\"GP Widget Library not installed. Please visit http://genepattern.org\")\n",
    "    def GPTaskWidget(input):\n",
    "        print(\"GP Widget Library not installed. Please visit http://genepattern.org\")\n",
    "\n",
    "# The gpserver object holds your authentication credentials and is used to\n",
    "# make calls to the GenePattern server through the GenePattern Python library.\n",
    "# Your actual username and password have been removed from the code shown\n",
    "# below for security reasons.\n",
    "gpserver = gp.GPServer(\"http://127.0.0.1:8080/gp\", \"\", \"\")\n",
    "\n",
    "# Return the authentication widget to view it\n",
    "GPAuthWidget(gpserver)"
   ]
  },
  {
   "cell_type": "code",
   "execution_count": 5,
   "metadata": {
    "collapsed": false
   },
   "outputs": [],
   "source": [
    "# GenomeSpace Authentication\n",
    "\n",
    "import httplib2, urllib, hashlib, base64, json\n",
    "\n",
    "# Set login credentials, obtain gs-token\n",
    "h = httplib2.Http('.cache')\n",
    "username = 'gsnb'\n",
    "password = 'gsnb1234'\n",
    "h.add_credentials(username, password)\n",
    "\n",
    "response = [] # list to cache log of reponses (for debugging)\n",
    "content = [] # list to cache log of content (for debugging)\n",
    "(resp, cont) = h.request('https://identity.genomespace.org/identityServer/basic', 'GET')\n",
    "response.append(resp)\n",
    "content.append(cont)\n",
    "\n",
    "try:\n",
    "    # Object \"token\" stores a cookie named \"gs-token\"; must be included with every subsequent http request\n",
    "    token = {'Cookie': resp['set-cookie']}\n",
    "except KeyError:\n",
    "    print 'Error: Authentication failed.'\n",
    "\n",
    "# Build default header for subsequent HTTP requests\n",
    "header_default = token.copy()\n",
    "header_default['Accept'] = 'application/json,text/plain'\n",
    "\n",
    "# Setup JSON decoder\n",
    "json_dec = json.JSONDecoder()"
   ]
  },
  {
   "cell_type": "markdown",
   "metadata": {},
   "source": [
    "# Find subnetworks of differentially expressed genes and identify associated biological functions\n",
    "\n",
    "##Summary\n",
    "This recipe provides one method of using genes that are differentially expressed between two phenotypes, such as normal and tumor, to find subnetworks of interacting proteins and determine their functional annotations using Gene Ontology. In particular, this recipe makes use of several GenePattern modules to identify differentially regulated genes, then uses several Cytoscape plugins to identify potential interactions between gene products, and to visualize the resulting network.\n",
    "\n",
    ">**Why differential expression analysis?** We assume that most genes are not expressed all the time, but rather are expressed in specific tissues, stages of development, or under certain conditions. Genes which are expressed in one condition, such as cancerous tissue, are said to be differentially expressed when compared to normal conditions. To identify which genes change in response to specific conditions (e.g. cancer), we must filter or process the dataset to remove genes which are not informative.\n",
    "\n",
    ">**Why protein interaction network analysis?** Gene expression analysis results in a list of differentially expressed genes, but it does not explain whether these genes are connected biologically in a pathway or network. To better understanding the underlying biology that drives changes in gene expression analysis, we can perform network analysis to determine whether gene products (e.g. proteins) are reported to interact. To identify potential networks or pathways, we search for highly interconnected subnetworks within a large interaction network."
   ]
  },
  {
   "cell_type": "markdown",
   "metadata": {},
   "source": [
    "##Input\n",
    "To complete this recipe, we will need a gene expression dataset describing two conditions or phenotypes, such as cancervs. normal tissue. In this example, we will use gene expression data from a study in which committed granulocyte macrophage progenitor cells (normal phenotype) were transformed into leukemia stem cells (leukemic phenotype) by introduction of the MLL-AF9 protein. This example data is derived from mouse (_Mus musculus_) cell lines. We will need the following datasets, which can be downloaded from GenomeSpace's Public folder:\n",
    ">**Normal_Leu.gct**: This file contains gene expression data of two phenotypes: normal and leukemic. The file is available in GenePattern's GCT format.\n",
    "\n",
    ">**Normal_Leu.cls**: This file contains class assignments (normal or leukemic) for all the samples in the GCT file, as identified by the GenePattern CLS format.\n",
    "\n",
    "**Getting Data**\n",
    "\n",
    "1. Log into GenomeSpace and create a new working folder, e.g., _diff_subnetworks_.\n",
    "2. Navigate to the following Public data folder: `Public > SharedData > Demos > Analysis Recipe 1`\n",
    "3. Copy the following two files into your new working folder, e.g., _diff_subnetworks_:\n",
    "  * Normals_Leu.gct\n",
    "  * Normals_Leu.cls\n",
    "\n",
    "<a href=\"http://www.youtube.com/watch?feature=player_embedded&v=9_9qsYWE_K8\n",
    "\" target=\"_blank\"><img src=\"http://img.youtube.com/vi/9_9qsYWE_K8/0.jpg\" \n",
    "alt=\" Video: Copying data from the GenomeSpace Public Folder into your personal GenomeSpace account.\" width=\"480\" height=\"360\" border=\"5\" /></a>"
   ]
  },
  {
   "cell_type": "code",
   "execution_count": null,
   "metadata": {
    "collapsed": true
   },
   "outputs": [],
   "source": [
    "# Getting Data\n",
    "\n",
    "# GenomeSpace url prefixes\n",
    "dm_url = 'https://dm.genomespace.org/datamanager/v1.0'\n",
    "\n",
    "# 1. Create a new working folder, e.g., diff_subnetworks\n",
    "dirname = 'diff_subnetworks'\n",
    "user_dir = '/users/' + username\n",
    "working_dir = user_dir + '/' + dirname\n",
    "\n",
    "# Create folder with PUT\n",
    "working_url = dm_url + '/file' + working_dir  # URL of working folder\n",
    "(resp, cont) = h.request(working_url,\n",
    "                                   method='PUT', headers=header_default,\n",
    "                                   body=\"{\\\"isDirectory\\\":true}\")\n",
    "response.append(resp)\n",
    "content.append(cont)\n",
    "\n",
    "# 2. Navigate to the following Public data folder: `Public > SharedData > Demos > Analysis Recipe 1`\n",
    "# 3. Copy the following two files into your new working folder, e.g., _diff_subnetworks_:\n",
    "#  * Normals_Leu.gct\n",
    "#  * Normals_Leu.cls\n",
    "fnames = ['Normals_Leu.gct', 'Normals_Leu.cls']\n",
    "from_dir = '/users/SharedData/Demos/Analysis Recipe 1'\n",
    "for f in fnames:\n",
    "    from_url = from_dir + '/' + f\n",
    "    to_url = working_url + '/' + f\n",
    "    header_tmp = header_default.copy()\n",
    "    header_tmp['x-gs-copy-source'] = from_url\n",
    "    (resp, cont) = h.request(to_url,\n",
    "                             method='PUT', headers=header_tmp)\n",
    "    response.append(resp)\n",
    "    content.append(cont)\n",
    "\n",
    "#(resp_header, content) = h.request(tmp_url, method='GET', headers=header_default)\n",
    "#(content_dec, n) = json_dec.raw_decode(content) # decode GSDirectoryListing JSON object\n"
   ]
  },
  {
   "cell_type": "markdown",
   "metadata": {},
   "source": [
    "# Find subnetworks of differentially expressed genes and identify associated biological functions\n",
    "1. Identify the top 50 differentially expressed genes in our dataset, using GenePattern:\n",
    "  * Filter out genes which are not up- or down-regulated (PreprocessDataset)\n",
    "  * Identify genes which can discriminate between conditions, e.g. normal vs. leukemic (ComparativeMarkerSelection).\n",
    "  * Create a new file containing the differentially expressed genes, so that we can move data back into GenomeSpace (ExtractComparativeMarkerResults, SelectFileMatrix)\n",
    "2. Identify protein-protein interaction subnetworks associated with these genes, using Cytoscape:\n",
    "  * Identify connections between the differentially expressed genes, e.g. genetic interactions or protein-protein interactions, and examine functional annotation of the subnetworks (GeneMANIA)\n",
    "  * Identify highly interconnected clusters within a network (MCODE)\n",
    "  * Visualize the subnetworks of differentially expressed genes, and examine the functional annotation of these subnetworks"
   ]
  },
  {
   "cell_type": "code",
   "execution_count": null,
   "metadata": {
    "collapsed": true
   },
   "outputs": [],
   "source": [
    "try:\n",
    "    # Object \"token\" stores a cookie named \"gs-token\"; must be included with every subsequent http request\n",
    "    token = {'Cookie': resp['set-cookie']}\n",
    "except KeyError:\n",
    "    print 'Error: Authentication failed.'\n",
    "\n",
    "# Build default header for subsequent HTTP requests\n",
    "header_default = token.copy()\n",
    "header_default['Accept'] = 'application/json,text/plain'\n",
    "\n",
    "# Setup JSON decoder\n",
    "json_dec = json.JSONDecoder()"
   ]
  },
  {
   "cell_type": "code",
   "execution_count": 2,
   "metadata": {
    "collapsed": true
   },
   "outputs": [],
   "source": [
    "# !AUTOEXEC\n",
    "\n",
    "task = gp.GPTask(gpserver, 'urn:lsid:broad.mit.edu:cancer.software.genepattern.module.analysis:00020:5')\n",
    "GPTaskWidget(task)"
   ]
  },
  {
   "cell_type": "code",
   "execution_count": 9,
   "metadata": {
    "collapsed": false
   },
   "outputs": [
    {
     "name": "stdout",
     "output_type": "stream",
     "text": [
      "  % Total    % Received % Xferd  Average Speed   Time    Time     Time  Current\n",
      "                                 Dload  Upload   Total   Spent    Left  Speed\n",
      "100 9112k    0 9112k    0     0  1247k      0 --:--:--  0:00:07 --:--:-- 1756k\n"
     ]
    }
   ],
   "source": [
    "!curl -o BMID000000140222.xml http://www.ebi.ac.uk/biomodels-main/download?mid=BMID000000140222"
   ]
  },
  {
   "cell_type": "code",
   "execution_count": null,
   "metadata": {
    "collapsed": true
   },
   "outputs": [],
   "source": []
  }
 ],
 "metadata": {
  "kernelspec": {
   "display_name": "Python 2",
   "language": "python",
   "name": "python2"
  },
  "language_info": {
   "codemirror_mode": {
    "name": "ipython",
    "version": 2
   },
   "file_extension": ".py",
   "mimetype": "text/x-python",
   "name": "python",
   "nbconvert_exporter": "python",
   "pygments_lexer": "ipython2",
   "version": "2.7.9"
  }
 },
 "nbformat": 4,
 "nbformat_minor": 0
}
