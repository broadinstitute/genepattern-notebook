{
 "cells": [
  {
   "cell_type": "markdown",
   "metadata": {},
   "source": [
    "# NMF Clustering in GenePattern Notebook\n",
    "\n",
    "Non-negative matrix factorization (NMF) finds a small number of metagenes, each defined as a positive linear combination of the genes in the expression data. It then groups samples into clusters based on the gene expression pattern of these metagenes.\n",
    "\n",
    "## Before you begin\n",
    "\n",
    "* Sign in to GenePattern by entering your username and password into the form below.\n",
    "* Gene expression data must be in a [GCT or RES file](http://genepattern.broadinstitute.org/gp/pages/protocols/GctResFiles.html).\n",
    "    * Example file: [all_aml_test.gct](ftp://ftp.broadinstitute.org/pub/genepattern/datasets/all_aml/all_aml_test.gct).\n",
    "* The gene expression data must contain only positive values. If your data contains negative values, see the [NMFConsensus documentation](http://genepatternbeta.broadinstitute.org/gp/getTaskDoc.jsp?name=NMFConsensus) for instructions.\n",
    "* Learn more by reading about [file formats](http://www.broadinstitute.org/cancer/software/genepattern/file-formats-guide#GCT).\n"
   ]
  },
  {
   "cell_type": "code",
   "execution_count": 2,
   "metadata": {
    "collapsed": false
   },
   "outputs": [
    {
     "data": {
      "application/javascript": [
       "/*\n",
       " * Load required CSS files\n",
       " */\n",
       "\n",
       "$('head')\n",
       "    // Import styles used by GenePattern navigation\n",
       "    .append(\n",
       "        $('<link rel=\"stylesheet\" type=\"text/css\" />')\n",
       "            .attr(\"rel\", \"stylesheet\")\n",
       "            .attr(\"type\", \"text/css\")\n",
       "            .attr('href', '/static/genepattern/gp-navigation.css')\n",
       "    )\n",
       "    // Import styles used by GenePattern widgets\n",
       "    .append(\n",
       "        $('<link rel=\"stylesheet\" type=\"text/css\" />')\n",
       "            .attr(\"rel\", \"stylesheet\")\n",
       "            .attr(\"type\", \"text/css\")\n",
       "            .attr('href', '/static/genepattern/gp-widget.css')\n",
       "    );\n",
       "\n",
       "/*\n",
       " * Load the required JavaScript files and init\n",
       " */\n",
       "\n",
       "requirejs([\n",
       "    \"jquery\",\n",
       "    \"/static/genepattern/gp.js\",\n",
       "    \"/static/genepattern/navigation.js\",\n",
       "    \"/static/genepattern/auth-widget.js\",\n",
       "    \"/static/genepattern/job-widget.js\",\n",
       "    \"/static/genepattern/task-widget.js\"], function(util) {\n",
       "\n",
       "    // Initiate the GenePattern Notebook extension\n",
       "    // If reloading a notebook, display with the full event model\n",
       "    $([IPython.events]).on('kernel_ready.Kernel kernel_created.Session notebook_loaded.Notebook', GenePattern.notebook.init.notebook_init_wrapper);\n",
       "\n",
       "    // Otherwise, if not initialized after two seconds, manually init\n",
       "    setTimeout(function() {\n",
       "        if (!GenePattern.notebook.init.launch_init.done_init  && IPython.notebook.kernel) {\n",
       "            GenePattern.notebook.init.notebook_init_wrapper();\n",
       "        }\n",
       "    }, 2000);\n",
       "});"
      ],
      "text/plain": [
       "<IPython.core.display.Javascript object>"
      ]
     },
     "metadata": {},
     "output_type": "display_data"
    }
   ],
   "source": [
    "# !AUTOEXEC\n",
    "\n",
    "%reload_ext gp\n",
    "%reload_ext genepattern\n",
    "\n",
    "# Don't have the GenePattern library? It can be downloaded from: \n",
    "# http://genepattern.broadinstitute.org/gp/downloads/gp-python.zip \n",
    "# or installed through PIP: pip install genepattern-python \n",
    "import gp\n",
    "\n",
    "# The following widgets are components of the GenePattern Notebook extension.\n",
    "try:\n",
    "    from genepattern import GPAuthWidget, GPJobWidget, GPTaskWidget\n",
    "except:\n",
    "    def GPAuthWidget(input):\n",
    "        print(\"GP Widget Library not installed. Please visit http://genepattern.org\")\n",
    "    def GPJobWidget(input):\n",
    "        print(\"GP Widget Library not installed. Please visit http://genepattern.org\")\n",
    "    def GPTaskWidget(input):\n",
    "        print(\"GP Widget Library not installed. Please visit http://genepattern.org\")\n",
    "\n",
    "# The gpserver object holds your authentication credentials and is used to\n",
    "# make calls to the GenePattern server through the GenePattern Python library.\n",
    "# Your actual username and password have been removed from the code shown\n",
    "# below for security reasons.\n",
    "gpserver = gp.GPServer(\"http://genepatternbeta.broadinstitute.org/gp\", \"\", \"\")\n",
    "\n",
    "# Return the authentication widget to view it\n",
    "GPAuthWidget(gpserver)"
   ]
  },
  {
   "cell_type": "markdown",
   "metadata": {},
   "source": [
    "## Step 1: PreprocessDataset\n",
    "\n",
    "Preprocess gene expression data to remove platform noise and genes that have little variation. Although researchers generally preprocess data before clustering if doing so removes relevant biological information, skip this step. \n",
    "\n",
    "### Considerations\n",
    "\n",
    "* PreprocessDataset can preprocess the data in one or more ways (in this order):\n",
    "    1. Set threshold and ceiling values. Any value lower/higher than the threshold/ceiling value is reset to the threshold/ceiling value.\n",
    "    2. Convert each expression value to the log base 2 of the value.\n",
    "    3. Remove genes (rows) if a given number of its sample values are less than a given threshold.\n",
    "    4. Remove genes (rows) that do not have a minimum fold change or expression variation.\n",
    "    5. Discretize or normalize the data.\n",
    "* When using ratios to compare gene expression between samples, convert values to log base 2 of the value to bring up- and down-regulated genes to the same scale. For example, ratios of 2 and .5 indicating two-fold changes for up- and down-regulated expression, respectively, are converted to +1 and -1. \n",
    "* If you did not generate the expression data, check whether preprocessing steps have already been taken before running the PreprocessDataset module. \n",
    "* Learn more by reading about the [PreprocessDataset](http://genepattern.broadinstitute.org/gp/getTaskDoc.jsp?name=PreprocessDataset) module."
   ]
  },
  {
   "cell_type": "code",
   "execution_count": 3,
   "metadata": {
    "collapsed": true
   },
   "outputs": [],
   "source": [
    "# !AUTOEXEC\n",
    "\n",
    "preprocessdataset_task = gp.GPTask(gpserver, 'urn:lsid:broad.mit.edu:cancer.software.genepattern.module.analysis:00020:5')\n",
    "preprocessdataset_job_spec = preprocessdataset_task.make_job_spec()\n",
    "preprocessdataset_job_spec.set_parameter(\"input.filename\", \"ftp://ftp.broadinstitute.org/pub/genepattern/datasets/all_aml/all_aml_test.gct\")\n",
    "preprocessdataset_job_spec.set_parameter(\"threshold.and.filter\", \"1\")\n",
    "preprocessdataset_job_spec.set_parameter(\"floor\", \"20\")\n",
    "preprocessdataset_job_spec.set_parameter(\"ceiling\", \"20000\")\n",
    "preprocessdataset_job_spec.set_parameter(\"min.fold.change\", \"3\")\n",
    "preprocessdataset_job_spec.set_parameter(\"min.delta\", \"100\")\n",
    "preprocessdataset_job_spec.set_parameter(\"num.outliers.to.exclude\", \"0\")\n",
    "preprocessdataset_job_spec.set_parameter(\"row.normalization\", \"0\")\n",
    "preprocessdataset_job_spec.set_parameter(\"row.sampling.rate\", \"1\")\n",
    "preprocessdataset_job_spec.set_parameter(\"threshold.for.removing.rows\", \"\")\n",
    "preprocessdataset_job_spec.set_parameter(\"number.of.columns.above.threshold\", \"\")\n",
    "preprocessdataset_job_spec.set_parameter(\"log2.transform\", \"0\")\n",
    "preprocessdataset_job_spec.set_parameter(\"output.file.format\", \"3\")\n",
    "preprocessdataset_job_spec.set_parameter(\"output.file\", \"<input.filename_basename>.preprocessed\")\n",
    "GPTaskWidget(preprocessdataset_task)"
   ]
  },
  {
   "cell_type": "markdown",
   "metadata": {},
   "source": [
    "## Step 2: NMFConsensus\n",
    "\n",
    "NMFConsensus uses the basic principle of dimensionality reduction via non-negative matrix factorization (NMF) to find a small number of metagenes, each defined as a positive linear combination of the genes in the expression data. It then groups samples into clusters based on the gene expression pattern of the samples as positive linear combinations of these metagenes. NMFConsensus repeatedly runs the clustering algorithm against perturbations of the gene expression data and creates a consensus matrix to assesses the stability of the resulting clusters.\n",
    "\n",
    "**3-4 hours:** Running this example on the GenePattern public server takes several hours. The results are provided here for your convenience: [NMFConsensus_Results.zip](ftp://ftp.broadinstitute.org/pub/genepattern/datasets/protocols/NMFConsensus_Results.zip). \n",
    "\n",
    "### Considerations\n",
    "\n",
    "* Non-negative matrix factorization (NMF) requires positive gene expression values. To run NMF on data that contains negative values (Kim & Tidor, 2003): \n",
    "    1. Create one dataset with all negative numbers zeroed.\n",
    "    2. Create another dataset with all positive numbers zeroed and the signs of all negative numbers removed. \n",
    "    3. Merge the two (eg. by concatenation), resulting in a dataset twice as large as the original, but with positive values only and zeros, hence appropriate for NMF. \n",
    "* To do this in MATLAB, execute the following statement:\n",
    "        anew=[max(a,0);-min(a,0)];\n",
    "        where a is the original data.\n",
    "* NMFConsensus groups samples into k classes based on k metagenes. Use the k initial and k final parameters to specify the desired number of classes (by default, 2-5). NMFConsensus builds a separate consensus matrix for each set of classes.\n",
    "* This module executes an R version of NMFConsensus, which is slow and is intended for exploratory use. A faster MATLAB version of NMFConsensus is available on the [Broad Institute web site](http://www.broadinstitute.org/cgi-bin/cancer/publications/pub_paper.cgi?mode=view&paper_id=89). \n",
    "* Learn more by reading about the [NMFConsensus](http://genepatternbeta.broadinstitute.org/gp/getTaskDoc.jsp?name=NMFConsensus) module."
   ]
  },
  {
   "cell_type": "code",
   "execution_count": 4,
   "metadata": {
    "collapsed": true
   },
   "outputs": [],
   "source": [
    "# !AUTOEXEC\n",
    "\n",
    "nmfconsensus_task = gp.GPTask(gpserver, 'urn:lsid:broad.mit.edu:cancer.software.genepattern.module.analysis:00057:5')\n",
    "nmfconsensus_job_spec = nmfconsensus_task.make_job_spec()\n",
    "nmfconsensus_job_spec.set_parameter(\"dataset.filename\", \"ftp://ftp.broadinstitute.org/pub/genepattern/datasets/protocols/all_aml_test.preprocessed.gct\")\n",
    "nmfconsensus_job_spec.set_parameter(\"k.initial\", \"2\")\n",
    "nmfconsensus_job_spec.set_parameter(\"k.final\", \"5\")\n",
    "nmfconsensus_job_spec.set_parameter(\"num.clusterings\", \"20\")\n",
    "nmfconsensus_job_spec.set_parameter(\"max.num.iterations\", \"2000\")\n",
    "nmfconsensus_job_spec.set_parameter(\"error.function\", \"divergence\")\n",
    "nmfconsensus_job_spec.set_parameter(\"random.seed\", \"123456789\")\n",
    "nmfconsensus_job_spec.set_parameter(\"output.file.prefix\", \"<dataset.filename_basename>\")\n",
    "nmfconsensus_job_spec.set_parameter(\"stop.convergence\", \"40\")\n",
    "nmfconsensus_job_spec.set_parameter(\"stop.frequency\", \"10\")\n",
    "GPTaskWidget(nmfconsensus_task)"
   ]
  },
  {
   "cell_type": "markdown",
   "metadata": {},
   "source": [
    "## Step 3: View Results\n",
    "\n",
    "Plots of the results are written to .pdf files. Cluster membership results are written to GCT files. View the result files by clicking on them. \n",
    "\n",
    "* For an overview of the results, click *.consensus.all.k.plot.pdf. A consensus matrix where all values are dark blue (0) or dark red (1) corresponds to perfect consensus. For example: [all_aml_test.preprocessed.consensus.all.k.plot.pdf](ftp://ftp.broadinstitute.org/pub/genepattern/datasets/protocols/all_aml_test.preprocessed.consensus.all.k.plot.pdf). \n",
    "* For a complete listing of cluster membership, click *.membership.gct.\n",
    "\n",
    "### Considerations\n",
    "\n",
    "* For more about the plots and their interpretation, see Brunet et al., 2004.\n",
    "* Learn more by reading about the [NMFConsensus](http://genepatternbeta.broadinstitute.org/gp/getTaskDoc.jsp?name=NMFConsensus) module."
   ]
  },
  {
   "cell_type": "code",
   "execution_count": null,
   "metadata": {
    "collapsed": true
   },
   "outputs": [],
   "source": []
  }
 ],
 "metadata": {
  "kernelspec": {
   "display_name": "Python 2",
   "language": "python",
   "name": "python2"
  },
  "language_info": {
   "codemirror_mode": {
    "name": "ipython",
    "version": 2
   },
   "file_extension": ".py",
   "mimetype": "text/x-python",
   "name": "python",
   "nbconvert_exporter": "python",
   "pygments_lexer": "ipython2",
   "version": "2.7.9"
  }
 },
 "nbformat": 4,
 "nbformat_minor": 0
}
