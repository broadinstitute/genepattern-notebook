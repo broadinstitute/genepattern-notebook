{
 "cells": [
  {
   "cell_type": "markdown",
   "metadata": {},
   "source": [
    "# Working with Samples and Features\n",
    "\n",
    "From a combined dataset of cancer and normal samples, extract the normal samples. Within the normal samples, find the genes coexpressed with LRPPRC (Affymetrix probe M92439_at), a gene with mitochondrial function.\n",
    "\n",
    "## Before you begin\n",
    "\n",
    "* Sign in to GenePattern by entering your username and password into the form below. If you are seeing a block of code instead of the login form, go to the menu above and select Cell > Run All.\n",
    "* The data will will use in this exercise is from the Global Cancer Map, published along with the paper *[Multi-Class Cancer Diagnosis Using Tumor Gene Expression Signatures](http://www.broadinstitute.org/cgi-bin/cancer/publications/pub_paper.cgi?mode=view&paper_id=61)*.\n",
    "* Links to the data files used in this exercise are below:\n",
    "    * RES file: [GCM_Total.res](https://genepattern.broadinstitute.org/gp/data//xchip/gpprod/shared_data/workshop_files/GCM_Total.res)\n",
    "    * CLS file: [GCM_Total.cls](https://genepattern.broadinstitute.org/gp/data//xchip/gpprod/shared_data/workshop_files/GCM_Total.cls)\n",
    "    * CHIP file: [HU6800.chip](https://genepattern.broadinstitute.org/gp/data//xchip/gpprod/shared_data/workshop_files/HU6800.chip)"
   ]
  },
  {
   "cell_type": "code",
   "execution_count": null,
   "metadata": {
    "collapsed": false
   },
   "outputs": [],
   "source": [
    "# !AUTOEXEC\n",
    "\n",
    "%reload_ext genepattern\n",
    "\n",
    "# Don't have the GenePattern Notebook? It can be installed from PIP: \n",
    "# pip install genepattern-notebook \n",
    "import gp\n",
    "\n",
    "# The following widgets are components of the GenePattern Notebook extension.\n",
    "try:\n",
    "    from genepattern import GPAuthWidget, GPJobWidget, GPTaskWidget\n",
    "except:\n",
    "    def GPAuthWidget(input):\n",
    "        print(\"GP Widget Library not installed. Please visit http://genepattern.org\")\n",
    "    def GPJobWidget(input):\n",
    "        print(\"GP Widget Library not installed. Please visit http://genepattern.org\")\n",
    "    def GPTaskWidget(input):\n",
    "        print(\"GP Widget Library not installed. Please visit http://genepattern.org\")\n",
    "\n",
    "# The gpserver object holds your authentication credentials and is used to\n",
    "# make calls to the GenePattern server through the GenePattern Python library.\n",
    "# Your actual username and password have been removed from the code shown\n",
    "# below for security reasons.\n",
    "gpserver = gp.GPServer(\"https://genepattern.broadinstitute.org/gp\", \"\", \"\")\n",
    "\n",
    "# Return the authentication widget to view it\n",
    "GPAuthWidget(gpserver)"
   ]
  },
  {
   "cell_type": "markdown",
   "metadata": {},
   "source": [
    "## Step 1: Selecting a Subset of an Expression File\n",
    "\n",
    "1. Insert an analysis cell for the *SelectFeaturesColumns* module and move it below this set of instructions.\n",
    "2. Set the following parameters:\n",
    "    1. Drag-and-drop the *[GCM_Total.res](https://genepattern.broadinstitute.org/gp/data//xchip/gpprod/shared_data/workshop_files/GCM_Total.res)* file linked above into the *input.filename* parameter.\n",
    "    2. Set the columns parameter to *190-279*.\n",
    "    3. Set the *output.file* paremeter to *GCM_Normals.res*.\n",
    "3. Click the *Run* button."
   ]
  },
  {
   "cell_type": "code",
   "execution_count": null,
   "metadata": {
    "collapsed": false
   },
   "outputs": [],
   "source": [
    "# !AUTOEXEC\n",
    "\n",
    "selectfeaturescolumns_task = gp.GPTask(gpserver, 'urn:lsid:broad.mit.edu:cancer.software.genepattern.module.analysis:00021:4')\n",
    "selectfeaturescolumns_job_spec = selectfeaturescolumns_task.make_job_spec()\n",
    "selectfeaturescolumns_job_spec.set_parameter(\"input.filename\", \"\")\n",
    "selectfeaturescolumns_job_spec.set_parameter(\"columns\", \"\")\n",
    "selectfeaturescolumns_job_spec.set_parameter(\"list.filename\", \"\")\n",
    "selectfeaturescolumns_job_spec.set_parameter(\"output\", \"\")\n",
    "GPTaskWidget(selectfeaturescolumns_task)"
   ]
  },
  {
   "cell_type": "markdown",
   "metadata": {},
   "source": [
    "## Step 2: Finding Coexpressed Genes\n",
    "\n",
    "1. Insert an analysis cell for the *GeneNeighbors* module and move it below this set of instructions.\n",
    "2. Set the following parameters:\n",
    "    1. Send the *GCM_Normals.res* file produced by the *SelectFeaturesColumns* job above to the *data.filename* parameter.\n",
    "    2. Set the *gene.accession* parameter to *M92439_at*.\n",
    "3. Click the *Run* button."
   ]
  },
  {
   "cell_type": "code",
   "execution_count": null,
   "metadata": {
    "collapsed": false
   },
   "outputs": [],
   "source": [
    "# !AUTOEXEC\n",
    "\n",
    "geneneighbors_task = gp.GPTask(gpserver, 'urn:lsid:broad.mit.edu:cancer.software.genepattern.module.analysis:00007:4')\n",
    "geneneighbors_job_spec = geneneighbors_task.make_job_spec()\n",
    "geneneighbors_job_spec.set_parameter(\"data.filename\", \"\")\n",
    "geneneighbors_job_spec.set_parameter(\"gene.accession\", \"\")\n",
    "geneneighbors_job_spec.set_parameter(\"num.neighbors\", \"50\")\n",
    "geneneighbors_job_spec.set_parameter(\"marker.list.file\", \"<data.filename_basename>.markerlist\")\n",
    "geneneighbors_job_spec.set_parameter(\"marker.dataset.file\", \"<data.filename_basename>.markerdata\")\n",
    "geneneighbors_job_spec.set_parameter(\"distance.metric\", \"3\")\n",
    "geneneighbors_job_spec.set_parameter(\"filter.data\", \"no\")\n",
    "geneneighbors_job_spec.set_parameter(\"min.threshold\", \"20\")\n",
    "geneneighbors_job_spec.set_parameter(\"max.threshold\", \"20000\")\n",
    "geneneighbors_job_spec.set_parameter(\"min.fold.diff\", \"5\")\n",
    "geneneighbors_job_spec.set_parameter(\"min.abs.diff\", \"50\")\n",
    "GPTaskWidget(geneneighbors_task)"
   ]
  },
  {
   "cell_type": "markdown",
   "metadata": {},
   "source": [
    "## Step 3: Viewing Coexpressed Genes\n",
    "\n",
    "1. Look for the *GCM_Normals.markerdata.gct* file produced by the GeneNeighbors job above. \n",
    "2. Click it and look for *Send to New GenePattern Cell* in the menu, then select *HeatMapViewer*.\n",
    "3. Move the new *HeatMapViewer* cell below these instructions.\n",
    "4. Click the *Run* button."
   ]
  },
  {
   "cell_type": "code",
   "execution_count": null,
   "metadata": {
    "collapsed": false
   },
   "outputs": [],
   "source": [
    "# !AUTOEXEC\n",
    "\n",
    "heatmapviewer_task = gp.GPTask(gpserver, 'urn:lsid:broad.mit.edu:cancer.software.genepattern.module.visualizer:00010:13.9')\n",
    "heatmapviewer_job_spec = heatmapviewer_task.make_job_spec()\n",
    "heatmapviewer_job_spec.set_parameter(\"dataset\", \"\")\n",
    "GPTaskWidget(heatmapviewer_task)"
   ]
  },
  {
   "cell_type": "markdown",
   "metadata": {},
   "source": [
    "## Step 4: Collapse the Expression File\n",
    "\n",
    "1. Insert an analysis cell for the *CollapseDataset* module and move it below this set of instructions.\n",
    "2. Set the following parameters:\n",
    "    1. Send the *GCM_Normals.markerdata.gct* file produced by the *GeneNeighbors* job above to the *dataset.file* parameter.\n",
    "    2. Drag-and-drop *[HU6800.chip](https://genepattern.broadinstitute.org/gp/data//xchip/gpprod/shared_data/workshop_files/HU6800.chip)* to the *chip.platform* parameter.\n",
    "3. Click the *Run* button."
   ]
  },
  {
   "cell_type": "code",
   "execution_count": null,
   "metadata": {
    "collapsed": false
   },
   "outputs": [],
   "source": [
    "# !AUTOEXEC\n",
    "\n",
    "collapsedataset_task = gp.GPTask(gpserver, 'urn:lsid:broad.mit.edu:cancer.software.genepattern.module.analysis:00134:1')\n",
    "collapsedataset_job_spec = collapsedataset_task.make_job_spec()\n",
    "collapsedataset_job_spec.set_parameter(\"dataset.file\", \"\")\n",
    "collapsedataset_job_spec.set_parameter(\"chip.platform\", \"\")\n",
    "collapsedataset_job_spec.set_parameter(\"collapse.mode\", \"Maximum\")\n",
    "collapsedataset_job_spec.set_parameter(\"output.file.name\", \"<dataset.file_basename>.collapsed\")\n",
    "GPTaskWidget(collapsedataset_task)"
   ]
  },
  {
   "cell_type": "markdown",
   "metadata": {},
   "source": [
    "## Step 5: Converting an Affy Expression File to a List of Genes\n",
    "\n",
    "1. Look for the *GCM_Normals.markerdata.collapsed.gct* file produced by the *CollapseDataset* job above. \n",
    "2. Click it and look for *Send to New GenePattern Cell* in the menu, then select *ExtractRowNames*.\n",
    "3. Move the new *ExtractRowNames* cell below these instructions.\n",
    "4. Click the *Run* button.\n",
    "5. View the resulting gene list by clicking *GCM_Normals.markerdata.collapsed.row.names.txt* and selecting *Open in New Tab*.\n"
   ]
  },
  {
   "cell_type": "code",
   "execution_count": null,
   "metadata": {
    "collapsed": false
   },
   "outputs": [],
   "source": [
    "# !AUTOEXEC\n",
    "\n",
    "extractrownames_task = gp.GPTask(gpserver, 'urn:lsid:broad.mit.edu:cancer.software.genepattern.module.analysis:00004:3')\n",
    "extractrownames_job_spec = extractrownames_task.make_job_spec()\n",
    "extractrownames_job_spec.set_parameter(\"input.filename\", \"\")\n",
    "extractrownames_job_spec.set_parameter(\"output\", \"<input.filename_basename>.row.names.txt\")\n",
    "GPTaskWidget(extractrownames_task)"
   ]
  },
  {
   "cell_type": "markdown",
   "metadata": {},
   "source": [
    "## Find pathways associated with gene list\n",
    "The following code will search the [mygene.info](http://mygene.info) gene database service and query each result gene to determine which Reactome pathways are associated with it.\n",
    "\n",
    "<div class=\"alert alert-warning\">\n",
    "<p>Executing the cells below will read in a list of genes, similar to the list created earlier in the main Samples and Features exercise. Each gene in this list will then be sent to [mygene.info](http://mygene.info), a gene database service.</p>\n",
    "</div>\n",
    "\n",
    "<div class=\"alert alert-warning\">\n",
    "- Click on the i icon next to the `GCM_Normals.markerdata.collapsed.row.names.txt` file in the last step\n",
    "- Select \"View Code use\"\n",
    "- Select and copy the reference to the output file, for example `job1306740.get_output_files()[1]` (do NOT include the \"this file = \" part)\n",
    "- Paste the result into the code below to replace **INSERT PASTED CODE HERE**\n",
    "- The resulting line should look like `gene_list_filename = job1306740.get_output_files()[1]`\n",
    "- Execute the cell below"
   ]
  },
  {
   "cell_type": "code",
   "execution_count": null,
   "metadata": {
    "collapsed": false
   },
   "outputs": [],
   "source": [
    "gene_list_filename = **INSERT PASTED CODE HERE**\n",
    "gene_list_file = gene_list_filename.open()\n",
    "gene_list = gene_list_file.readlines()"
   ]
  },
  {
   "cell_type": "code",
   "execution_count": null,
   "metadata": {
    "collapsed": false
   },
   "outputs": [],
   "source": [
    "import requests\n",
    "import json\n",
    "\n",
    "for gene in gene_list:\n",
    "    if \" \" in gene:\n",
    "        gene=gene[0:gene.find(\" \")]\n",
    "    gene_results = requests.get(\"https://mygene.info/v2/query?q=\"+gene+\"&fields=pathway.reactome\").content\n",
    "    gene_results_json = json.loads(gene_results)\n",
    "    print(gene)\n",
    "    pathways = list()\n",
    "    for h in range(len(gene_results_json[\"hits\"])):\n",
    "        for k in gene_results_json[\"hits\"][h].keys():\n",
    "            if u'pathway' == k:\n",
    "                for i in range(len(gene_results_json[\"hits\"][h][\"pathway\"][\"reactome\"])):\n",
    "                    pathways.append(gene_results_json[\"hits\"][h][\"pathway\"][\"reactome\"][i][\"name\"])\n",
    "    if (len(pathways) == 0):\n",
    "        pathways.append(\"No pathways found\")\n",
    "    else:\n",
    "        for p in sorted(set(pathways)):\n",
    "            print \"\\t\" + p"
   ]
  }
 ],
 "metadata": {
  "kernelspec": {
   "display_name": "Python 2",
   "language": "python",
   "name": "python2"
  },
  "language_info": {
   "codemirror_mode": {
    "name": "ipython",
    "version": 2
   },
   "file_extension": ".py",
   "mimetype": "text/x-python",
   "name": "python",
   "nbconvert_exporter": "python",
   "pygments_lexer": "ipython2",
   "version": "2.7.5"
  },
  "widgets": {
   "state": {
    "07a726ec8faa4299983c428036e15b33": {
     "views": []
    },
    "18b0cd2f5f4e4a5bb5b409b372ac73ab": {
     "views": []
    },
    "1e8f219d407a4ee1a9f0cc1a62665c5b": {
     "views": []
    },
    "2a7b0f250a6e4fe6872cf2a2a4a9dd02": {
     "views": []
    },
    "2acc20b95e4b457db694a0d4ea019217": {
     "views": []
    },
    "2fd89fde0be84225b320d272f1dc73bb": {
     "views": []
    },
    "370dee05d23448468c7bd407d8444c0e": {
     "views": [
      {
       "cell_index": 11
      }
     ]
    },
    "42f551710df54da4b65d4b24847ae602": {
     "views": []
    },
    "46d58c2696d74f308e2c3cbb2c7c84ba": {
     "views": []
    },
    "59c060023bb94520876c24b21694c4ae": {
     "views": []
    },
    "60ee5770e1344e0cb6978850f27f182a": {
     "views": []
    },
    "8224c1722d014177913c6755d33c39f7": {
     "views": [
      {
       "cell_index": 7
      }
     ]
    },
    "860ed8e867ba46fa83888e4b9d01bc8f": {
     "views": [
      {
       "cell_index": 5
      }
     ]
    },
    "8c9a2b39fc0e4f0bb5c50bc7b69bff94": {
     "views": []
    },
    "984bce876db44a2784019cc3b989561e": {
     "views": [
      {
       "cell_index": 1
      }
     ]
    },
    "a48a06605bc8486cb2ade6fb4bb0271a": {
     "views": []
    },
    "add8f81f75eb4b568b83e7c4e95ed7f6": {
     "views": []
    },
    "b067abca8f16402a9002e3491fdc47f5": {
     "views": []
    },
    "bb7395834ff742ffba61d19daedbf1cd": {
     "views": []
    },
    "c35087b72c5943efbb446738994e600c": {
     "views": []
    },
    "c82adc3d4482424f80359f62e4b1d858": {
     "views": []
    },
    "caf0ff2294eb41caa4f7ee98c76519b2": {
     "views": []
    },
    "cd5b343e9db74878aeb0ae8952edd332": {
     "views": [
      {
       "cell_index": 9
      }
     ]
    },
    "def58ede4d4c4bf58949af8a0c3c1771": {
     "views": []
    },
    "eebb777aff554f7fb7c9e81825a56339": {
     "views": []
    },
    "f52ecc031ae04fa49fbccce0e2cdd320": {
     "views": []
    },
    "f9ad6ff62e9e4a5980772bfe7186912d": {
     "views": [
      {
       "cell_index": 3
      }
     ]
    },
    "fe4f646c92194f168983d51944c25057": {
     "views": []
    }
   },
   "version": "1.1.2"
  }
 },
 "nbformat": 4,
 "nbformat_minor": 0
}
