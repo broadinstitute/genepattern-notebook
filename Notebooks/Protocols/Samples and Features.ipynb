{
 "cells": [
  {
   "cell_type": "markdown",
   "metadata": {},
   "source": [
    "# Working with Samples and Features\n",
    "\n",
    "From a combined dataset of cancer and normal samples, extract the normal samples. Within the normal samples, find the genes coexpressed with LRPPRC (Affymetrix probe M92439_at), a gene with mitochondrial function.\n",
    "\n",
    "## Before you begin\n",
    "\n",
    "* Sign in to GenePattern by entering your username and password into the form below. If you are seeing a block of code instead of the login form, go to the menu above and select Cell > Run All.\n",
    "* The data will will use in this exercise is from the Global Cancer Map, published along with the paper *[Multi-Class Cancer Diagnosis Using Tumor Gene Expression Signatures](http://www.broadinstitute.org/cgi-bin/cancer/publications/pub_paper.cgi?mode=view&paper_id=61)*.\n",
    "* Links to the data files used in this exercise are below:\n",
    "    * RES file: [GCM_Total.res](http://software.broadinstitute.org/cancer/software/genepattern/data/gcm/GCM_Total.res)\n",
    "    * CLS file: [GCM_Total.cls](http://software.broadinstitute.org/cancer/software/genepattern/data/gcm/GCM_Total.cls)\n",
    "    * CHIP file: [HU6800.chip](http://software.broadinstitute.org/cancer/software/genepattern/data/gcm/HU6800.chip)"
   ]
  },
  {
   "cell_type": "code",
   "execution_count": 2,
   "metadata": {
    "collapsed": false
   },
   "outputs": [],
   "source": [
    "# !AUTOEXEC\n",
    "\n",
    "%reload_ext genepattern\n",
    "\n",
    "# Don't have the GenePattern Notebook? It can be installed from PIP: \n",
    "# pip install genepattern-notebook \n",
    "import gp\n",
    "\n",
    "# The following widgets are components of the GenePattern Notebook extension.\n",
    "try:\n",
    "    from genepattern import GPAuthWidget, GPJobWidget, GPTaskWidget\n",
    "except:\n",
    "    def GPAuthWidget(input):\n",
    "        print(\"GP Widget Library not installed. Please visit http://genepattern.org\")\n",
    "    def GPJobWidget(input):\n",
    "        print(\"GP Widget Library not installed. Please visit http://genepattern.org\")\n",
    "    def GPTaskWidget(input):\n",
    "        print(\"GP Widget Library not installed. Please visit http://genepattern.org\")\n",
    "\n",
    "# The gpserver object holds your authentication credentials and is used to\n",
    "# make calls to the GenePattern server through the GenePattern Python library.\n",
    "# Your actual username and password have been removed from the code shown\n",
    "# below for security reasons.\n",
    "gpserver = gp.GPServer(\"https://genepattern.broadinstitute.org/gp\", \"\", \"\")\n",
    "\n",
    "# Return the authentication widget to view it\n",
    "GPAuthWidget(gpserver)"
   ]
  },
  {
   "cell_type": "markdown",
   "metadata": {},
   "source": [
    "## Step 1: Selecting a Subset of an Expression File\n",
    "\n",
    "1. Insert an analysis cell for the *SelectFeaturesColumns* module and move it below this set of instructions.\n",
    "2. Set the following parameters:\n",
    "    1. Drag-and-drop the *[GCM_Total.res](http://software.broadinstitute.org/cancer/software/genepattern/data/gcm/GCM_Total.res)* file linked above into the *input.filename* parameter.\n",
    "    2. Set the columns parameter to *190-279*.\n",
    "    3. Set the *output.file* paremeter to *GCM_Normals.res*.\n",
    "3. Click the *Run* button."
   ]
  },
  {
   "cell_type": "markdown",
   "metadata": {},
   "source": [
    "## Step 2: Finding Coexpressed Genes\n",
    "\n",
    "1. Insert an analysis cell for the *GeneNeighbors* module and move it below this set of instructions.\n",
    "2. Set the following parameters:\n",
    "    1. Send the *GCM_Normals.res* file produced by the *SelectFeaturesColumns* job above to the *data.filename* parameter.\n",
    "    2. Set the *gene.accession* parameter to *M92439_at*.\n",
    "3. Click the *Run* button."
   ]
  },
  {
   "cell_type": "markdown",
   "metadata": {},
   "source": [
    "## Step 3: Viewing Coexpressed Genes\n",
    "\n",
    "1. Look for the *GCM_Normals.markerdata.gct* file produced by the GeneNeighbors job above. \n",
    "2. Click it and look for *Send to New GenePattern Cell* in the menu, then select *HeatMapViewer*.\n",
    "3. Move the new *HeatMapViewer* cell below these instructions.\n",
    "4. Click the *Run* button."
   ]
  },
  {
   "cell_type": "markdown",
   "metadata": {},
   "source": [
    "## Step 4: Collapse the Expression File\n",
    "\n",
    "1. Insert an analysis cell for the *CollapseDataset* module and move it below this set of instructions.\n",
    "2. Set the following parameters:\n",
    "    1. Send the *GCM_Normals.markerdata.gct* file produced by the *GeneNeighbors* job above to the *dataset.file* parameter.\n",
    "    2. Drag-and-drop *[HU6800.chip](http://software.broadinstitute.org/cancer/software/genepattern/data/gcm/HU6800.chip)* to the *chip.platform* parameter.\n",
    "3. Click the *Run* button."
   ]
  },
  {
   "cell_type": "markdown",
   "metadata": {},
   "source": [
    "## Step 5: Converting an Affy Expression File to a List of Genes\n",
    "\n",
    "1. Look for the *GCM_Normals.markerdata.collapsed.gct* file produced by the *CollapseDataset* job above. \n",
    "2. Click it and look for *Send to New GenePattern Cell* in the menu, then select *ExtractRowNames*.\n",
    "3. Move the new *ExtractRowNames* cell below these instructions.\n",
    "4. Click the *Run* button.\n",
    "5. View the resulting gene list by clicking *GCM_Normals.markerdata.collapsed.row.names.txt* and selecting *Open in New Tab*.\n"
   ]
  },
  {
   "cell_type": "markdown",
   "metadata": {},
   "source": [
    "## Find pathways associated with gene list\n",
    "The following code will search the [mygene.info](http://mygene.info) gene database service and query each result gene to determine which Reactome pathways are associated with it.\n",
    "\n",
    "<div class=\"alert alert-warning\">\n",
    "<p>Executing the cells below will read in a list of genes, similar to the list created earlier in the main Samples and Features exercise. Each gene in this list will then be sent to [mygene.info](http://mygene.info), a gene database service.</p>\n",
    "</div>\n",
    "\n",
    "<div class=\"alert alert-warning\">\n",
    "- Click on the i icon next to the `GCM_Normals.markerdata.collapsed.row.names.txt` file in the last step\n",
    "- Select \"View Code use\"\n",
    "- Select and copy the reference to the output file, for example `job1306740.get_output_files()[1]` (do NOT include the \"this file = \" part)\n",
    "- Paste the result into the code below to replace **INSERT PASTED CODE HERE**\n",
    "- The resulting line should look like `gene_list_filename = job1306740.get_output_files()[1]`\n",
    "- Execute the cell below"
   ]
  },
  {
   "cell_type": "code",
   "execution_count": null,
   "metadata": {
    "collapsed": false
   },
   "outputs": [],
   "source": [
    "gene_list_filename = **INSERT PASTED CODE HERE**\n",
    "gene_list_file = gene_list_filename.open()\n",
    "gene_list = gene_list_file.readlines()"
   ]
  },
  {
   "cell_type": "code",
   "execution_count": null,
   "metadata": {
    "collapsed": false
   },
   "outputs": [],
   "source": [
    "import requests\n",
    "import json\n",
    "\n",
    "for gene in gene_list:\n",
    "    if \" \" in gene:\n",
    "        gene=gene[0:gene.find(\" \")]\n",
    "    gene_results = requests.get(\"https://mygene.info/v2/query?q=\"+gene+\"&fields=pathway.reactome\").content\n",
    "    gene_results_json = json.loads(gene_results)\n",
    "    print(gene)\n",
    "    pathways = list()\n",
    "    for h in range(len(gene_results_json[\"hits\"])):\n",
    "        for k in gene_results_json[\"hits\"][h].keys():\n",
    "            if u'pathway' == k:\n",
    "                for i in range(len(gene_results_json[\"hits\"][h][\"pathway\"][\"reactome\"])):\n",
    "                    pathways.append(gene_results_json[\"hits\"][h][\"pathway\"][\"reactome\"][i][\"name\"])\n",
    "    if (len(pathways) == 0):\n",
    "        pathways.append(\"No pathways found\")\n",
    "    else:\n",
    "        for p in sorted(set(pathways)):\n",
    "            print \"\\t\" + p"
   ]
  }
 ],
 "metadata": {
  "kernelspec": {
   "display_name": "Python 2",
   "language": "python",
   "name": "python2"
  },
  "language_info": {
   "codemirror_mode": {
    "name": "ipython",
    "version": 2
   },
   "file_extension": ".py",
   "mimetype": "text/x-python",
   "name": "python",
   "nbconvert_exporter": "python",
   "pygments_lexer": "ipython2",
   "version": "2.7.11"
  },
  "widgets": {
   "state": {
    "05435a602556408f9bb05c6036263351": {
     "views": [
      {
       "cell_index": 1
      }
     ]
    },
    "d189c673d82540c890cbbe7bdbce64d9": {
     "views": []
    },
    "e4366bf4e4c54787a334f50b35eae575": {
     "views": []
    },
    "e567126f3e394fd295bac1484373a14d": {
     "views": []
    }
   },
   "version": "1.1.2"
  }
 },
 "nbformat": 4,
 "nbformat_minor": 0
}
