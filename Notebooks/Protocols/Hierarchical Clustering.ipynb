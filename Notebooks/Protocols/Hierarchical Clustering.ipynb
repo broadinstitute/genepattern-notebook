{
 "cells": [
  {
   "cell_type": "markdown",
   "metadata": {},
   "source": [
    "# Hierarchical Clustering in GenePattern Notebook\n",
    "\n",
    "Cluster genes and/or samples based on how close they are to one another. The result is a tree structure, referred to as dendrogram.\n",
    "\n",
    "## Before you begin\n",
    "\n",
    "* Sign in to GenePattern by entering your username and password into the form below.\n",
    "* Gene expression data must be in a [GCT or RES file](https://genepattern.broadinstitute.org/gp/pages/protocols/GctResFiles.html).\n",
    "    * Example file: [all_aml_test.gct](ftp://ftp.broadinstitute.org/pub/genepattern/datasets/all_aml/all_aml_test.gct).\n",
    "* Learn more by reading about [file formats](http://www.broadinstitute.org/cancer/software/genepattern/file-formats-guide#GCT).\n"
   ]
  },
  {
   "cell_type": "code",
   "execution_count": 1,
   "metadata": {
    "collapsed": false
   },
   "outputs": [
    {
     "name": "stderr",
     "output_type": "stream",
     "text": [
      "Widget Javascript not detected.  It may not be installed properly. Did you enable the widgetsnbextension? If not, then run \"jupyter nbextension enable --py --sys-prefix widgetsnbextension\"\n"
     ]
    }
   ],
   "source": [
    "# !AUTOEXEC\n",
    "\n",
    "%reload_ext genepattern\n",
    "\n",
    "# Don't have the GenePattern Notebook? It can be installed from PIP: \n",
    "# pip install genepattern-notebook \n",
    "import gp\n",
    "\n",
    "# The following widgets are components of the GenePattern Notebook extension.\n",
    "try:\n",
    "    from genepattern import GPAuthWidget, GPJobWidget, GPTaskWidget\n",
    "except:\n",
    "    def GPAuthWidget(input):\n",
    "        print(\"GP Widget Library not installed. Please visit http://genepattern.org\")\n",
    "    def GPJobWidget(input):\n",
    "        print(\"GP Widget Library not installed. Please visit http://genepattern.org\")\n",
    "    def GPTaskWidget(input):\n",
    "        print(\"GP Widget Library not installed. Please visit http://genepattern.org\")\n",
    "\n",
    "# The gpserver object holds your authentication credentials and is used to\n",
    "# make calls to the GenePattern server through the GenePattern Python library.\n",
    "# Your actual username and password have been removed from the code shown\n",
    "# below for security reasons.\n",
    "gpserver = gp.GPServer(\"https://genepattern.broadinstitute.org/gp\", \"\", \"\")\n",
    "\n",
    "# Return the authentication widget to view it\n",
    "GPAuthWidget(gpserver)"
   ]
  },
  {
   "cell_type": "markdown",
   "metadata": {},
   "source": [
    "## Step 1: PreprocessDataset\n",
    "\n",
    "Preprocess gene expression data to remove platform noise and genes that have little variation. Although researchers generally preprocess data before clustering if doing so removes relevant biological information, skip this step. \n",
    "\n",
    "### Considerations\n",
    "\n",
    "* PreprocessDataset can preprocess the data in one or more ways (in this order):\n",
    "    1. Set threshold and ceiling values. Any value lower/higher than the threshold/ceiling value is reset to the threshold/ceiling value.\n",
    "    2. Convert each expression value to the log base 2 of the value.\n",
    "    3. Remove genes (rows) if a given number of its sample values are less than a given threshold.\n",
    "    4. Remove genes (rows) that do not have a minimum fold change or expression variation.\n",
    "    5. Discretize or normalize the data.\n",
    "* When using ratios to compare gene expression between samples, convert values to log base 2 of the value to bring up- and down-regulated genes to the same scale. For example, ratios of 2 and .5 indicating two-fold changes for up- and down-regulated expression, respectively, are converted to +1 and -1. \n",
    "* If you did not generate the expression data, check whether preprocessing steps have already been taken before running the PreprocessDataset module. \n",
    "* Learn more by reading about the [PreprocessDataset](https://genepattern.broadinstitute.org/gp/getTaskDoc.jsp?name=PreprocessDataset) module."
   ]
  },
  {
   "cell_type": "markdown",
   "metadata": {},
   "source": [
    "<div class=\"alert alert-warning\">\n",
    "<h3 style=\"position: relative; top: -10px\">Instructions</h3>\n",
    "Set the *min.fold.change* parameter to 5. Click the run button on the analysis below.</div>"
   ]
  },
  {
   "cell_type": "code",
   "execution_count": 2,
   "metadata": {
    "collapsed": false
   },
   "outputs": [
    {
     "name": "stderr",
     "output_type": "stream",
     "text": [
      "Widget Javascript not detected.  It may not be installed properly. Did you enable the widgetsnbextension? If not, then run \"jupyter nbextension enable --py --sys-prefix widgetsnbextension\"\n"
     ]
    }
   ],
   "source": [
    "# !AUTOEXEC\n",
    "\n",
    "preprocessdataset_task = gp.GPTask(gpserver, 'urn:lsid:broad.mit.edu:cancer.software.genepattern.module.analysis:00020:5.1')\n",
    "preprocessdataset_job_spec = preprocessdataset_task.make_job_spec()\n",
    "preprocessdataset_job_spec.set_parameter(\"input.filename\", \"ftp://ftp.broadinstitute.org/pub/genepattern/datasets/all_aml/all_aml_test.gct\")\n",
    "preprocessdataset_job_spec.set_parameter(\"threshold.and.filter\", \"1\")\n",
    "preprocessdataset_job_spec.set_parameter(\"floor\", \"20\")\n",
    "preprocessdataset_job_spec.set_parameter(\"ceiling\", \"20000\")\n",
    "preprocessdataset_job_spec.set_parameter(\"min.fold.change\", \"3\")\n",
    "preprocessdataset_job_spec.set_parameter(\"min.delta\", \"100\")\n",
    "preprocessdataset_job_spec.set_parameter(\"num.outliers.to.exclude\", \"0\")\n",
    "preprocessdataset_job_spec.set_parameter(\"row.normalization\", \"0\")\n",
    "preprocessdataset_job_spec.set_parameter(\"row.sampling.rate\", \"1\")\n",
    "preprocessdataset_job_spec.set_parameter(\"threshold.for.removing.rows\", \"\")\n",
    "preprocessdataset_job_spec.set_parameter(\"number.of.columns.above.threshold\", \"\")\n",
    "preprocessdataset_job_spec.set_parameter(\"log2.transform\", \"0\")\n",
    "preprocessdataset_job_spec.set_parameter(\"output.file.format\", \"3\")\n",
    "preprocessdataset_job_spec.set_parameter(\"output.file\", \"<input.filename_basename>.preprocessed\")\n",
    "GPTaskWidget(preprocessdataset_task)"
   ]
  },
  {
   "cell_type": "code",
   "execution_count": 3,
   "metadata": {
    "collapsed": false
   },
   "outputs": [
    {
     "name": "stderr",
     "output_type": "stream",
     "text": [
      "Widget Javascript not detected.  It may not be installed properly. Did you enable the widgetsnbextension? If not, then run \"jupyter nbextension enable --py --sys-prefix widgetsnbextension\"\n"
     ]
    }
   ],
   "source": [
    "# !AUTOEXEC\n",
    "\n",
    "job1307702 = gp.GPJob(gpserver, 1307702)\n",
    "job1307702.job_number = 1307702\n",
    "GPJobWidget(job1307702)"
   ]
  },
  {
   "cell_type": "markdown",
   "metadata": {},
   "source": [
    "## Step 2: HierarchicalClustering\n",
    "\n",
    "Run hierarchical clustering on genes and/or samples to create dendrograms for the clustered genes (*.gtr) and/or clustered samples (*.atr), as well as a file (*.cdt) that contains the original gene expression data ordered to reflect the clustering.\n",
    "\n",
    "### Considerations\n",
    "* Best practice is to normalize (row/column normalize parameters) and center (row/column center parameters) the data being clustered. \n",
    "* The CDT output file must be converted to a GCT file before it can be used as an input file for another GenePattern module (other than HierachicalClusteringViewer). For instructions on converting a CDT file to a GCT file, see [Creating Input Files](http://www.broadinstitute.org/cancer/software/genepattern/file-formats-guide#creating-input-files).\n",
    "* Learn more by reading about the [HierarchicalClustering](https://genepattern.broadinstitute.org/gp/getTaskDoc.jsp?name=HierarchicalClustering) module."
   ]
  },
  {
   "cell_type": "markdown",
   "metadata": {},
   "source": [
    "<div class=\"alert alert-warning\">\n",
    "<h3 style=\"position: relative; top: -10px\">Instructions</h3>\n",
    "After the PreprocessDataset job above finishes running, send the GCT result of that job to HierarchicalClustering below. To do this either drag-and-drop the link for the file above to the *input.filename* input below, or click the link for the file above and select *Send to an Existing GenePattern Cell > HierarchicalClustering* in the menu that appears.\n",
    "\n",
    "Once this is done, click *Run* for the analysis below.\n",
    "</div>"
   ]
  },
  {
   "cell_type": "code",
   "execution_count": 4,
   "metadata": {
    "collapsed": false
   },
   "outputs": [
    {
     "name": "stderr",
     "output_type": "stream",
     "text": [
      "Widget Javascript not detected.  It may not be installed properly. Did you enable the widgetsnbextension? If not, then run \"jupyter nbextension enable --py --sys-prefix widgetsnbextension\"\n"
     ]
    }
   ],
   "source": [
    "# !AUTOEXEC\n",
    "\n",
    "hierarchicalclustering_task = gp.GPTask(gpserver, 'urn:lsid:broad.mit.edu:cancer.software.genepattern.module.analysis:00009:6')\n",
    "hierarchicalclustering_job_spec = hierarchicalclustering_task.make_job_spec()\n",
    "hierarchicalclustering_job_spec.set_parameter(\"input.filename\", \"https://genepattern.broadinstitute.org/gp/jobResults/1307702/all_aml_test.preprocessed.gct\")\n",
    "hierarchicalclustering_job_spec.set_parameter(\"column.distance.measure\", \"2\")\n",
    "hierarchicalclustering_job_spec.set_parameter(\"row.distance.measure\", \"0\")\n",
    "hierarchicalclustering_job_spec.set_parameter(\"clustering.method\", \"a\")\n",
    "hierarchicalclustering_job_spec.set_parameter(\"log.transform\", \"\")\n",
    "hierarchicalclustering_job_spec.set_parameter(\"row.center\", \"\")\n",
    "hierarchicalclustering_job_spec.set_parameter(\"row.normalize\", \"\")\n",
    "hierarchicalclustering_job_spec.set_parameter(\"column.center\", \"\")\n",
    "hierarchicalclustering_job_spec.set_parameter(\"column.normalize\", \"\")\n",
    "hierarchicalclustering_job_spec.set_parameter(\"output.base.name\", \"<input.filename_basename>\")\n",
    "GPTaskWidget(hierarchicalclustering_task)"
   ]
  },
  {
   "cell_type": "code",
   "execution_count": 5,
   "metadata": {
    "collapsed": false
   },
   "outputs": [
    {
     "name": "stderr",
     "output_type": "stream",
     "text": [
      "Widget Javascript not detected.  It may not be installed properly. Did you enable the widgetsnbextension? If not, then run \"jupyter nbextension enable --py --sys-prefix widgetsnbextension\"\n"
     ]
    }
   ],
   "source": [
    "# !AUTOEXEC\n",
    "\n",
    "job1307710 = gp.GPJob(gpserver, 1307710)\n",
    "job1307710.job_number = 1307710\n",
    "GPJobWidget(job1307710)"
   ]
  },
  {
   "cell_type": "markdown",
   "metadata": {},
   "source": [
    "## Step 3: HierarchicalClusteringViewer\n",
    "\n",
    "Display a heat map of the clustered gene expression data, with dendrograms showing how the genes and/or samples were clustered.\n",
    "\n",
    "### Considerations\n",
    "\n",
    "* Select File > Save Image to save the heat map and dendrograms to an image file. Supported formats include bmp, eps, jpeg, png, and tiff. \n",
    "* Learn more by reading about the [HierarchicalClusteringViewer](https://genepattern.broadinstitute.org/gp/getTaskDoc.jsp?name=HierarchicalClusteringViewer) module."
   ]
  },
  {
   "cell_type": "markdown",
   "metadata": {},
   "source": [
    "<div class=\"alert alert-warning\">\n",
    "<h3 style=\"position: relative; top: -10px\">Instructions</h3>\n",
    "After the HierarchicalClustering job above finishes running, send the CDT and ATR results of that job to HierarchicalClustering below. You will need to scroll back to the HierarchicalClustering job after sending the first file. The GTR file input will be left blank.\n",
    "\n",
    "Once this is done, click *Run* for the analysis below.\n",
    "</div>"
   ]
  },
  {
   "cell_type": "code",
   "execution_count": 6,
   "metadata": {
    "collapsed": false
   },
   "outputs": [
    {
     "name": "stderr",
     "output_type": "stream",
     "text": [
      "Widget Javascript not detected.  It may not be installed properly. Did you enable the widgetsnbextension? If not, then run \"jupyter nbextension enable --py --sys-prefix widgetsnbextension\"\n"
     ]
    }
   ],
   "source": [
    "# !AUTOEXEC\n",
    "\n",
    "hierarchicalclusteringviewer_task = gp.GPTask(gpserver, 'urn:lsid:broad.mit.edu:cancer.software.genepattern.module.visualizer:00031:11.3')\n",
    "hierarchicalclusteringviewer_job_spec = hierarchicalclusteringviewer_task.make_job_spec()\n",
    "hierarchicalclusteringviewer_job_spec.set_parameter(\"cdt.file\", \"https://genepattern.broadinstitute.org/gp/jobResults/1307710/all_aml_test.preprocessed.cdt\")\n",
    "hierarchicalclusteringviewer_job_spec.set_parameter(\"gtr.file\", \"\")\n",
    "hierarchicalclusteringviewer_job_spec.set_parameter(\"atr.file\", \"https://genepattern.broadinstitute.org/gp/jobResults/1307710/all_aml_test.preprocessed.atr\")\n",
    "GPTaskWidget(hierarchicalclusteringviewer_task)"
   ]
  },
  {
   "cell_type": "code",
   "execution_count": 7,
   "metadata": {
    "collapsed": false
   },
   "outputs": [
    {
     "name": "stderr",
     "output_type": "stream",
     "text": [
      "Widget Javascript not detected.  It may not be installed properly. Did you enable the widgetsnbextension? If not, then run \"jupyter nbextension enable --py --sys-prefix widgetsnbextension\"\n"
     ]
    }
   ],
   "source": [
    "# !AUTOEXEC\n",
    "\n",
    "job1307734 = gp.GPJob(gpserver, 1307734)\n",
    "job1307734.job_number = 1307734\n",
    "GPJobWidget(job1307734)"
   ]
  }
 ],
 "metadata": {
  "kernelspec": {
   "display_name": "Python 2",
   "language": "python",
   "name": "python2"
  },
  "language_info": {
   "codemirror_mode": {
    "name": "ipython",
    "version": 2
   },
   "file_extension": ".py",
   "mimetype": "text/x-python",
   "name": "python",
   "nbconvert_exporter": "python",
   "pygments_lexer": "ipython2",
   "version": "2.7.11"
  },
  "widgets": {
   "state": {
    "0cfb12a36ff8427eb03b8a6e98996d21": {
     "views": []
    },
    "0e0624d2adfc4f0c9087043886b179ca": {
     "views": []
    },
    "0f0c82f552ab43b184cd6d6f90b104f5": {
     "views": []
    },
    "1240dbc60c1c4a2483cdc09faf1fb876": {
     "views": [
      {
       "cell_index": 4
      }
     ]
    },
    "191db334326f46bb8908db9c0f5653ce": {
     "views": []
    },
    "2d62837b7d9643739c2a05fc4093eb23": {
     "views": [
      {
       "cell_index": 8
      }
     ]
    },
    "5a5e2e7ba50f4a4ba89fb66fc925f074": {
     "views": [
      {
       "cell_index": 1
      }
     ]
    },
    "8627cb22a6044e6a9d260d63e1189186": {
     "views": [
      {
       "cell_index": 5
      }
     ]
    },
    "978b2688abff4eea87fb0d98c2c20f7a": {
     "views": [
      {
       "cell_index": 12
      }
     ]
    },
    "9f0e6b378ce146fdbd2d034b3763bf0b": {
     "views": [
      {
       "cell_index": 13
      }
     ]
    },
    "a596eabf767e47baac721a50ca51a9b3": {
     "views": [
      {
       "cell_index": 9
      }
     ]
    },
    "b1d8c773e9c24cf6a1558e792c8ef616": {
     "views": []
    },
    "d3429afbe6f7495ab4d2869cde3afc2e": {
     "views": []
    },
    "d4cac3857c5a4391a4c24e28c5611b86": {
     "views": []
    }
   },
   "version": "1.1.2"
  }
 },
 "nbformat": 4,
 "nbformat_minor": 0
}
