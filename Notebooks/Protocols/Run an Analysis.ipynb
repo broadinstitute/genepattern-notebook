{
 "cells": [
  {
   "cell_type": "markdown",
   "metadata": {},
   "source": [
    "# Run an Analysis in GenePattern Notebook\n",
    "\n",
    "Each GenePattern Notebook protocol helps you run an analysis by guiding you from one module to the next. In this protocol, you preprocess gene expression data and use a heat map to visualize the results.\n",
    "\n",
    "## Before You Begin\n",
    "\n",
    "* Sign in to GenePattern by entering your username and password into the form below.\n",
    "* Gene expression data must be in a [GCT or RES](http://genepattern.broadinstitute.org/gp/pages/protocols/GctResFiles.html) file.\n",
    "* Example file: [all_aml_test.gct](ftp://ftp.broadinstitute.org/pub/genepattern/datasets/all_aml/all_aml_test.gct).\n",
    "* Learn more by reading about [file formats](http://www.broadinstitute.org/cancer/software/genepattern/file-formats-guide#GCT)."
   ]
  },
  {
   "cell_type": "code",
   "execution_count": 2,
   "metadata": {
    "collapsed": false
   },
   "outputs": [
    {
     "data": {
      "application/javascript": [
       "/*\n",
       " * Load required CSS files\n",
       " */\n",
       "\n",
       "$('head')\n",
       "    // Import styles used by GenePattern navigation\n",
       "    .append(\n",
       "        $('<link rel=\"stylesheet\" type=\"text/css\" />')\n",
       "            .attr(\"rel\", \"stylesheet\")\n",
       "            .attr(\"type\", \"text/css\")\n",
       "            .attr('href', '/static/genepattern/gp-navigation.css')\n",
       "    )\n",
       "    // Import styles used by GenePattern widgets\n",
       "    .append(\n",
       "        $('<link rel=\"stylesheet\" type=\"text/css\" />')\n",
       "            .attr(\"rel\", \"stylesheet\")\n",
       "            .attr(\"type\", \"text/css\")\n",
       "            .attr('href', '/static/genepattern/gp-widget.css')\n",
       "    );\n",
       "\n",
       "/*\n",
       " * Load the required JavaScript files and init\n",
       " */\n",
       "\n",
       "requirejs([\n",
       "    \"jquery\",\n",
       "    \"/static/genepattern/gp.js\",\n",
       "    \"/static/genepattern/navigation.js\",\n",
       "    \"/static/genepattern/auth-widget.js\",\n",
       "    \"/static/genepattern/job-widget.js\",\n",
       "    \"/static/genepattern/task-widget.js\"], function(util) {\n",
       "\n",
       "    // Initiate the GenePattern Notebook extension\n",
       "    // If reloading a notebook, display with the full event model\n",
       "    $([IPython.events]).on('kernel_ready.Kernel kernel_created.Session notebook_loaded.Notebook', GenePattern.notebook.init.notebook_init_wrapper);\n",
       "\n",
       "    // Otherwise, if not initialized after two seconds, manually init\n",
       "    setTimeout(function() {\n",
       "        if (!GenePattern.notebook.init.launch_init.done_init  && IPython.notebook.kernel) {\n",
       "            GenePattern.notebook.init.notebook_init_wrapper();\n",
       "        }\n",
       "    }, 2000);\n",
       "});"
      ],
      "text/plain": [
       "<IPython.core.display.Javascript object>"
      ]
     },
     "metadata": {},
     "output_type": "display_data"
    }
   ],
   "source": [
    "# !AUTOEXEC\n",
    "\n",
    "%reload_ext gp\n",
    "%reload_ext genepattern\n",
    "\n",
    "# Don't have the GenePattern library? It can be downloaded from: \n",
    "# http://genepattern.broadinstitute.org/gp/downloads/gp-python.zip \n",
    "# or installed through PIP: pip install genepattern-python \n",
    "import gp\n",
    "\n",
    "# The following widgets are components of the GenePattern Notebook extension.\n",
    "try:\n",
    "    from genepattern import GPAuthWidget, GPJobWidget, GPTaskWidget\n",
    "except:\n",
    "    def GPAuthWidget(input):\n",
    "        print(\"GP Widget Library not installed. Please visit http://genepattern.org\")\n",
    "    def GPJobWidget(input):\n",
    "        print(\"GP Widget Library not installed. Please visit http://genepattern.org\")\n",
    "    def GPTaskWidget(input):\n",
    "        print(\"GP Widget Library not installed. Please visit http://genepattern.org\")\n",
    "\n",
    "# The gpserver object holds your authentication credentials and is used to\n",
    "# make calls to the GenePattern server through the GenePattern Python library.\n",
    "# Your actual username and password have been removed from the code shown\n",
    "# below for security reasons.\n",
    "gpserver = gp.GPServer(\"http://genepattern.broadinstitute.org/gp\", \"\", \"\")\n",
    "\n",
    "# Return the authentication widget to view it\n",
    "GPAuthWidget(gpserver)"
   ]
  },
  {
   "cell_type": "markdown",
   "metadata": {},
   "source": [
    "## Step 1: PreprocessDataset\n",
    "\n",
    "Preprocess gene expression data to remove platform noise and genes that have little variation. You can test this step by starting a job using parameters entered into the form below.\n",
    "\n",
    "### Considerations\n",
    "\n",
    "* PreprocessDataset can preprocess the data in one or more ways (in this order):\n",
    "    1. Set threshold and ceiling values. Any value lower/higher than the threshold/ceiling value is reset to the threshold/ceiling value.\n",
    "    2. Convert each expression value to the log base 2 of the value.\n",
    "    3. Remove genes (rows) if a given number of its sample values are less than a given threshold.\n",
    "    4. Remove genes (rows) that do not have a minimum fold change or expression variation.\n",
    "    5. Discretize or normalize the data.\n",
    "* If you did not generate the expression data, check whether preprocessing steps have already been taken before running the PreprocessDataset module.\n",
    "* Learn more by reading about the [PreprocessDataset](http://genepattern.broadinstitute.org/gp/getTaskDoc.jsp?name=PreprocessDataset) module.\n"
   ]
  },
  {
   "cell_type": "code",
   "execution_count": 3,
   "metadata": {
    "collapsed": true
   },
   "outputs": [],
   "source": [
    "# !AUTOEXEC\n",
    "\n",
    "preprocessdataset_task = gp.GPTask(gpserver, 'urn:lsid:broad.mit.edu:cancer.software.genepattern.module.analysis:00020:5')\n",
    "preprocessdataset_job_spec = preprocessdataset_task.make_job_spec()\n",
    "preprocessdataset_job_spec.set_parameter(\"input.filename\", \"ftp://ftp.broadinstitute.org/pub/genepattern/datasets/all_aml/all_aml_test.gct\")\n",
    "preprocessdataset_job_spec.set_parameter(\"threshold.and.filter\", \"1\")\n",
    "preprocessdataset_job_spec.set_parameter(\"floor\", \"20\")\n",
    "preprocessdataset_job_spec.set_parameter(\"ceiling\", \"20000\")\n",
    "preprocessdataset_job_spec.set_parameter(\"min.fold.change\", \"3\")\n",
    "preprocessdataset_job_spec.set_parameter(\"min.delta\", \"100\")\n",
    "preprocessdataset_job_spec.set_parameter(\"num.outliers.to.exclude\", \"0\")\n",
    "preprocessdataset_job_spec.set_parameter(\"row.normalization\", \"0\")\n",
    "preprocessdataset_job_spec.set_parameter(\"row.sampling.rate\", \"1\")\n",
    "preprocessdataset_job_spec.set_parameter(\"threshold.for.removing.rows\", \"\")\n",
    "preprocessdataset_job_spec.set_parameter(\"number.of.columns.above.threshold\", \"\")\n",
    "preprocessdataset_job_spec.set_parameter(\"log2.transform\", \"0\")\n",
    "preprocessdataset_job_spec.set_parameter(\"output.file.format\", \"3\")\n",
    "preprocessdataset_job_spec.set_parameter(\"output.file\", \"<input.filename_basename>.preprocessed\")\n",
    "GPTaskWidget(preprocessdataset_task)"
   ]
  },
  {
   "cell_type": "markdown",
   "metadata": {},
   "source": [
    "## Step 2: HeatMapImage\n",
    "\n",
    "Display a heat map of the preprocessed gene expression data. \n",
    "\n",
    "Once the above job is complete you can send the resulting *all_aml_test.preprocessed.gct* file to the form below by either dragging the link into the *input.dataset* parameter, or copying and pasting the link to that parameter. Once this is done, launch the job below by clicking the \"Run\" button.\n",
    "\n",
    "After the HeatMapImage job is complete, the resulting image will appear as a link, which can be opened in your web browser.\n",
    "\n",
    "### Considerations\n",
    "\n",
    "* The HeatMapViewer displays gene expression data as a heat map, which makes it easier to see patterns in the numeric data. Gene names are row labels and sample names are column labels.\n",
    "* Learn more by reading about the [HeatMapImage](http://genepattern.broadinstitute.org/gp/getTaskDoc.jsp?name=HeatMapImage) module.\n"
   ]
  },
  {
   "cell_type": "code",
   "execution_count": 4,
   "metadata": {
    "collapsed": true
   },
   "outputs": [],
   "source": [
    "# !AUTOEXEC\n",
    "\n",
    "heatmapimage_task = gp.GPTask(gpserver, 'urn:lsid:broad.mit.edu:cancer.software.genepattern.module.analysis:00032:6')\n",
    "heatmapimage_job_spec = heatmapimage_task.make_job_spec()\n",
    "heatmapimage_job_spec.set_parameter(\"input.dataset\", \"\")\n",
    "heatmapimage_job_spec.set_parameter(\"output\", \"<input.dataset_basename>\")\n",
    "heatmapimage_job_spec.set_parameter(\"output.format\", \"jpeg\")\n",
    "heatmapimage_job_spec.set_parameter(\"column.size\", \"8\")\n",
    "heatmapimage_job_spec.set_parameter(\"row.size\", \"8\")\n",
    "heatmapimage_job_spec.set_parameter(\"show.grid\", \"yes\")\n",
    "heatmapimage_job_spec.set_parameter(\"grid.color\", \"black\")\n",
    "heatmapimage_job_spec.set_parameter(\"show.row.descriptions\", \"no\")\n",
    "heatmapimage_job_spec.set_parameter(\"show.row.names\", \"yes\")\n",
    "heatmapimage_job_spec.set_parameter(\"rows.to.highlight\", \"\")\n",
    "heatmapimage_job_spec.set_parameter(\"row.highlight.color\", \"\")\n",
    "heatmapimage_job_spec.set_parameter(\"color.scheme\", \"row normalized\")\n",
    "heatmapimage_job_spec.set_parameter(\"color.palette\", \"\")\n",
    "heatmapimage_job_spec.set_parameter(\"use.color.gradient\", \"no\")\n",
    "GPTaskWidget(heatmapimage_task)"
   ]
  }
 ],
 "metadata": {
  "kernelspec": {
   "display_name": "Python 2",
   "language": "python",
   "name": "python2"
  },
  "language_info": {
   "codemirror_mode": {
    "name": "ipython",
    "version": 2
   },
   "file_extension": ".py",
   "mimetype": "text/x-python",
   "name": "python",
   "nbconvert_exporter": "python",
   "pygments_lexer": "ipython2",
   "version": "2.7.9"
  }
 },
 "nbformat": 4,
 "nbformat_minor": 0
}
