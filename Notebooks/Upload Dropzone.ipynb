{
 "cells": [
  {
   "cell_type": "code",
   "execution_count": 40,
   "metadata": {
    "collapsed": false
   },
   "outputs": [
    {
     "data": {
      "application/javascript": [
       "/**\n",
       " * Load required CSS files\n",
       " *\n",
       " * @author Thorin Tabor\n",
       " * @requires - jQuery, navigation.js\n",
       " *\n",
       " * Copyright 2015 The Broad Institute, Inc.\n",
       " *\n",
       " * SOFTWARE COPYRIGHT NOTICE\n",
       " * This software and its documentation are the copyright of the Broad Institute, Inc. All rights are reserved.\n",
       " * This software is supplied without any warranty or guaranteed support whatsoever. The Broad Institute is not\n",
       " * responsible for its use, misuse, or functionality.\n",
       " */\n",
       "\n",
       "// Add shim to support Jupyter 3.x and 4.x\n",
       "var Jupyter = Jupyter || IPython || {};\n",
       "\n",
       "// Add file path shim for Jupyter 3/4\n",
       "var STATIC_PATH = location.origin;\n",
       "if (Jupyter.version >= \"4.0.0\") {\n",
       "    STATIC_PATH += Jupyter.contents.base_url + \"custom/genepattern/\";\n",
       "}\n",
       "else STATIC_PATH += \"/static/genepattern/\";\n",
       "\n",
       "$('head')\n",
       "    // Import styles used by GenePattern navigation\n",
       "    .append(\n",
       "        $('<link rel=\"stylesheet\" type=\"text/css\" />')\n",
       "            .attr(\"rel\", \"stylesheet\")\n",
       "            .attr(\"type\", \"text/css\")\n",
       "            .attr('href', STATIC_PATH + 'gp-navigation.css')\n",
       "    )\n",
       "    // Import styles used by GenePattern widgets\n",
       "    .append(\n",
       "        $('<link rel=\"stylesheet\" type=\"text/css\" />')\n",
       "            .attr(\"rel\", \"stylesheet\")\n",
       "            .attr(\"type\", \"text/css\")\n",
       "            .attr('href', STATIC_PATH + 'gp-widget.css')\n",
       "    );\n",
       "\n",
       "/*\n",
       " * Load the required JavaScript files and init\n",
       " */\n",
       "\n",
       "requirejs([\n",
       "    \"jquery\",\n",
       "    STATIC_PATH + \"gp.js\",\n",
       "    STATIC_PATH + \"navigation.js\",\n",
       "    STATIC_PATH + \"auth-widget.js\",\n",
       "    STATIC_PATH + \"job-widget.js\",\n",
       "    STATIC_PATH + \"task-widget.js\"], function() {\n",
       "\n",
       "    // Initiate the GenePattern Notebook extension\n",
       "    // If reloading a notebook, display with the full event model\n",
       "    $([Jupyter.events]).on('kernel_ready.Kernel kernel_created.Session notebook_loaded.Notebook', GenePattern.notebook.init.notebook_init_wrapper);\n",
       "\n",
       "    // Otherwise, if not initialized after two seconds, manually init\n",
       "    setTimeout(function() {\n",
       "        if (!GenePattern.notebook.init.launch_init.done_init  && Jupyter.notebook.kernel) {\n",
       "            GenePattern.notebook.init.notebook_init_wrapper();\n",
       "        }\n",
       "    }, 2000);\n",
       "});"
      ],
      "text/plain": [
       "<IPython.core.display.Javascript object>"
      ]
     },
     "metadata": {},
     "output_type": "display_data"
    }
   ],
   "source": [
    "%reload_ext genepattern"
   ]
  },
  {
   "cell_type": "code",
   "execution_count": 1,
   "metadata": {
    "collapsed": false
   },
   "outputs": [
    {
     "data": {
      "application/javascript": [
       "\n",
       "var uploadButton = $('<input type=\"file\" multiple=\"multiple\" class=\"fileinput\" name=\"datafile\" title=\"Click to browse for a file to upload.\">')\n",
       "\n",
       "element.append(uploadButton)"
      ],
      "text/plain": [
       "<IPython.core.display.Javascript object>"
      ]
     },
     "metadata": {},
     "output_type": "display_data"
    }
   ],
   "source": [
    "%%javascript\n",
    "\n",
    "var uploadButton = $('<input type=\"file\" multiple=\"multiple\" class=\"fileinput\" name=\"datafile\" title=\"Click to browse for a file to upload.\">')\n",
    "\n",
    "element.append(uploadButton)"
   ]
  },
  {
   "cell_type": "code",
   "execution_count": 2,
   "metadata": {
    "collapsed": false
   },
   "outputs": [
    {
     "name": "stderr",
     "output_type": "stream",
     "text": [
      "/Library/Python/2.7/site-packages/IPython/html.py:14: ShimWarning: The `IPython.html` package has been deprecated. You should import from `notebook` instead. `IPython.html.widgets` has moved to `ipywidgets`.\n",
      "  \"`IPython.html.widgets` has moved to `ipywidgets`.\", ShimWarning)\n",
      "/Library/Python/2.7/site-packages/IPython/utils/traitlets.py:5: UserWarning: IPython.utils.traitlets has moved to a top-level traitlets package.\n",
      "  warn(\"IPython.utils.traitlets has moved to a top-level traitlets package.\")\n",
      "/Library/Python/2.7/site-packages/ipykernel/__main__.py:7: DeprecationWarning: metadata {'sync': True} was set from the constructor.  Metadata should be set using the .tag() method, e.g., Int().tag(key1='value1', key2='value2')\n",
      "/Library/Python/2.7/site-packages/ipykernel/__main__.py:8: DeprecationWarning: metadata {'sync': True} was set from the constructor.  Metadata should be set using the .tag() method, e.g., Int().tag(key1='value1', key2='value2')\n",
      "/Library/Python/2.7/site-packages/ipykernel/__main__.py:9: DeprecationWarning: metadata {'sync': True} was set from the constructor.  Metadata should be set using the .tag() method, e.g., Int().tag(key1='value1', key2='value2')\n"
     ]
    }
   ],
   "source": [
    "import base64\n",
    "from __future__ import print_function # py 2.7 compat.\n",
    "from IPython.html import widgets # Widget definitions.\n",
    "from IPython.utils.traitlets import Unicode # Traitlet needed to add synced attributes to the widget.\n",
    "\n",
    "class FileWidget(widgets.DOMWidget):\n",
    "    _view_name = Unicode('FilePickerView', sync=True)\n",
    "    value = Unicode(sync=True)\n",
    "    filename = Unicode(sync=True)\n",
    "    \n",
    "    def __init__(self, **kwargs):\n",
    "        \"\"\"Constructor\"\"\"\n",
    "        widgets.DOMWidget.__init__(self, **kwargs) # Call the base.\n",
    "        \n",
    "        # Allow the user to register error callbacks with the following signatures:\n",
    "        #    callback()\n",
    "        #    callback(sender)\n",
    "        self.errors = widgets.CallbackDispatcher(accepted_nargs=[0, 1])\n",
    "        \n",
    "        # Listen for custom msgs\n",
    "        self.on_msg(self._handle_custom_msg)\n",
    "\n",
    "    def _handle_custom_msg(self, content):\n",
    "        \"\"\"Handle a msg from the front-end.\n",
    "\n",
    "        Parameters\n",
    "        ----------\n",
    "        content: dict\n",
    "            Content of the msg.\"\"\"\n",
    "        if 'event' in content and content['event'] == 'error':\n",
    "            self.errors()\n",
    "            self.errors(self)"
   ]
  },
  {
   "cell_type": "code",
   "execution_count": 35,
   "metadata": {
    "collapsed": false
   },
   "outputs": [
    {
     "data": {
      "application/javascript": [
       "\n",
       "require([\"widgets/js/widget\"], function(widget){\n",
       "    \n",
       "    var DOMWidgetView = widget.DOMWidgetView;\n",
       "    var WidgetManager = Jupyter.WidgetManager;\n",
       "\n",
       "    var FilePickerView = DOMWidgetView.extend({\n",
       "        render: function(){\n",
       "            // Render the view.\n",
       "            this.setElement($('<input />')\n",
       "                .attr('type', 'file'));\n",
       "        },\n",
       "        \n",
       "        events: {\n",
       "            // List of events and their handlers.\n",
       "            'change': 'handle_file_change',\n",
       "        },\n",
       "       \n",
       "        handle_file_change: function(evt) { \n",
       "            // Handle when the user has changed the file.\n",
       "            \n",
       "            // Retrieve the first (and only!) File from the FileList object\n",
       "            var file = evt.target.files[0];\n",
       "            if (file) {\n",
       "\n",
       "                // Read the file's textual content and set value to those contents.\n",
       "                var that = this;\n",
       "                var file_reader = new FileReader();\n",
       "                file_reader.onload = function(e) {\n",
       "                    that.model.set('value', e.target.result);\n",
       "                    that.touch();\n",
       "                }\n",
       "                file_reader.readAsText(file);\n",
       "            } else {\n",
       "\n",
       "                // The file couldn't be opened.  Send an error msg to the\n",
       "                // back-end.\n",
       "                this.send({ 'event': 'error' });\n",
       "            }\n",
       "\n",
       "            // Set the filename of the file.\n",
       "            this.model.set('filename', file.name);\n",
       "            this.touch();\n",
       "        },\n",
       "    });\n",
       "        \n",
       "    // Register the DatePickerView with the widget manager.\n",
       "    WidgetManager.register_widget_view('FilePickerView', FilePickerView);\n",
       "});"
      ],
      "text/plain": [
       "<IPython.core.display.Javascript object>"
      ]
     },
     "metadata": {},
     "output_type": "display_data"
    }
   ],
   "source": [
    "%%javascript\n",
    "\n",
    "require([\"widgets/js/widget\"], function(widget){\n",
    "    \n",
    "    var DOMWidgetView = widget.DOMWidgetView;\n",
    "    var WidgetManager = Jupyter.WidgetManager;\n",
    "\n",
    "    var FilePickerView = DOMWidgetView.extend({\n",
    "        render: function(){\n",
    "            // Render the view.\n",
    "            this.setElement($('<input />')\n",
    "                .attr('type', 'file'));\n",
    "        },\n",
    "        \n",
    "        events: {\n",
    "            // List of events and their handlers.\n",
    "            'change': 'handle_file_change',\n",
    "        },\n",
    "       \n",
    "        handle_file_change: function(evt) { \n",
    "            // Handle when the user has changed the file.\n",
    "            \n",
    "            // Retrieve the first (and only!) File from the FileList object\n",
    "            var file = evt.target.files[0];\n",
    "            if (file) {\n",
    "\n",
    "                // Read the file's textual content and set value to those contents.\n",
    "                var that = this;\n",
    "                var file_reader = new FileReader();\n",
    "                file_reader.onload = function(e) {\n",
    "                    that.model.set('value', e.target.result);\n",
    "                    that.touch();\n",
    "                }\n",
    "                file_reader.readAsText(file);\n",
    "            } else {\n",
    "\n",
    "                // The file couldn't be opened.  Send an error msg to the\n",
    "                // back-end.\n",
    "                this.send({ 'event': 'error' });\n",
    "            }\n",
    "\n",
    "            // Set the filename of the file.\n",
    "            this.model.set('filename', file.name);\n",
    "            this.touch();\n",
    "        },\n",
    "    });\n",
    "        \n",
    "    // Register the DatePickerView with the widget manager.\n",
    "    WidgetManager.register_widget_view('FilePickerView', FilePickerView);\n",
    "});"
   ]
  },
  {
   "cell_type": "code",
   "execution_count": 3,
   "metadata": {
    "collapsed": false
   },
   "outputs": [
    {
     "name": "stderr",
     "output_type": "stream",
     "text": [
      "/Library/Python/2.7/site-packages/ipykernel/__main__.py:6: DeprecationWarning: on_trait_change is deprecated: use observe instead\n",
      "/Library/Python/2.7/site-packages/ipykernel/__main__.py:15: DeprecationWarning: on_trait_change is deprecated: use observe instead\n"
     ]
    }
   ],
   "source": [
    "file_widget = FileWidget()\n",
    "\n",
    "# Register an event to echo the filename when it has been changed.\n",
    "def file_loading():\n",
    "    print(\"Loading %s\" % file_widget.filename)\n",
    "file_widget.on_trait_change(file_loading, 'filename')\n",
    "\n",
    "# Register an event to echo the filename and contents when a file\n",
    "# has been uploaded.\n",
    "def file_loaded():\n",
    "    print(\"Loaded, file contents: %s\" % file_widget.value)\n",
    "    text_file = open(file_widget.filename, \"w\")\n",
    "    text_file.write(file_widget.value)\n",
    "    text_file.close()\n",
    "file_widget.on_trait_change(file_loaded, 'value')\n",
    "\n",
    "# Register an event to print an error message when a file could not\n",
    "# be opened.  Since the error messages are not handled through\n",
    "# traitlets but instead handled through custom msgs, the registration\n",
    "# of the handler is different than the two examples above.  Instead\n",
    "# the API provided by the CallbackDispatcher must be used.\n",
    "def file_failed():\n",
    "    print(\"Could not load file contents of %s\" % file_widget.filename)\n",
    "file_widget.errors.register_callback(file_failed)\n",
    "\n",
    "file_widget"
   ]
  },
  {
   "cell_type": "code",
   "execution_count": null,
   "metadata": {
    "collapsed": true
   },
   "outputs": [],
   "source": []
  }
 ],
 "metadata": {
  "kernelspec": {
   "display_name": "Python 2",
   "language": "python",
   "name": "python2"
  },
  "language_info": {
   "codemirror_mode": {
    "name": "ipython",
    "version": 2
   },
   "file_extension": ".py",
   "mimetype": "text/x-python",
   "name": "python",
   "nbconvert_exporter": "python",
   "pygments_lexer": "ipython2",
   "version": "2.7.5"
  }
 },
 "nbformat": 4,
 "nbformat_minor": 0
}
