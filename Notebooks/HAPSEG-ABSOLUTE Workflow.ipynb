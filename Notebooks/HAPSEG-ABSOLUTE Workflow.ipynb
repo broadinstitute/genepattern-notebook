{
 "cells": [
  {
   "cell_type": "code",
   "execution_count": 23,
   "metadata": {
    "collapsed": false
   },
   "outputs": [
    {
     "name": "stdout",
     "output_type": "stream",
     "text": [
      "GenePattern IPython Module Loaded!\n"
     ]
    }
   ],
   "source": [
    "# !AUTOEXEC\n",
    "\n",
    "%reload_ext gp\n",
    "%reload_ext gp_widgets\n",
    "%reload_ext gp_magics\n",
    "\n",
    "# Don't have the GenePattern library? It can be downloaded from: \n",
    "# http://genepattern.broadinstitute.org/gp/downloads/gp-python.zip \n",
    "# or installed through PIP: pip install genepattern-python \n",
    "import gp\n",
    "\n",
    "# The following widgets are components of the GenePattern Notebook extension.\n",
    "try:\n",
    "    from gp_widgets import GPAuthWidget, GPJobWidget, GPTaskWidget\n",
    "except:\n",
    "    def GPAuthWidget(input):\n",
    "        print(\"GP Widget Library not installed. Please visit http://genepattern.org\")\n",
    "    def GPJobWidget(input):\n",
    "        print(\"GP Widget Library not installed. Please visit http://genepattern.org\")\n",
    "    def GPTaskWidget(input):\n",
    "        print(\"GP Widget Library not installed. Please visit http://genepattern.org\")\n",
    "\n",
    "# The gpserver object holds your authentication credentials and is used to\n",
    "# make calls to the GenePattern server through the GenePattern Python library.\n",
    "# Your actual username and password have been removed from the code shown\n",
    "# below for security reasons.\n",
    "gpserver = gp.GPServer(\"http://genepatternbeta.broadinstitute.org/gp\", \"\", \"\")\n",
    "\n",
    "# Return the authentication widget to view it\n",
    "GPAuthWidget(gpserver)"
   ]
  },
  {
   "cell_type": "markdown",
   "metadata": {},
   "source": [
    "# HAPSEG Jobs\n",
    "\n",
    "We want to represent [this workflow](http://www.broadinstitute.org/cancer/software/genepattern/using-hapseg-and-absolute-in-genepattern) in the GenePattern Notebook.\n",
    "\n",
    "1. We will launch 20 HAPSEG jobs, effectively batching over the snp.file parameter, and providing the base name of that file to array.name.\n",
    "2. We will batch over 20 ABSOLUTE jobs, taking in the RData from the HAPSEG jobs.\n",
    "3. We will then batch the RData of the ABSOLUTE jobs into ABSOLUTE.summerize\n",
    "4. This will provide us with a tab-seperated table of data we want to view in the notebook, and which the user will manually review.\n",
    "5. Finally we will pipe this into ABSOLUTE.review\n"
   ]
  },
  {
   "cell_type": "code",
   "execution_count": null,
   "metadata": {
    "collapsed": true
   },
   "outputs": [],
   "source": [
    "hapseg_task1 = gp.GPTask(gpserver, 'urn:lsid:broad.mit.edu:cancer.software.genepattern.module.analysis:00308:1.3')\n",
    "hapseg_job1_spec = hapseg_task1.make_job_spec()\n",
    "hapseg_job1_spec.set_parameter(\"plate.name\", \"DRAWS\")\n",
    "hapseg_job1_spec.set_parameter(\"array.name\", \"<BASE NAME OF SNP RDATA FILE>\")\n",
    "hapseg_job1_spec.set_parameter(\"snp.file\", \"<BATCH OVER THE SNP RDATA FILES>\")\n",
    "hapseg_job1_spec.set_parameter(\"genome.build\", \"hg18\")\n",
    "hapseg_job1_spec.set_parameter(\"platform\", \"SNP_250K_STY\")\n",
    "hapseg_job1_spec.set_parameter(\"use.pop\", \"CEPH\")\n",
    "hapseg_job1_spec.set_parameter(\"impute.gt\", \"FALSE\")\n",
    "hapseg_job1_spec.set_parameter(\"plot.segfit\", \"TRUE\")\n",
    "hapseg_job1_spec.set_parameter(\"merge.small\", \"TRUE\")\n",
    "hapseg_job1_spec.set_parameter(\"merge.close\", \"TRUE\")\n",
    "hapseg_job1_spec.set_parameter(\"min.seg.size\", \"5\")\n",
    "hapseg_job1_spec.set_parameter(\"normal\", \"FALSE\")\n",
    "hapseg_job1_spec.set_parameter(\"out.p\", \"0.001\")\n",
    "hapseg_job1_spec.set_parameter(\"seg.merge.thresh\", \"1e-10\")\n",
    "hapseg_job1_spec.set_parameter(\"use.normal\", \"TRUE\")\n",
    "hapseg_job1_spec.set_parameter(\"drop.x\", \"TRUE\")\n",
    "hapseg_job1_spec.set_parameter(\"drop.y\", \"FALSE\")\n",
    "hapseg_job1_spec.set_parameter(\"calibrate.data\", \"TRUE\")\n",
    "\n",
    "GPTaskWidget(hapseg_task1)"
   ]
  },
  {
   "cell_type": "code",
   "execution_count": null,
   "metadata": {
    "collapsed": true
   },
   "outputs": [],
   "source": []
  },
  {
   "cell_type": "code",
   "execution_count": null,
   "metadata": {
    "collapsed": true
   },
   "outputs": [],
   "source": []
  }
 ],
 "metadata": {
  "kernelspec": {
   "display_name": "Python 2",
   "language": "python",
   "name": "python2"
  },
  "language_info": {
   "codemirror_mode": {
    "name": "ipython",
    "version": 2
   },
   "file_extension": ".py",
   "mimetype": "text/x-python",
   "name": "python",
   "nbconvert_exporter": "python",
   "pygments_lexer": "ipython2",
   "version": "2.7.5"
  }
 },
 "nbformat": 4,
 "nbformat_minor": 0
}
