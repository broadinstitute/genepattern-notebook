{
 "metadata": {
  "name": "",
  "signature": "sha256:8752ce1c27c4292fbfecb3fc951413f3125f5ea77b2d70bd631153553a043282"
 },
 "nbformat": 3,
 "nbformat_minor": 0,
 "worksheets": [
  {
   "cells": [
    {
     "cell_type": "code",
     "collapsed": false,
     "input": [
      "## LOAD GENEPATTERN IPYTHON MODULE\n",
      "## THEN IMPORT AND SET THE SERVER DATA\n",
      "%reload_ext genepattern\n",
      "from client import *\n",
      "server = ServerData(\"http://127.0.0.1:8080/gp\", \"tabor\", \"\")"
     ],
     "language": "python",
     "metadata": {},
     "outputs": [
      {
       "output_type": "stream",
       "stream": "stdout",
       "text": [
        "GenePattern IPython Module Loaded!\n"
       ]
      }
     ],
     "prompt_number": 26
    },
    {
     "cell_type": "code",
     "collapsed": false,
     "input": [
      "%get_job 807"
     ],
     "language": "python",
     "metadata": {},
     "outputs": [],
     "prompt_number": 32
    },
    {
     "cell_type": "code",
     "collapsed": false,
     "input": [
      "%get_task \"ConvertLineEndings\""
     ],
     "language": "python",
     "metadata": {},
     "outputs": [
      {
       "output_type": "stream",
       "stream": "stderr",
       "text": [
        "ERROR: Line magic function `%get_task` not found.\n"
       ]
      }
     ],
     "prompt_number": 33
    },
    {
     "cell_type": "code",
     "collapsed": false,
     "input": [
      "# CREATE THE JOB OBJECT AND LOAD THE DATA\n",
      "job = GPJob(\"http://127.0.0.1:8080/gp/rest/v1/jobs/746\")\n",
      "job.get_info(server)"
     ],
     "language": "python",
     "metadata": {},
     "outputs": [],
     "prompt_number": 34
    },
    {
     "cell_type": "code",
     "collapsed": false,
     "input": [
      "# DISPLAY JOB WIDGET SIMPLY BY RETURNING THE OBJECT\n",
      "job"
     ],
     "language": "python",
     "metadata": {},
     "outputs": [],
     "prompt_number": 35
    },
    {
     "cell_type": "code",
     "collapsed": false,
     "input": [
      "# YOU CAN ALSO ACCESS THE INFO AS A PYTHON OBJECT\n",
      "print \"Job Number: \" + str(job.job_number)\n",
      "print \"Task: \" + job.task_name\n",
      "print \"LSID: \" + job.task_lsid\n",
      "print \"User: \" + job.user_id\n",
      "print \"Status: \" + job.status\n",
      "print \"Submitted: \" + job.date_submitted\n",
      "print \"Output Count: \" + str(job.num_output_files)\n",
      "print \"Output Files: \" + str(job.output_files)\n",
      "print \"Log Files: \" + str(job.log_files)"
     ],
     "language": "python",
     "metadata": {},
     "outputs": [
      {
       "output_type": "stream",
       "stream": "stdout",
       "text": [
        "Job Number: 746\n",
        "Task: ComparativeMarkerSelection\n",
        "LSID: urn:lsid:broad.mit.edu:cancer.software.genepattern.module.analysis:00044:9\n",
        "User: tabor\n",
        "Status: The job finished without an error\n",
        "Submitted: 2014-10-21T17:06:03-07:00\n",
        "Output Count: 1\n",
        "Output Files: [{u'link': {u'href': u'http://127.0.0.1:8080/gp/jobResults/746/all_aml_test.comp.marker.odf', u'name': u'all_aml_test.comp.marker.odf', u'rel': u'gp_outputFile'}, u'lastModified': u'2014-10-21T14:06:21-07:00', u'kind': [u'Comparative Marker Selection'], u'fileLength': 2012135, u'path': u'all_aml_test.comp.marker.odf'}]\n",
        "Log Files: [{u'link': {u'href': u'http://127.0.0.1:8080/gp/jobResults/746/gp_execution_log.txt', u'name': u'gp_execution_log.txt', u'rel': u'gp_logFile'}, u'lastModified': u'2014-10-21T14:06:24-07:00', u'kind': [u'txt'], u'fileLength': 838, u'path': u'gp_execution_log.txt'}]\n"
       ]
      }
     ],
     "prompt_number": 36
    },
    {
     "cell_type": "code",
     "collapsed": false,
     "input": [],
     "language": "python",
     "metadata": {},
     "outputs": []
    }
   ],
   "metadata": {}
  }
 ]
}