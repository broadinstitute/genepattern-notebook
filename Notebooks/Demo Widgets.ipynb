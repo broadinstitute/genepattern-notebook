{
 "metadata": {
  "name": "",
  "signature": "sha256:7a579909133059268d3480726844f07aa156e783b28b70e699baff753597ab08"
 },
 "nbformat": 3,
 "nbformat_minor": 0,
 "worksheets": [
  {
   "cells": [
    {
     "cell_type": "code",
     "collapsed": false,
     "input": [
      "## LOAD GENEPATTERN IPYTHON MODULE\n",
      "## THEN IMPORT AND SET THE SERVER DATA\n",
      "%reload_ext genepattern\n",
      "from client import *\n",
      "server = ServerData(\"http://127.0.0.1:8080/gp\", \"tabor\", \"\")"
     ],
     "language": "python",
     "metadata": {},
     "outputs": [
      {
       "output_type": "stream",
       "stream": "stdout",
       "text": [
        "GenePattern IPython Module Loaded!\n"
       ]
      }
     ],
     "prompt_number": 1
    },
    {
     "cell_type": "code",
     "collapsed": false,
     "input": [
      "# CREATE THE JOB OBJECT AND LOAD THE DATA\n",
      "job = GPJob(\"http://127.0.0.1:8080/gp/rest/v1/jobs/746\")\n",
      "job.get_info(server)"
     ],
     "language": "python",
     "metadata": {},
     "outputs": [],
     "prompt_number": 2
    },
    {
     "cell_type": "code",
     "collapsed": false,
     "input": [
      "# DISPLAY JOB WIDGET SIMPLY BY RETURNING THE OBJECT\n",
      "job"
     ],
     "language": "python",
     "metadata": {},
     "outputs": [],
     "prompt_number": 3
    },
    {
     "cell_type": "code",
     "collapsed": false,
     "input": [
      "# YOU CAN ALSO ACCESS THE INFO AS A PYTHON OBJECT\n",
      "print \"Job Number: \" + str(job.job_number)\n",
      "print \"Task: \" + job.task_name\n",
      "print \"LSID: \" + job.task_lsid\n",
      "print \"User: \" + job.user_id\n",
      "print \"Status: \" + job.status\n",
      "print \"Submitted: \" + job.date_submitted\n",
      "print \"Output Count: \" + str(job.num_output_files)\n",
      "print \"Output Files: \" + str(job.output_files)\n",
      "print \"Log Files: \" + str(job.log_files)"
     ],
     "language": "python",
     "metadata": {},
     "outputs": [
      {
       "output_type": "stream",
       "stream": "stdout",
       "text": [
        "Job Number: 746\n",
        "Task: ComparativeMarkerSelection\n",
        "LSID: urn:lsid:broad.mit.edu:cancer.software.genepattern.module.analysis:00044:9\n",
        "User: tabor\n",
        "Status: The job finished without an error\n",
        "Submitted: 2014-10-21T17:06:03-07:00\n",
        "Output Count: 1\n",
        "Output Files: [{u'link': {u'href': u'http://127.0.0.1:8080/gp/jobResults/746/all_aml_test.comp.marker.odf', u'name': u'all_aml_test.comp.marker.odf', u'rel': u'gp_outputFile'}, u'lastModified': u'2014-10-21T14:06:21-07:00', u'kind': [u'Comparative Marker Selection'], u'fileLength': 2012135, u'path': u'all_aml_test.comp.marker.odf'}]\n",
        "Log Files: [{u'link': {u'href': u'http://127.0.0.1:8080/gp/jobResults/746/gp_execution_log.txt', u'name': u'gp_execution_log.txt', u'rel': u'gp_logFile'}, u'lastModified': u'2014-10-21T14:06:24-07:00', u'kind': [u'txt'], u'fileLength': 838, u'path': u'gp_execution_log.txt'}]\n"
       ]
      }
     ],
     "prompt_number": 4
    },
    {
     "cell_type": "code",
     "collapsed": false,
     "input": [
      "# ALTERNATELY A JOB WIDGET CAN BE LOADED USING A MAGICS STATEMENT\n",
      "# cmd / server url / username / password / job number\n",
      "%get_job http://127.0.0.1:8080/gp tabor \"\" 807"
     ],
     "language": "python",
     "metadata": {},
     "outputs": [],
     "prompt_number": 5
    },
    {
     "cell_type": "code",
     "collapsed": false,
     "input": [
      "# CREATE THE TASK OBJECT AND LOAD THE DATA\n",
      "task = GPTask(\"Cufflinks\", server)"
     ],
     "language": "python",
     "metadata": {},
     "outputs": [],
     "prompt_number": 6
    },
    {
     "cell_type": "code",
     "collapsed": false,
     "input": [
      "# DISPLAY TASK WIDGET SIMPLY BY RETURNING THE OBJECT\n",
      "task"
     ],
     "language": "python",
     "metadata": {},
     "outputs": [],
     "prompt_number": 7
    },
    {
     "cell_type": "code",
     "collapsed": false,
     "input": [
      "print \"Name: \" + task.name\n",
      "print \"LSID: \" + task.lsid\n",
      "print \"Version: \" + task.version\n",
      "print \"Documentation: \" + task.documentation\n",
      "print \"Description: \" + task.description\n",
      "print \"Params: \" + str(len(task.params)) + \" different params\""
     ],
     "language": "python",
     "metadata": {},
     "outputs": [
      {
       "output_type": "stream",
       "stream": "stdout",
       "text": [
        "Name: Cufflinks\n",
        "LSID: urn:lsid:broad.mit.edu:cancer.software.genepattern.module.analysis:00231:4\n",
        "Version: 4\n",
        "Documentation: /gp/getTaskDoc.jsp?name=urn%3Alsid%3Abroad.mit.edu%3Acancer.software.genepattern.module.analysis%3A00231%3A4\n",
        "Description: Cufflinks 2.0.2 - Assembles transcripts, estimates abundances, and tests for differential expression and regulation in RNA-seq samples\n",
        "Params: 9 different params\n"
       ]
      }
     ],
     "prompt_number": 8
    },
    {
     "cell_type": "code",
     "collapsed": false,
     "input": [
      "%get_task http://127.0.0.1:8080/gp tabor \"\" TopHatFixed"
     ],
     "language": "python",
     "metadata": {},
     "outputs": [],
     "prompt_number": 9
    },
    {
     "cell_type": "code",
     "collapsed": false,
     "input": [
      "# WE CAN PROGRAMMATICALLY GET A TASK, FILL OUT THE RUN TASK FORM AND RUN A JOB\n",
      "task = GPTask(\"ConvertLineEndings\", server)\n",
      "task"
     ],
     "language": "python",
     "metadata": {},
     "outputs": [],
     "prompt_number": 10
    },
    {
     "cell_type": "code",
     "collapsed": false,
     "input": [
      "# AFTER RUNNING A JOB, A REFERENCE TO THE JOB IS ATTACHED TO THE TASK OBJECT\n",
      "# WE CAN MAKE A PYTHON CALL TO REFRESH THE STATUS OR RETURN IT TO SEE THE WIDGET\n",
      "task.job.get_info(server)\n",
      "task.job"
     ],
     "language": "python",
     "metadata": {},
     "outputs": [],
     "prompt_number": 20
    },
    {
     "cell_type": "code",
     "collapsed": false,
     "input": [
      "# OTHER METADATA OF THE JOB CAN BE ACCESSED IN PYTHON\n",
      "print \"Job Number: \" + str(task.job.job_number)\n",
      "print \"Task Name: \" + task.job.task_name\n",
      "print \"... Etc.\""
     ],
     "language": "python",
     "metadata": {},
     "outputs": [
      {
       "output_type": "stream",
       "stream": "stdout",
       "text": [
        "Job Number: 822\n",
        "Task Name: ConvertLineEndings\n",
        "... Etc.\n"
       ]
      }
     ],
     "prompt_number": 21
    },
    {
     "cell_type": "code",
     "collapsed": false,
     "input": [],
     "language": "python",
     "metadata": {},
     "outputs": []
    }
   ],
   "metadata": {}
  }
 ]
}